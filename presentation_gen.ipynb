{
 "cells": [
  {
   "cell_type": "code",
   "execution_count": 17,
   "metadata": {},
   "outputs": [],
   "source": [
    "from pydantic_ai import Agent\n",
    "from pydantic_graph import BaseNode, GraphRunContext, End, Graph\n",
    "from pydantic_ai.providers.google_gla import GoogleGLAProvider\n",
    "from pydantic_ai.models.gemini import GeminiModel\n",
    "from dotenv import load_dotenv\n",
    "import os\n",
    "from pydantic import Field\n",
    "from typing import  List, Dict, Optional\n",
    "from dataclasses import dataclass\n",
    "from IPython.display import Image, display\n",
    "load_dotenv()\n",
    "\n",
    "google_api_key=os.getenv('google_api_key')\n"
   ]
  },
  {
   "cell_type": "code",
   "execution_count": 7,
   "metadata": {},
   "outputs": [],
   "source": [
    "llm=GeminiModel('gemini-2.0-flash', provider=GoogleGLAProvider(api_key=google_api_key))"
   ]
  },
  {
   "cell_type": "code",
   "execution_count": 4,
   "metadata": {},
   "outputs": [],
   "source": [
    "@dataclass\n",
    "class State:\n",
    "    research: str\n",
    "    presentation_plan: List[Dict]\n",
    "    images: List[Dict]\n",
    "    presentation: Dict"
   ]
  },
  {
   "cell_type": "code",
   "execution_count": 9,
   "metadata": {},
   "outputs": [],
   "source": [
    "@dataclass\n",
    "class image:\n",
    "    image_description: str = Field(description='the image description')\n",
    "    image_title: str = Field(description='the image title')\n",
    "    image_position: int = Field(description='the image position in the presentation')\n",
    "\n",
    "@dataclass\n",
    "class text:\n",
    "    Text_description: str = Field(description='the text description')\n",
    "    Text_title: str = Field(description='the text title')\n",
    "    Text_position: int = Field(description='the text position in the presentation')\n",
    "\n",
    "@dataclass\n",
    "class steps:\n",
    "    step: str = Field(description='the step to complete, either image_gen or get_text')\n",
    "    image_data: Optional[image] = Field(description='the image to be displayed in the step')\n",
    "    text_data: Optional[text] = Field(description='the text to be displayed in the step')\n",
    "\n",
    "@dataclass\n",
    "class Presentation_plan:\n",
    "    tasks: list[steps] = Field(description='the steps to complete')"
   ]
  },
  {
   "cell_type": "code",
   "execution_count": 8,
   "metadata": {},
   "outputs": [],
   "source": [
    "presentation_plan_agent=Agent(llm, result_type=Presentation_plan, system_prompt='generate a presentation plan based on the research')"
   ]
  },
  {
   "cell_type": "code",
   "execution_count": 13,
   "metadata": {},
   "outputs": [],
   "source": [
    "class Presentation_plan_node(BaseNode[State]):\n",
    "    async def run(self, ctx: GraphRunContext[State])->End:\n",
    "        prompt=f'generate a presentation plan based on the research: {ctx.state.research}'\n",
    "        result=await presentation_plan_agent.run(prompt)\n",
    "        ctx.state.presentation_plan=result.data.tasks\n",
    "        return step_execution_node()"
   ]
  },
  {
   "cell_type": "code",
   "execution_count": 11,
   "metadata": {},
   "outputs": [],
   "source": [
    "class should_continue_node(BaseNode[State]):\n",
    "    async def run(self, ctx: GraphRunContext[State])->End:\n",
    "        if ctx.state.presentation_plan.tasks:\n",
    "            return step_execution_node()\n",
    "        else:\n",
    "            return End()\n",
    "            \n"
   ]
  },
  {
   "cell_type": "code",
   "execution_count": 10,
   "metadata": {},
   "outputs": [],
   "source": [
    "class step_execution_node(BaseNode[State]):\n",
    "    async def run(self, ctx: GraphRunContext[State])->End:\n",
    "        if ctx.state.presentation_plan.tasks[0].step=='image_gen':\n",
    "            image_data={\n",
    "                        'image_title':ctx.state.presentation_plan.tasks[0].image_data.image_title, \n",
    "                        'image_url':'example_image_url'}\n",
    "            ctx.state.images.append(image_data)\n",
    "            ctx.state.presentation_plan.tasks.pop(0)\n",
    "            return should_continue_node()\n",
    "        elif ctx.state.presentation_plan.tasks[0].step=='get_text':\n",
    "            text_data={\n",
    "                        'text_title':ctx.state.presentation_plan.tasks[0].text_data.text_title, \n",
    "                        'text_content':'example_text_content'}  \n",
    "            ctx.state.texts.append(text_data)\n",
    "            ctx.state.presentation_plan.tasks.pop(0)\n",
    "            return should_continue_node()"
   ]
  },
  {
   "cell_type": "code",
   "execution_count": 18,
   "metadata": {},
   "outputs": [],
   "source": [
    "class Presentation_gen:\n",
    "    def __init__(self):\n",
    "        self.graph=Graph(nodes=[Presentation_plan_node, should_continue_node, step_execution_node])\n",
    "        self.state=State(research='', presentation_plan=[], images=[], presentation={})\n",
    "\n",
    "    async def chat(self,research:str):\n",
    "        \"\"\"Chat with the deep research engine,\n",
    "        Args:\n",
    "            query (str): The query to search for\n",
    "        Returns:\n",
    "            str: The response from the deep research engine\n",
    "        \"\"\"\n",
    "        self.state.research=research\n",
    "        response=await self.graph.run(Presentation_plan_node(),state=self.state)\n",
    "        return response.output\n",
    "\n",
    "\n",
    "    def display_graph(self):\n",
    "        \"\"\"Display the graph of the deep research engine\n",
    "        Returns:\n",
    "            Image: The image of the graph\n",
    "        \"\"\"\n",
    "        image=self.graph.mermaid_image()\n",
    "        return display(Image(image))"
   ]
  },
  {
   "cell_type": "code",
   "execution_count": 15,
   "metadata": {},
   "outputs": [],
   "source": [
    "prs=Presentation_gen()\n"
   ]
  },
  {
   "cell_type": "code",
   "execution_count": 19,
   "metadata": {},
   "outputs": [
    {
     "data": {
      "image/jpeg": "[encoded data removed]",
      "text/plain": [
       "<IPython.core.display.Image object>"
      ]
     },
     "metadata": {},
     "output_type": "display_data"
    }
   ],
   "source": [
    "prs.display_graph()"
   ]
  }
 ],
 "metadata": {
  "kernelspec": {
   "display_name": ".venv",
   "language": "python",
   "name": "python3"
  },
  "language_info": {
   "codemirror_mode": {
    "name": "ipython",
    "version": 3
   },
   "file_extension": ".py",
   "mimetype": "text/x-python",
   "name": "python",
   "nbconvert_exporter": "python",
   "pygments_lexer": "ipython3",
   "version": "3.13.2"
  }
 },
 "nbformat": 4,
 "nbformat_minor": 2
}
