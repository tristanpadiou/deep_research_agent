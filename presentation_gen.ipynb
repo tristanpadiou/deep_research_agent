{
 "cells": [
  {
   "cell_type": "code",
   "execution_count": 70,
   "metadata": {},
   "outputs": [],
   "source": [
    "from pydantic_ai import Agent\n",
    "from pydantic_graph import BaseNode, GraphRunContext, End, Graph\n",
    "from pydantic_ai.providers.google_gla import GoogleGLAProvider\n",
    "from pydantic_ai.models.gemini import GeminiModel\n",
    "from pydantic_ai.format_as_xml import format_as_xml\n",
    "from dotenv import load_dotenv\n",
    "import os\n",
    "from pydantic import Field, BaseModel\n",
    "from typing import  List, Dict, Optional, Union, Tuple\n",
    "from enum import Enum\n",
    "from pptx.util import Inches\n",
    "from pptx.enum.text import PP_ALIGN\n",
    "from pptx.dml.color import RGBColor\n",
    "\n",
    "from dataclasses import dataclass\n",
    "from IPython.display import Image, display  \n",
    "import time\n",
    "import requests\n",
    "load_dotenv()\n",
    "\n",
    "google_api_key=os.getenv('google_api_key')\n",
    "pse=os.getenv('pse')\n",
    "llm=GeminiModel('gemini-2.0-flash', provider=GoogleGLAProvider(api_key=google_api_key))"
   ]
  },
  {
   "cell_type": "code",
   "execution_count": 81,
   "metadata": {},
   "outputs": [],
   "source": [
    "\n",
    "\n",
    "@dataclass\n",
    "class State:\n",
    "    instruction: str\n",
    "    presentation_style: str\n",
    "    research: str\n",
    "    presentation_plan: List[Dict]\n",
    "    presentation: Dict\n",
    "    presentation_config: Dict\n",
    "\n",
    "\n",
    "\n",
    "class ChartType(str, Enum):\n",
    "    COLUMN_CLUSTERED = \"column_clustered\"\n",
    "    LINE = \"line\"\n",
    "    PIE = \"pie\"\n",
    "    BAR = \"bar\"\n",
    "    SCATTER = \"scatter\"\n",
    "class Position(BaseModel):\n",
    "    left: float\n",
    "    top: float\n",
    "    width: float\n",
    "    height: float\n",
    "\n",
    "class Font_color(BaseModel):\n",
    "    red: int\n",
    "    green: int\n",
    "    blue: int\n",
    "\n",
    "class TextFormat(BaseModel):\n",
    "# Prevent additional properties\n",
    "        \n",
    "    font_size: Optional[float] = Field(default=11.0, description=\"Font size in points\")\n",
    "    font_color: Optional[Font_color] = Field(default=Font_color(red=0, green=0, blue=0), description=\"RGB color tuple\")\n",
    "    is_bold: Optional[bool] = Field(default=False)\n",
    "    is_italic: Optional[bool] = Field(default=False)\n",
    "    alignment: Optional[str] = Field(default=\"LEFT\")  # Use string instead of PP_ALIGN\n",
    "\n",
    "class BulletPoint(BaseModel):\n",
    "\n",
    "        \n",
    "    text: str\n",
    "    level: int = Field(default=0, ge=0, le=8, description=\"Bullet point level (0-8)\")\n",
    "    format: Optional[TextFormat] = Field(default_factory=TextFormat)\n",
    "\n",
    "class ChartData(BaseModel):\n",
    "\n",
    "    type: ChartType\n",
    "    title: str\n",
    "    categories: List[str]\n",
    "    series: List[Dict[str, List[float]]]\n",
    "    position: Position = Field(\n",
    "        default=Position(left=2, top=2, width=6, height=4.5),\n",
    "        description=\"(left, top, width, height) in inches\"\n",
    "    )\n",
    "\n",
    "class TextBox(BaseModel):\n",
    "\n",
    "    text: str\n",
    "    position: Position = Field(\n",
    "        default=Position(left=1, top=1, width=8, height=5),\n",
    "        description=\"(left, top, width, height) in inches\"\n",
    "    )\n",
    "    format: Optional[TextFormat] = Field(default_factory=TextFormat)\n",
    "\n",
    "class SlideContent(BaseModel):\n",
    "\n",
    "        \n",
    "    title: Optional[str] = None\n",
    "    bullet_points: Optional[List[BulletPoint]] = None\n",
    "    text_boxes: Optional[List[TextBox]] = None\n",
    "    # chart: Optional[ChartData] = None\n",
    "    image_url: Optional[str] = None\n",
    "    image_position: Optional[Position] = Field(\n",
    "        default=None,\n",
    "        description=\"(left, top, width, height) in inches\"\n",
    "    )\n",
    "\n",
    "\n",
    "\n",
    "class PresentationConfig(BaseModel):\n",
    "\n",
    "    title: str\n",
    "    slides: List[SlideContent]=None\n",
    "    subtitle: Optional[str] = None\n",
    "    output_path: Optional[str] = None\n",
    "    theme: Optional[str] = None  # Path to theme file\n",
    "    slide_width: float = Field(default=10.0)\n",
    "    slide_height: float = Field(default=7.5)\n",
    "\n",
    "\n",
    "\n",
    "\n",
    "def google_image_search(query:str):\n",
    "  \"\"\"Search for images using Google Custom Search API\n",
    "  args: query\n",
    "  return: image url\n",
    "  \"\"\"\n",
    "  # Define the API endpoint for Google Custom Search\n",
    "  url = \"https://www.googleapis.com/customsearch/v1\"\n",
    "\n",
    "  params = {\n",
    "      \"q\": query,\n",
    "      \"cx\": pse,\n",
    "      \"key\": google_api_key,\n",
    "      \"searchType\": \"image\",  # Search for images\n",
    "      \"num\": 1  # Number of results to fetch\n",
    "  }\n",
    "\n",
    "  # Make the request to the Google Custom Search API\n",
    "  response = requests.get(url, params=params)\n",
    "  data = response.json()\n",
    "\n",
    "  # Check if the response contains image results\n",
    "  if 'items' in data:\n",
    "      # Extract the first image result\n",
    "      image_url = data['items'][0]['link']\n",
    "      return image_url\n",
    "  \n",
    "text_extraction_agent=Agent(llm, system_prompt='extract the text from the reaserch based on the instructions')\n",
    "\n",
    "class step_execution_node(BaseNode[State]):\n",
    "    async def run(self, ctx: GraphRunContext[State])-> End:\n",
    "        for page in ctx.state.presentation.keys():\n",
    "            time.sleep(2)\n",
    "            if ctx.state.presentation[page].get('image_title'):\n",
    "                ctx.state.presentation[page]['image_url']=google_image_search(ctx.state.presentation[page]['image_title'])\n",
    "            if ctx.state.presentation[page].get('text_to_extract'):\n",
    "                result=await text_extraction_agent.run(f'extract the text from the research: {ctx.state.research} based on the instructions: {ctx.state.presentation[page]['text_to_extract']}')\n",
    "                ctx.state.presentation[page]['text_content']=result.data\n",
    "        \n",
    "        return End(ctx.state.presentation_config)\n",
    "    \n",
    "\n",
    "class clean_up_node(BaseNode[State]):\n",
    "    async def run(self, ctx: GraphRunContext[State])-> step_execution_node:\n",
    "        page_number=1\n",
    "        for task in ctx.state.presentation_plan.tasks:\n",
    "            ctx.state.presentation[f'page_{page_number}']={'title':task.text_data.Text_title, 'text_to_extract':task.text_data.Text_to_extract,'image_title':task.image_data.image_title if task.image_data else None,'image_url':task.image_data.image_url if task.image_data else None}\n",
    "            page_number+=1\n",
    "        return step_execution_node()\n",
    "    \n",
    "pptx_agent=Agent(llm, result_type=PresentationConfig, system_prompt='generate a base presentation config based on the presentation plan')\n",
    "class pptx_presentation(BaseNode[State]):\n",
    "    async def run(self, ctx: GraphRunContext[State])-> clean_up_node:\n",
    "        result=await pptx_agent.run(f'generate a base presentation config based on the presentation plan: {ctx.state.presentation_plan}')\n",
    "        ctx.state.presentation_config=result.data\n",
    "        return clean_up_node()\n",
    "    \n",
    "\n",
    "\n",
    "\n",
    "@dataclass\n",
    "class image:\n",
    "    image_title: Optional[str] = Field(description='the image title')\n",
    "    image_url: Optional[str] = None\n",
    "\n",
    "@dataclass\n",
    "class text:\n",
    "    Text_to_extract: str = Field(description=' a description of the text to extract from the research')\n",
    "    Text_title: str = Field(description='the text title')\n",
    "    Text_content: str = None\n",
    "\n",
    "@dataclass\n",
    "class steps:\n",
    "    image_data: Optional[image] = Field(description='the image data, optional')\n",
    "    text_data: text = Field(description='the text data')\n",
    "\n",
    "@dataclass\n",
    "class Presentation_plan:\n",
    "    tasks: List[steps] = Field(description='the steps to complete')\n",
    "\n",
    "\n",
    "presentation_plan_agent=Agent(llm, result_type=Presentation_plan, system_prompt='generate a presentation plan based on the research and instruction (if any), choose wether to use images or not for each step')\n",
    "        \n",
    "class Presentation_plan_node(BaseNode[State]):\n",
    "    async def run(self, ctx: GraphRunContext[State])->step_execution_node:\n",
    "        prompt=f'generate a presentation plan based on the research: {ctx.state.research} and instruction: {ctx.state.instruction} (if any), choose wether to use images or not for each step, make sure that the sources URLs are included in the presentation'\n",
    "        result=await presentation_plan_agent.run(prompt)\n",
    "        ctx.state.presentation_plan=result.data\n",
    "        return step_execution_node()"
   ]
  },
  {
   "cell_type": "code",
   "execution_count": 82,
   "metadata": {},
   "outputs": [],
   "source": [
    "class Presentation_gen:\n",
    "    def __init__(self):\n",
    "        self.graph=Graph(nodes=[Presentation_plan_node, step_execution_node, clean_up_node, pptx_presentation])\n",
    "        self.state=State(research='', presentation_plan=[], presentation={}, presentation_config={}, presentation_style='', instruction='')\n",
    "\n",
    "    async def chat(self,research:str, presentation_style:Optional[str]='None', instruction:Optional[str]='None'):\n",
    "        \"\"\"Chat with the presentation generator,\n",
    "        Args:\n",
    "            research (str): The research to generate a presentation for\n",
    "            presentation_style (str): The style of the presentation\n",
    "            instruction (str): The instruction for the presentation\n",
    "        Returns:\n",
    "            str: The response from the presentation generator\n",
    "        \"\"\"\n",
    "        self.state.research=research\n",
    "        self.state.presentation_style=presentation_style\n",
    "        self.state.instruction=instruction\n",
    "        response=await self.graph.run(Presentation_plan_node(),state=self.state)\n",
    "        return response.output\n",
    "\n",
    "\n",
    "    def display_graph(self):\n",
    "        \"\"\"Display the graph of the deep research engine\n",
    "        Returns:\n",
    "            Image: The image of the graph\n",
    "        \"\"\"\n",
    "        image=self.graph.mermaid_image()\n",
    "        return display(Image(image))"
   ]
  },
  {
   "cell_type": "code",
   "execution_count": 77,
   "metadata": {},
   "outputs": [],
   "source": [
    "search='# Blind Snakes of the Bahamas\\n\\nBlind snakes, belonging to the family Typhlopidae, are small, burrowing snakes with a worm-like appearance. Several species are found in the Bahamas, including the Bahamian slender blind snake (Cubatyphlops biminiensis) and the Brown Blind Snake (Typhlops lumbricalis).\\n\\n## Species\\n\\n*   **Bahamian Slender Blind Snake (Cubatyphlops biminiensis):** This species is endemic to the Bahamas. Its conservation status is listed as Least Concern.\\n*   **Brown Blind Snake (Typhlops lumbricalis):** This species is found on most of the larger islands of the Bahamas, including the Abacos, Andros, the Berry Islands, Eleuthera, Cat Island, Long Island, and throughout the Exuma chain. On Bimini, they are commonly found in rotting logs and under rocks.\\n\\n## Characteristics\\n\\nBlind snakes are typically small and slender, resembling worms. They are adapted for burrowing, with smooth scales and reduced eyes.\\n\\n## Habitat and Distribution\\n\\nBahamian blind snakes inhabit various environments, including coppice dry forest habitat. They are often found under rocks, in rotting logs, and in the soil.\\n\\n## Conservation\\n\\nWhile some blind snake species are listed as Least Concern, they still face threats such as habitat loss and degradation due to human activities like urbanization and agriculture. Conservation efforts are important to ensure the survival of these unique reptiles.\\n\\n##Interesting facts\\n\\nIt is really hard to see these SMALL snakes in the Bahamas. Take one look at them, and you will notice they look more like small worms than the other snakes that live in the Bahamas.\\n\\n## References\\n\\n*   Animalia.bio: [https://animalia.bio/bahamian-slender-blind-snake](https://animalia.bio/bahamian-slender-blind-snake)\\n*   Wikipedia: [https://en.wikipedia.org/wiki/Bahamian_slender_blind_snake](https://en.wikipedia.org/wiki/Bahamian_slender_blind_snake)\\n*   Hummingbirdsplus.org: [https://www.hummingbirdsplus.org/nature-blog-network/the-5-types-of-snakes-found-on-the-bahamas/](https://www.hummingbirdsplus.org/nature-blog-network/the-5-types-of-snakes-found-on-the-bahamas/)\\n*   Biminisharklab.com: [https://www.biminisharklab.com/fauna-of-bimini-1/bahamian-brown-blind-snake](https://www.biminisharklab.com/fauna-of-bimini-1/bahamian-brown-blind-snake)\\n*   journals.ku.edu: [https://journals.ku.edu/reptilesandamphibians/article/download/15667/14618](https://journals.ku.edu/reptilesandamphibians/article/download/15667/14618)\\n*   Allenpress.com: [https://meridian.allenpress.com/herpetologica/article/67/2/194/32795/Taxonomy-of-the-Blind-Snakes-Associated-with](https://meridian.allenpress.com/herpetologica/article/67/2/194/32795/Taxonomy-of-the-Blind-Snakes-Associated-with)\\n*   Birdwatchinghq.com: [https://birdwatchinghq.com/snakes-of-the-Bahamas/](https://birdwatchinghq.com/snakes-of-the-Bahamas/)\\n*   Photoguides.org: [https://photoguides.org/snakes-in-the-bahamas/](https://photoguides.org/snakes-in-the-bahamas/)\\n*   Wildexplained.com: [https://wildexplained.com/animal-encyclopedia/the-western-blind-snake-uncovering-the-mystery-of-the-elusive-reptile/](https://wildexplained.com/animal-encyclopedia/the-western-blind-snake-uncovering-the-mystery-of-the-elusive-reptile/)\\n*   Wildexplained.com: [https://wildexplained.com/animal-encyclopedia/discovering-the-mysterious-blind-snake/](https://wildexplained.com/animal-encyclopedia/discovering-the-mysterious-blind-snake/)\\n\\n'"
   ]
  },
  {
   "cell_type": "code",
   "execution_count": 83,
   "metadata": {},
   "outputs": [],
   "source": [
    "pres=Presentation_gen()"
   ]
  },
  {
   "cell_type": "code",
   "execution_count": 84,
   "metadata": {},
   "outputs": [
    {
     "ename": "UnexpectedModelBehavior",
     "evalue": "Received empty model response",
     "output_type": "error",
     "traceback": [
      "\u001b[31m---------------------------------------------------------------------------\u001b[39m",
      "\u001b[31mUnexpectedModelBehavior\u001b[39m                   Traceback (most recent call last)",
      "\u001b[36mCell\u001b[39m\u001b[36m \u001b[39m\u001b[32mIn[84]\u001b[39m\u001b[32m, line 1\u001b[39m\n\u001b[32m----> \u001b[39m\u001b[32m1\u001b[39m res= \u001b[38;5;28;01mawait\u001b[39;00m pres.chat(search)\n",
      "\u001b[36mCell\u001b[39m\u001b[36m \u001b[39m\u001b[32mIn[82]\u001b[39m\u001b[32m, line 18\u001b[39m, in \u001b[36mPresentation_gen.chat\u001b[39m\u001b[34m(self, research, presentation_style, instruction)\u001b[39m\n\u001b[32m     16\u001b[39m \u001b[38;5;28mself\u001b[39m.state.presentation_style=presentation_style\n\u001b[32m     17\u001b[39m \u001b[38;5;28mself\u001b[39m.state.instruction=instruction\n\u001b[32m---> \u001b[39m\u001b[32m18\u001b[39m response=\u001b[38;5;28;01mawait\u001b[39;00m \u001b[38;5;28mself\u001b[39m.graph.run(Presentation_plan_node(),state=\u001b[38;5;28mself\u001b[39m.state)\n\u001b[32m     19\u001b[39m \u001b[38;5;28;01mreturn\u001b[39;00m response.output\n",
      "\u001b[36mFile \u001b[39m\u001b[32mc:\\Users\\trist\\OneDrive\\Desktop\\important\\ai_portfolio\\deep_research_agent\\.venv\\Lib\\site-packages\\pydantic_graph\\graph.py:169\u001b[39m, in \u001b[36mGraph.run\u001b[39m\u001b[34m(self, start_node, state, deps, persistence, infer_name, span)\u001b[39m\n\u001b[32m    164\u001b[39m     \u001b[38;5;28mself\u001b[39m._infer_name(inspect.currentframe())\n\u001b[32m    166\u001b[39m \u001b[38;5;28;01masync\u001b[39;00m \u001b[38;5;28;01mwith\u001b[39;00m \u001b[38;5;28mself\u001b[39m.iter(\n\u001b[32m    167\u001b[39m     start_node, state=state, deps=deps, persistence=persistence, span=span, infer_name=\u001b[38;5;28;01mFalse\u001b[39;00m\n\u001b[32m    168\u001b[39m ) \u001b[38;5;28;01mas\u001b[39;00m graph_run:\n\u001b[32m--> \u001b[39m\u001b[32m169\u001b[39m     \u001b[38;5;28;01masync\u001b[39;00m \u001b[38;5;28;01mfor\u001b[39;00m _node \u001b[38;5;129;01min\u001b[39;00m graph_run:\n\u001b[32m    170\u001b[39m         \u001b[38;5;28;01mpass\u001b[39;00m\n\u001b[32m    172\u001b[39m final_result = graph_run.result\n",
      "\u001b[36mFile \u001b[39m\u001b[32mc:\\Users\\trist\\OneDrive\\Desktop\\important\\ai_portfolio\\deep_research_agent\\.venv\\Lib\\site-packages\\pydantic_graph\\graph.py:782\u001b[39m, in \u001b[36mGraphRun.__anext__\u001b[39m\u001b[34m(self)\u001b[39m\n\u001b[32m    780\u001b[39m \u001b[38;5;28;01mif\u001b[39;00m \u001b[38;5;28misinstance\u001b[39m(\u001b[38;5;28mself\u001b[39m._next_node, End):\n\u001b[32m    781\u001b[39m     \u001b[38;5;28;01mraise\u001b[39;00m \u001b[38;5;167;01mStopAsyncIteration\u001b[39;00m\n\u001b[32m--> \u001b[39m\u001b[32m782\u001b[39m \u001b[38;5;28;01mreturn\u001b[39;00m \u001b[38;5;28;01mawait\u001b[39;00m \u001b[38;5;28mself\u001b[39m.next(\u001b[38;5;28mself\u001b[39m._next_node)\n",
      "\u001b[36mFile \u001b[39m\u001b[32mc:\\Users\\trist\\OneDrive\\Desktop\\important\\ai_portfolio\\deep_research_agent\\.venv\\Lib\\site-packages\\pydantic_graph\\graph.py:760\u001b[39m, in \u001b[36mGraphRun.next\u001b[39m\u001b[34m(self, node)\u001b[39m\n\u001b[32m    758\u001b[39m     \u001b[38;5;28;01masync\u001b[39;00m \u001b[38;5;28;01mwith\u001b[39;00m \u001b[38;5;28mself\u001b[39m.persistence.record_run(node_snapshot_id):\n\u001b[32m    759\u001b[39m         ctx = GraphRunContext(\u001b[38;5;28mself\u001b[39m.state, \u001b[38;5;28mself\u001b[39m.deps)\n\u001b[32m--> \u001b[39m\u001b[32m760\u001b[39m         \u001b[38;5;28mself\u001b[39m._next_node = \u001b[38;5;28;01mawait\u001b[39;00m node.run(ctx)\n\u001b[32m    762\u001b[39m \u001b[38;5;28;01mif\u001b[39;00m \u001b[38;5;28misinstance\u001b[39m(\u001b[38;5;28mself\u001b[39m._next_node, End):\n\u001b[32m    763\u001b[39m     \u001b[38;5;28mself\u001b[39m._snapshot_id = \u001b[38;5;28mself\u001b[39m._next_node.get_snapshot_id()\n",
      "\u001b[36mCell\u001b[39m\u001b[36m \u001b[39m\u001b[32mIn[81]\u001b[39m\u001b[32m, line 86\u001b[39m, in \u001b[36mpptx_slides.run\u001b[39m\u001b[34m(self, ctx)\u001b[39m\n\u001b[32m     84\u001b[39m     time.sleep(\u001b[32m2\u001b[39m)\n\u001b[32m     85\u001b[39m     page=ctx.state.presentation[key]\n\u001b[32m---> \u001b[39m\u001b[32m86\u001b[39m     result=\u001b[38;5;28;01mawait\u001b[39;00m slide_agent.run(\u001b[33mf\u001b[39m\u001b[33m'\u001b[39m\u001b[33mgenerate a presentation slide based on the page schema:\u001b[39m\u001b[38;5;132;01m{\u001b[39;00mpage\u001b[38;5;132;01m}\u001b[39;00m\u001b[33m, the slide width is \u001b[39m\u001b[38;5;132;01m{\u001b[39;00mctx.state.presentation_config.slide_width\u001b[38;5;132;01m}\u001b[39;00m\u001b[33m and the slide height is \u001b[39m\u001b[38;5;132;01m{\u001b[39;00mctx.state.presentation_config.slide_height\u001b[38;5;132;01m}\u001b[39;00m\u001b[33m \u001b[39m\u001b[33m'\u001b[39m)\n\u001b[32m     87\u001b[39m     ctx.state.presentation_config.slides.append(result.data)\n\u001b[32m     89\u001b[39m \u001b[38;5;28;01mreturn\u001b[39;00m End(ctx.state.presentation_config)\n",
      "\u001b[36mFile \u001b[39m\u001b[32mc:\\Users\\trist\\OneDrive\\Desktop\\important\\ai_portfolio\\deep_research_agent\\.venv\\Lib\\site-packages\\pydantic_ai\\agent.py:327\u001b[39m, in \u001b[36mAgent.run\u001b[39m\u001b[34m(self, user_prompt, result_type, message_history, model, deps, model_settings, usage_limits, usage, infer_name)\u001b[39m\n\u001b[32m    316\u001b[39m     \u001b[38;5;28mself\u001b[39m._infer_name(inspect.currentframe())\n\u001b[32m    317\u001b[39m \u001b[38;5;28;01masync\u001b[39;00m \u001b[38;5;28;01mwith\u001b[39;00m \u001b[38;5;28mself\u001b[39m.iter(\n\u001b[32m    318\u001b[39m     user_prompt=user_prompt,\n\u001b[32m    319\u001b[39m     result_type=result_type,\n\u001b[32m   (...)\u001b[39m\u001b[32m    325\u001b[39m     usage=usage,\n\u001b[32m    326\u001b[39m ) \u001b[38;5;28;01mas\u001b[39;00m agent_run:\n\u001b[32m--> \u001b[39m\u001b[32m327\u001b[39m     \u001b[38;5;28;01masync\u001b[39;00m \u001b[38;5;28;01mfor\u001b[39;00m _ \u001b[38;5;129;01min\u001b[39;00m agent_run:\n\u001b[32m    328\u001b[39m         \u001b[38;5;28;01mpass\u001b[39;00m\n\u001b[32m    330\u001b[39m \u001b[38;5;28;01massert\u001b[39;00m (final_result := agent_run.result) \u001b[38;5;129;01mis\u001b[39;00m \u001b[38;5;129;01mnot\u001b[39;00m \u001b[38;5;28;01mNone\u001b[39;00m, \u001b[33m'\u001b[39m\u001b[33mThe graph run did not finish properly\u001b[39m\u001b[33m'\u001b[39m\n",
      "\u001b[36mFile \u001b[39m\u001b[32mc:\\Users\\trist\\OneDrive\\Desktop\\important\\ai_portfolio\\deep_research_agent\\.venv\\Lib\\site-packages\\pydantic_ai\\agent.py:1414\u001b[39m, in \u001b[36mAgentRun.__anext__\u001b[39m\u001b[34m(self)\u001b[39m\n\u001b[32m   1410\u001b[39m \u001b[38;5;28;01masync\u001b[39;00m \u001b[38;5;28;01mdef\u001b[39;00m\u001b[38;5;250m \u001b[39m\u001b[34m__anext__\u001b[39m(\n\u001b[32m   1411\u001b[39m     \u001b[38;5;28mself\u001b[39m,\n\u001b[32m   1412\u001b[39m ) -> _agent_graph.AgentNode[AgentDepsT, ResultDataT] | End[FinalResult[ResultDataT]]:\n\u001b[32m   1413\u001b[39m \u001b[38;5;250m    \u001b[39m\u001b[33;03m\"\"\"Advance to the next node automatically based on the last returned node.\"\"\"\u001b[39;00m\n\u001b[32m-> \u001b[39m\u001b[32m1414\u001b[39m     next_node = \u001b[38;5;28;01mawait\u001b[39;00m \u001b[38;5;28mself\u001b[39m._graph_run.\u001b[34m__anext__\u001b[39m()\n\u001b[32m   1415\u001b[39m     \u001b[38;5;28;01mif\u001b[39;00m _agent_graph.is_agent_node(next_node):\n\u001b[32m   1416\u001b[39m         \u001b[38;5;28;01mreturn\u001b[39;00m next_node\n",
      "\u001b[36mFile \u001b[39m\u001b[32mc:\\Users\\trist\\OneDrive\\Desktop\\important\\ai_portfolio\\deep_research_agent\\.venv\\Lib\\site-packages\\pydantic_graph\\graph.py:782\u001b[39m, in \u001b[36mGraphRun.__anext__\u001b[39m\u001b[34m(self)\u001b[39m\n\u001b[32m    780\u001b[39m \u001b[38;5;28;01mif\u001b[39;00m \u001b[38;5;28misinstance\u001b[39m(\u001b[38;5;28mself\u001b[39m._next_node, End):\n\u001b[32m    781\u001b[39m     \u001b[38;5;28;01mraise\u001b[39;00m \u001b[38;5;167;01mStopAsyncIteration\u001b[39;00m\n\u001b[32m--> \u001b[39m\u001b[32m782\u001b[39m \u001b[38;5;28;01mreturn\u001b[39;00m \u001b[38;5;28;01mawait\u001b[39;00m \u001b[38;5;28mself\u001b[39m.next(\u001b[38;5;28mself\u001b[39m._next_node)\n",
      "\u001b[36mFile \u001b[39m\u001b[32mc:\\Users\\trist\\OneDrive\\Desktop\\important\\ai_portfolio\\deep_research_agent\\.venv\\Lib\\site-packages\\pydantic_graph\\graph.py:760\u001b[39m, in \u001b[36mGraphRun.next\u001b[39m\u001b[34m(self, node)\u001b[39m\n\u001b[32m    758\u001b[39m     \u001b[38;5;28;01masync\u001b[39;00m \u001b[38;5;28;01mwith\u001b[39;00m \u001b[38;5;28mself\u001b[39m.persistence.record_run(node_snapshot_id):\n\u001b[32m    759\u001b[39m         ctx = GraphRunContext(\u001b[38;5;28mself\u001b[39m.state, \u001b[38;5;28mself\u001b[39m.deps)\n\u001b[32m--> \u001b[39m\u001b[32m760\u001b[39m         \u001b[38;5;28mself\u001b[39m._next_node = \u001b[38;5;28;01mawait\u001b[39;00m node.run(ctx)\n\u001b[32m    762\u001b[39m \u001b[38;5;28;01mif\u001b[39;00m \u001b[38;5;28misinstance\u001b[39m(\u001b[38;5;28mself\u001b[39m._next_node, End):\n\u001b[32m    763\u001b[39m     \u001b[38;5;28mself\u001b[39m._snapshot_id = \u001b[38;5;28mself\u001b[39m._next_node.get_snapshot_id()\n",
      "\u001b[36mFile \u001b[39m\u001b[32mc:\\Users\\trist\\OneDrive\\Desktop\\important\\ai_portfolio\\deep_research_agent\\.venv\\Lib\\site-packages\\pydantic_ai\\_agent_graph.py:375\u001b[39m, in \u001b[36mCallToolsNode.run\u001b[39m\u001b[34m(self, ctx)\u001b[39m\n\u001b[32m    372\u001b[39m \u001b[38;5;28;01masync\u001b[39;00m \u001b[38;5;28;01mdef\u001b[39;00m\u001b[38;5;250m \u001b[39m\u001b[34mrun\u001b[39m(\n\u001b[32m    373\u001b[39m     \u001b[38;5;28mself\u001b[39m, ctx: GraphRunContext[GraphAgentState, GraphAgentDeps[DepsT, NodeRunEndT]]\n\u001b[32m    374\u001b[39m ) -> Union[ModelRequestNode[DepsT, NodeRunEndT], End[result.FinalResult[NodeRunEndT]]]:  \u001b[38;5;66;03m# noqa UP007\u001b[39;00m\n\u001b[32m--> \u001b[39m\u001b[32m375\u001b[39m     \u001b[38;5;28;01masync\u001b[39;00m \u001b[38;5;28;01mwith\u001b[39;00m \u001b[38;5;28mself\u001b[39m.stream(ctx):\n\u001b[32m    376\u001b[39m         \u001b[38;5;28;01mpass\u001b[39;00m\n\u001b[32m    378\u001b[39m     \u001b[38;5;28;01massert\u001b[39;00m (next_node := \u001b[38;5;28mself\u001b[39m._next_node) \u001b[38;5;129;01mis\u001b[39;00m \u001b[38;5;129;01mnot\u001b[39;00m \u001b[38;5;28;01mNone\u001b[39;00m, \u001b[33m'\u001b[39m\u001b[33mthe stream should set `self._next_node` before it ends\u001b[39m\u001b[33m'\u001b[39m\n",
      "\u001b[36mFile \u001b[39m\u001b[32m~\\AppData\\Local\\Programs\\Python\\Python313\\Lib\\contextlib.py:221\u001b[39m, in \u001b[36m_AsyncGeneratorContextManager.__aexit__\u001b[39m\u001b[34m(self, typ, value, traceback)\u001b[39m\n\u001b[32m    219\u001b[39m \u001b[38;5;28;01mif\u001b[39;00m typ \u001b[38;5;129;01mis\u001b[39;00m \u001b[38;5;28;01mNone\u001b[39;00m:\n\u001b[32m    220\u001b[39m     \u001b[38;5;28;01mtry\u001b[39;00m:\n\u001b[32m--> \u001b[39m\u001b[32m221\u001b[39m         \u001b[38;5;28;01mawait\u001b[39;00m anext(\u001b[38;5;28mself\u001b[39m.gen)\n\u001b[32m    222\u001b[39m     \u001b[38;5;28;01mexcept\u001b[39;00m \u001b[38;5;167;01mStopAsyncIteration\u001b[39;00m:\n\u001b[32m    223\u001b[39m         \u001b[38;5;28;01mreturn\u001b[39;00m \u001b[38;5;28;01mFalse\u001b[39;00m\n",
      "\u001b[36mFile \u001b[39m\u001b[32mc:\\Users\\trist\\OneDrive\\Desktop\\important\\ai_portfolio\\deep_research_agent\\.venv\\Lib\\site-packages\\pydantic_ai\\_agent_graph.py:390\u001b[39m, in \u001b[36mCallToolsNode.stream\u001b[39m\u001b[34m(self, ctx)\u001b[39m\n\u001b[32m    387\u001b[39m \u001b[38;5;28;01myield\u001b[39;00m stream\n\u001b[32m    389\u001b[39m \u001b[38;5;66;03m# Run the stream to completion if it was not finished:\u001b[39;00m\n\u001b[32m--> \u001b[39m\u001b[32m390\u001b[39m \u001b[38;5;28;01masync\u001b[39;00m \u001b[38;5;28;01mfor\u001b[39;00m _event \u001b[38;5;129;01min\u001b[39;00m stream:\n\u001b[32m    391\u001b[39m     \u001b[38;5;28;01mpass\u001b[39;00m\n",
      "\u001b[36mFile \u001b[39m\u001b[32mc:\\Users\\trist\\OneDrive\\Desktop\\important\\ai_portfolio\\deep_research_agent\\.venv\\Lib\\site-packages\\pydantic_ai\\_agent_graph.py:427\u001b[39m, in \u001b[36mCallToolsNode._run_stream\u001b[39m\u001b[34m(self, ctx)\u001b[39m\n\u001b[32m    423\u001b[39m             \u001b[38;5;28;01mraise\u001b[39;00m exceptions.UnexpectedModelBehavior(\u001b[33m'\u001b[39m\u001b[33mReceived empty model response\u001b[39m\u001b[33m'\u001b[39m)\n\u001b[32m    425\u001b[39m     \u001b[38;5;28mself\u001b[39m._events_iterator = _run_stream()\n\u001b[32m--> \u001b[39m\u001b[32m427\u001b[39m \u001b[38;5;28;01masync\u001b[39;00m \u001b[38;5;28;01mfor\u001b[39;00m event \u001b[38;5;129;01min\u001b[39;00m \u001b[38;5;28mself\u001b[39m._events_iterator:\n\u001b[32m    428\u001b[39m     \u001b[38;5;28;01myield\u001b[39;00m event\n",
      "\u001b[36mFile \u001b[39m\u001b[32mc:\\Users\\trist\\OneDrive\\Desktop\\important\\ai_portfolio\\deep_research_agent\\.venv\\Lib\\site-packages\\pydantic_ai\\_agent_graph.py:423\u001b[39m, in \u001b[36mCallToolsNode._run_stream.<locals>._run_stream\u001b[39m\u001b[34m()\u001b[39m\n\u001b[32m    421\u001b[39m     \u001b[38;5;28mself\u001b[39m._next_node = \u001b[38;5;28;01mawait\u001b[39;00m \u001b[38;5;28mself\u001b[39m._handle_text_response(ctx, texts)\n\u001b[32m    422\u001b[39m \u001b[38;5;28;01melse\u001b[39;00m:\n\u001b[32m--> \u001b[39m\u001b[32m423\u001b[39m     \u001b[38;5;28;01mraise\u001b[39;00m exceptions.UnexpectedModelBehavior(\u001b[33m'\u001b[39m\u001b[33mReceived empty model response\u001b[39m\u001b[33m'\u001b[39m)\n",
      "\u001b[31mUnexpectedModelBehavior\u001b[39m: Received empty model response"
     ]
    }
   ],
   "source": [
    "res= await pres.chat(search)"
   ]
  },
  {
   "cell_type": "code",
   "execution_count": 85,
   "metadata": {},
   "outputs": [
    {
     "data": {
      "text/plain": [
       "PresentationConfig(title='Blind Snakes of the Bahamas', slides=[SlideContent(title='Title: Blind Snakes of the Bahamas', bullet_points=None, text_boxes=None, image_url=None, image_position=None)], subtitle=None, output_path=None, theme=None, slide_width=10.0, slide_height=7.5)"
      ]
     },
     "execution_count": 85,
     "metadata": {},
     "output_type": "execute_result"
    }
   ],
   "source": [
    "pres.state.presentation_config"
   ]
  },
  {
   "cell_type": "code",
   "execution_count": 142,
   "metadata": {},
   "outputs": [
    {
     "data": {
      "text/plain": [
       "[steps(image_data=image(image_title='Title Slide', image_url='https://slidebazaar.com/wp-content/uploads/2023/02/Title-Slide-For-PowerPoint-Presentation.jpg'), text_data=text(Text_to_extract='Introduction to Blind Snakes in the Bahamas', Text_title='Blind Snakes of the Bahamas', Text_content='Blind snakes, belonging to the family Typhlopidae, are small, burrowing snakes with a worm-like appearance. Several species are found in the Bahamas, including the Bahamian slender blind snake (Cubatyphlops biminiensis) and the Brown Blind Snake (Typhlops lumbricalis).\\n')),\n",
       " steps(image_data=image(image_title='Species', image_url='https://m.media-amazon.com/images/M/MV5BMjEzOTkxNTcyM15BMl5BanBnXkFtZTcwOTk0MjI3NA@@._V1_.jpg'), text_data=text(Text_to_extract='Details of Bahamian Slender Blind Snake and Brown Blind Snake', Text_title='Species of Blind Snakes', Text_content='**Bahamian Slender Blind Snake (Cubatyphlops biminiensis):** This species is endemic to the Bahamas. Its conservation status is listed as Least Concern.\\n\\n**Brown Blind Snake (Typhlops lumbricalis):** This species is found on most of the larger islands of the Bahamas, including the Abacos, Andros, the Berry Islands, Eleuthera, Cat Island, Long Island, and throughout the Exuma chain. On Bimini, they are commonly found in rotting logs and under rocks.\\n')),\n",
       " steps(image_data=image(image_title='Characteristics', image_url='https://www.scribbr.com/wp-content/uploads/2023/03/demand-characteristics.webp'), text_data=text(Text_to_extract='Physical characteristics of blind snakes', Text_title='Characteristics', Text_content='Blind snakes are typically small and slender, resembling worms. They are adapted for burrowing, with smooth scales and reduced eyes.\\n')),\n",
       " steps(image_data=image(image_title='Habitat and Distribution', image_url='https://www.researchgate.net/publication/332757335/figure/fig3/AS:753371464093697@1556629162702/Models-of-habitat-distribution-considering-the-two-subspecies-separately-C-criuva.png'), text_data=text(Text_to_extract='Where blind snakes live', Text_title='Habitat and Distribution', Text_content='Bahamian blind snakes inhabit various environments, including coppice dry forest habitat. They are often found under rocks, in rotting logs, and in the soil.\\n')),\n",
       " steps(image_data=image(image_title='Conservation', image_url='https://lookaside.fbsbx.com/lookaside/crawler/media/?media_id=100064694438862'), text_data=text(Text_to_extract='Conservation efforts and threats', Text_title='Conservation Status', Text_content='**Conservation**\\n\\nWhile some blind snake species are listed as Least Concern, they still face threats such as habitat loss and degradation due to human activities like urbanization and agriculture. Conservation efforts are important to ensure the survival of these unique reptiles.\\n\\n**Threats**\\nhabitat loss and degradation due to human activities like urbanization and agriculture.\\n')),\n",
       " steps(image_data=image(image_title='Interesting Facts', image_url='https://media-cldnry.s-nbcnews.com/image/upload/t_fit-760w,f_auto,q_auto:best/rockcms/2024-10/interesting-facts-sc-101624-03-006072.jpg'), text_data=text(Text_to_extract='Interesting facts about the snakes', Text_title='Interesting Facts', Text_content='It is really hard to see these SMALL snakes in the Bahamas. Take one look at them, and you will notice they look more like small worms than the other snakes that live in the Bahamas.\\n')),\n",
       " steps(image_data=image(image_title='References', image_url='https://apastyle.apa.org/images/reference-list-example-page_tcm11-332355_w1024_n.png'), text_data=text(Text_to_extract='List of references', Text_title='References', Text_content='*   Animalia.bio: [https://animalia.bio/bahamian-slender-blind-snake](https://animalia.bio/bahamian-slender-blind-snake)\\n*   Wikipedia: [https://en.wikipedia.org/wiki/Bahamian_slender_blind_snake](https://en.wikipedia.org/wiki/Bahamian_slender_blind-snake)\\n*   Hummingbirdsplus.org: [https://www.hummingbirdsplus.org/nature-blog-network/the-5-types-of-snakes-found-on-the-bahamas/](https://www.hummingbirdsplus.org/nature-blog-network/the-5-types-of-snakes-found-on-the-bahamas/)\\n*   Biminisharklab.com: [https://www.biminisharklab.com/fauna-of-bimini-1/bahamian-brown-blind-snake](https://www.biminisharklab.com/fauna-of-bimini-1/bahamian-brown-blind-snake)\\n*   journals.ku.edu: [https://journals.ku.edu/reptilesandamphibians/article/download/15667/14618](https://journals.ku.edu/reptilesandamphibians/article/download/15667/14618)\\n*   Allenpress.com: [https://meridian.allenpress.com/herpetologica/article/67/2/194/32795/Taxonomy-of-the-Blind-Snakes-Associated-with](https://meridian.allenpress.com/herpetologica/article/67/2/194/32795/Taxonomy-of-the-Blind-Snakes-Associated-with)\\n*   Birdwatchinghq.com: [https://birdwatchinghq.com/snakes-of-the-Bahamas/](https://birdwatchinghq.com/snakes-of-the-Bahamas/)\\n*   Photoguides.org: [https://photoguides.org/snakes-in-the-bahamas/](https://photoguides.org/snakes-in-the-bahamas/)\\n*   Wildexplained.com: [https://wildexplained.com/animal-encyclopedia/the-western-blind-snake-uncovering-the-mystery-of-the-elusive-reptile/](https://wildexplained.com/animal-encyclopedia/the-western-blind-snake-uncovering-the-mystery-of-the-elusive-reptile/)\\n*   Wildexplained.com: [https://wildexplained.com/animal-encyclopedia/discovering-the-mysterious-blind-snake/](https://wildexplained.com/animal-encyclopedia/discovering-the-mysterious-blind-snake/)\\n'))]"
      ]
     },
     "execution_count": 142,
     "metadata": {},
     "output_type": "execute_result"
    }
   ],
   "source": [
    "pres.state.presentation_plan.tasks"
   ]
  },
  {
   "cell_type": "code",
   "execution_count": 107,
   "metadata": {},
   "outputs": [],
   "source": [
    "\n",
    "class ChartType(str, Enum):\n",
    "    COLUMN_CLUSTERED = \"column_clustered\"\n",
    "    LINE = \"line\"\n",
    "    PIE = \"pie\"\n",
    "    BAR = \"bar\"\n",
    "    SCATTER = \"scatter\"\n",
    "@dataclass\n",
    "class Position:\n",
    "    left: float\n",
    "    top: float\n",
    "    width: float\n",
    "    height: float\n",
    "\n",
    "@dataclass\n",
    "class Font_color:\n",
    "    red: int\n",
    "    green: int\n",
    "    blue: int\n",
    "\n",
    "@dataclass\n",
    "class TextFormat:\n",
    "# Prevent additional properties\n",
    "        \n",
    "    font_size: Optional[float] = Field(default=11.0, description=\"Font size in points\")\n",
    "    font_color: Optional[Font_color] = Field(default=Font_color(red=0, green=0, blue=0), description=\"RGB color tuple\")\n",
    "    is_bold: Optional[bool] = Field(default=False)\n",
    "    is_italic: Optional[bool] = Field(default=False)\n",
    "    alignment: Optional[str] = Field(default=\"LEFT\")  # Use string instead of PP_ALIGN\n",
    "@dataclass\n",
    "class BulletPoint:\n",
    "    class Config:\n",
    "        extra = \"forbid\"\n",
    "        \n",
    "    text: str\n",
    "    level: int = Field(default=0, ge=0, le=8, description=\"Bullet point level (0-8)\")\n",
    "    format: Optional[TextFormat] = Field(default_factory=TextFormat)\n",
    "@dataclass\n",
    "class ChartData:\n",
    "\n",
    "    type: ChartType\n",
    "    title: str\n",
    "    categories: List[str]\n",
    "    series: List[Dict[str, List[float]]]\n",
    "    position: Position = Field(\n",
    "        default=Position(left=2, top=2, width=6, height=4.5),\n",
    "        description=\"(left, top, width, height) in inches\"\n",
    "    )\n",
    "@dataclass\n",
    "class TextBox:\n",
    "\n",
    "    text: str\n",
    "    position: Position = Field(\n",
    "        default=Position(left=1, top=1, width=8, height=5),\n",
    "        description=\"(left, top, width, height) in inches\"\n",
    "    )\n",
    "    format: Optional[TextFormat] = Field(default_factory=TextFormat)\n",
    "@dataclass\n",
    "class SlideContent:\n",
    "\n",
    "        \n",
    "    title: Optional[str] = None\n",
    "    bullet_points: Optional[List[BulletPoint]] = None\n",
    "    text_boxes: Optional[List[TextBox]] = None\n",
    "    # chart: Optional[ChartData] = None\n",
    "    image_url: Optional[str] = Field()\n",
    "    image_position: Optional[Position] = None\n",
    "\n",
    "class Presentation_Config(BaseModel):\n",
    "        \n",
    "    title: str\n",
    "    slides: List[SlideContent]=[]\n",
    "    subtitle: Optional[str] = None\n",
    "    output_path: Optional[str] = None\n",
    "    theme: Optional[str] = None  # Path to theme file\n",
    "    slide_width: float = Field(default=10.0)\n",
    "    slide_height: float = Field(default=7.5)"
   ]
  },
  {
   "cell_type": "code",
   "execution_count": 120,
   "metadata": {},
   "outputs": [],
   "source": [
    "pptx_agent2=Agent(llm, result_type=Presentation_Config, system_prompt='generate a base presentation config based on the presentation plan')\n"
   ]
  },
  {
   "cell_type": "code",
   "execution_count": 123,
   "metadata": {},
   "outputs": [],
   "source": [
    "result=await pptx_agent2.run(f'generate a base presentation config with fake slides with fake text_boxes with fake text and fake images_url')"
   ]
  },
  {
   "cell_type": "code",
   "execution_count": 124,
   "metadata": {},
   "outputs": [
    {
     "data": {
      "text/plain": [
       "Presentation_Config(title='My Presentation', slides=[SlideContent(title='Slide 1', bullet_points=None, text_boxes=None, image_url=None, image_position=None), SlideContent(title='Slide 2', bullet_points=None, text_boxes=None, image_url=None, image_position=None)], subtitle=None, output_path=None, theme=None, slide_width=10.0, slide_height=7.5)"
      ]
     },
     "execution_count": 124,
     "metadata": {},
     "output_type": "execute_result"
    }
   ],
   "source": [
    "result.data"
   ]
  },
  {
   "cell_type": "code",
   "execution_count": 126,
   "metadata": {},
   "outputs": [
    {
     "data": {
      "text/plain": [
       "{'title': 'Species',\n",
       " 'text': '**Bahamian Slender Blind Snake (Cubatyphlops biminiensis):** This species is endemic to the Bahamas. Its conservation status is listed as Least Concern.\\n\\n**Brown Blind Snake (Typhlops lumbricalis):** This species is found on most of the larger islands of the Bahamas, including the Abacos, Andros, the Berry Islands, Eleuthera, Cat Island, Long Island, and throughout the Exuma chain. On Bimini, they are commonly found in rotting logs and under rocks.\\n',\n",
       " 'image_title': 'Species Overview',\n",
       " 'image_url': 'https://www.researchgate.net/publication/350641349/figure/fig1/AS:11431281172835652@1688664006197/Overview-of-the-approach-to-determine-species-ranges-classify-citizen-science.png'}"
      ]
     },
     "execution_count": 126,
     "metadata": {},
     "output_type": "execute_result"
    }
   ],
   "source": [
    "pages=pres.state.presentation\n",
    "pages['page_2']\n"
   ]
  },
  {
   "cell_type": "code",
   "execution_count": 114,
   "metadata": {},
   "outputs": [],
   "source": [
    "instruction=format_as_xml(SlideContent())"
   ]
  },
  {
   "cell_type": "code",
   "execution_count": 115,
   "metadata": {},
   "outputs": [
    {
     "data": {
      "text/plain": [
       "'<examples>\\n  <title>null</title>\\n  <bullet_points>null</bullet_points>\\n  <text_boxes>null</text_boxes>\\n  <image_url>null</image_url>\\n  <image_position>null</image_position>\\n</examples>'"
      ]
     },
     "execution_count": 115,
     "metadata": {},
     "output_type": "execute_result"
    }
   ],
   "source": [
    "instruction"
   ]
  },
  {
   "cell_type": "code",
   "execution_count": 118,
   "metadata": {},
   "outputs": [],
   "source": [
    "slide_agent=Agent(llm, result_type=SlideContent, system_prompt='generate presentation slides based on the page schema, title and content are separate text_boxes')\n",
    "result=await slide_agent.run(f'generate a presentation slide based on the page schema:{format_as_xml(pages['page_2'])} based on the instruction: {instruction}')\n"
   ]
  },
  {
   "cell_type": "code",
   "execution_count": 119,
   "metadata": {},
   "outputs": [
    {
     "data": {
      "text/plain": [
       "SlideContent(title='Species', bullet_points=None, text_boxes=[TextBox(text='**Bahamian Slender Blind Snake (Cubatyphlops biminiensis):** This species is endemic to the Bahamas. Its conservation status is listed as Least Concern.\\n\\n**Brown Blind Snake (Typhlops lumbricalis):** This species is found on most of the larger islands of the Bahamas, including the Abacos, Andros, the Berry Islands, Eleuthera, Cat Island, Long Island, and throughout the Exuma chain. On Bimini, they are commonly found in rotting logs and under rocks.', position=Position(left=1.0, top=3.0, width=5.0, height=6.0), format=TextFormat(font_size=FieldInfo(annotation=Union[float, NoneType], required=False, default=11.0, description='Font size in points'), font_color=FieldInfo(annotation=Union[Font_color, NoneType], required=False, default=Font_color(red=0, green=0, blue=0), description='RGB color tuple'), is_bold=FieldInfo(annotation=Union[bool, NoneType], required=False, default=False), is_italic=FieldInfo(annotation=Union[bool, NoneType], required=False, default=False), alignment=FieldInfo(annotation=Union[str, NoneType], required=False, default='LEFT'))), TextBox(text='Species', position=Position(left=1.0, top=1.0, width=3.0, height=1.0), format=TextFormat(font_size=FieldInfo(annotation=Union[float, NoneType], required=False, default=11.0, description='Font size in points'), font_color=FieldInfo(annotation=Union[Font_color, NoneType], required=False, default=Font_color(red=0, green=0, blue=0), description='RGB color tuple'), is_bold=FieldInfo(annotation=Union[bool, NoneType], required=False, default=False), is_italic=FieldInfo(annotation=Union[bool, NoneType], required=False, default=False), alignment=FieldInfo(annotation=Union[str, NoneType], required=False, default='LEFT'))), TextBox(text='Species Overview', position=Position(left=7.0, top=1.0, width=3.0, height=1.0), format=TextFormat(font_size=FieldInfo(annotation=Union[float, NoneType], required=False, default=11.0, description='Font size in points'), font_color=FieldInfo(annotation=Union[Font_color, NoneType], required=False, default=Font_color(red=0, green=0, blue=0), description='RGB color tuple'), is_bold=FieldInfo(annotation=Union[bool, NoneType], required=False, default=False), is_italic=FieldInfo(annotation=Union[bool, NoneType], required=False, default=False), alignment=FieldInfo(annotation=Union[str, NoneType], required=False, default='LEFT')))], image_url=None, image_position=None)"
      ]
     },
     "execution_count": 119,
     "metadata": {},
     "output_type": "execute_result"
    }
   ],
   "source": [
    "result.data"
   ]
  }
 ],
 "metadata": {
  "kernelspec": {
   "display_name": ".venv",
   "language": "python",
   "name": "python3"
  },
  "language_info": {
   "codemirror_mode": {
    "name": "ipython",
    "version": 3
   },
   "file_extension": ".py",
   "mimetype": "text/x-python",
   "name": "python",
   "nbconvert_exporter": "python",
   "pygments_lexer": "ipython3",
   "version": "3.13.2"
  }
 },
 "nbformat": 4,
 "nbformat_minor": 2
}
