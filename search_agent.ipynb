{
 "cells": [
  {
   "cell_type": "code",
   "execution_count": 1,
   "metadata": {},
   "outputs": [],
   "source": [
    "from pydantic_ai import Agent, RunContext\n",
    "from pydantic_ai.common_tools.tavily import tavily_search_tool\n",
    "from pydantic_ai.messages import ModelMessage\n",
    "from dotenv import load_dotenv\n",
    "import os\n",
    "from pydantic import Field\n",
    "from deep_research import Deep_research_engine\n",
    "from pydantic_ai.models.gemini import GeminiModel\n",
    "from pydantic_ai.providers.google_gla import GoogleGLAProvider\n",
    "from dataclasses import dataclass\n",
    "from presentation_generator import Presentation_gen\n",
    "from typing import Optional\n",
    "from spire.doc import Document,FileFormat\n",
    "from spire.doc.common import *\n",
    "import requests"
   ]
  },
  {
   "cell_type": "code",
   "execution_count": 2,
   "metadata": {},
   "outputs": [],
   "source": [
    "load_dotenv()\n",
    "tavily_key=os.getenv('tavily_key')\n",
    "google_api_key=os.getenv('google_api_key')\n",
    "pse=os.getenv('pse')\n",
    "\n",
    "llm=GeminiModel('gemini-2.0-flash', provider=GoogleGLAProvider(api_key=google_api_key))\n",
    "\n",
    "deepsearch=Deep_research_engine()\n",
    "presentation=Presentation_gen()\n",
    "\n",
    "@dataclass\n",
    "class Deps:\n",
    "    deep_search_results:list[str]\n",
    "    quick_search_results:list[str]\n",
    "    edited_deep_search_result:str\n",
    "    presentation_slides:dict\n",
    "\n",
    "\n",
    "\n",
    "async def deep_research_agent(ctx:RunContext[Deps], query:str):\n",
    "    \"\"\"\n",
    "    This function is used to do a deep research on the web for information on a complex query, generates a report or a paper.\n",
    "    Args:\n",
    "        query (str): The query to search for\n",
    "    Returns:\n",
    "        str: The result of the search\n",
    "    \"\"\"\n",
    "    res=await deepsearch.chat(query)\n",
    "    ctx.deps.deep_search_results.append(res)\n",
    "    return str(res)\n",
    "\n",
    "quick_search_agent=Agent(llm,tools=[tavily_search_tool(tavily_key)])\n",
    "async def quick_research_agent(ctx: RunContext[Deps], query:str):\n",
    "    \"\"\"\n",
    "    This function is used to do a quick search on the web for information on a given query.\n",
    "    Args:\n",
    "        query (str): The query to search for\n",
    "    Returns:\n",
    "        str: The result of the search\n",
    "    \"\"\"\n",
    "    res=await quick_search_agent.run(query)\n",
    "    ctx.deps.quick_search_results.append(res.data)\n",
    "    return str(res.data)\n",
    "\n",
    "\n",
    "def google_image_search(query:str):\n",
    "  \"\"\"Search for images using Google Custom Search API\n",
    "  args: query\n",
    "  return: image url\n",
    "  \"\"\"\n",
    "  # Define the API endpoint for Google Custom Search\n",
    "  url = \"https://www.googleapis.com/customsearch/v1\"\n",
    "\n",
    "  params = {\n",
    "      \"q\": query,\n",
    "      \"cx\": pse,\n",
    "      \"key\": google_api_key,\n",
    "      \"searchType\": \"image\",  # Search for images\n",
    "      \"num\": 1  # Number of results to fetch\n",
    "  }\n",
    "\n",
    "  # Make the request to the Google Custom Search API\n",
    "  response = requests.get(url, params=params)\n",
    "  data = response.json()\n",
    "\n",
    "  # Check if the response contains image results\n",
    "  if 'items' in data:\n",
    "      # Extract the first image result\n",
    "      image_url = data['items'][0]['link']\n",
    "      return image_url\n",
    "  \n",
    "\n",
    "@dataclass\n",
    "class Research_edits:\n",
    "    edits:str = Field(description='the edited reasearch')\n",
    "editor_agent=Agent(llm,tools=[google_image_search],result_type=Research_edits, system_prompt=\"you are an editor, you are given a query, a deep search result, and maybe a quick search result (optional), you need to edit the deep search result to make it more accurate following the query's instructions\")\n",
    "async def research_editor_tool(ctx: RunContext[Deps], query:str):\n",
    "    \"\"\"\n",
    "    This function is used to edit the deep search result to make it more accurate following the query's instructions.\n",
    "    Args:\n",
    "        query (str): The query containing instructions for editing the deep search result\n",
    "    Returns:\n",
    "        str: The edited and improved deep search result\n",
    "    \"\"\"\n",
    "    res=await editor_agent.run(f'query:{query}, deep_search_results:{ctx.deps.deep_search_results}, quick_search_results:{ctx.deps.quick_search_results}')\n",
    "    ctx.deps.edited_deep_search_result=res.data.edits\n",
    "    return str(res.data.edits)\n",
    "\n",
    "\n",
    "async def presentation_agent(\n",
    "    ctx: RunContext[Deps],\n",
    "    style: Optional[str] = \"professional\",\n",
    "    instruction: Optional[str] = 'None'\n",
    ") -> dict:\n",
    "    \"\"\"\n",
    "    Generate a presentation based on the deep search result.\n",
    "\n",
    "    Args:\n",
    "        style: Presentation style (default: \"professional\")\n",
    "        instruction: Additional instructions for presentation generation (default: None)\n",
    "\n",
    "    Returns:\n",
    "        dict: The presentation slides\n",
    "    \"\"\"\n",
    "    search_content = (ctx.deps.edited_deep_search_result \n",
    "                     if ctx.deps.edited_deep_search_result \n",
    "                     else ctx.deps.deep_search_results[-1])\n",
    "    \n",
    "    res = await presentation.chat(search_content, presentation_style=style, instruction=instruction)\n",
    "    ctx.deps.presentation_slides = res\n",
    "    return 'presentation generated'\n",
    "\n",
    "@dataclass\n",
    "class page_edit:\n",
    "    edits: str = Field(description='the edited page in html format')\n",
    "\n",
    "page_editor=Agent(llm, result_type=page_edit, system_prompt='you are a page editor, edit the mentionned page(s) based on the instructions.')\n",
    "async def page_editor_tool(ctx: RunContext[Deps], page_number: int, instructions: str):\n",
    "    \"\"\"\n",
    "    This function is used to edit the mentionned page(s) based on the instructions.\n",
    "    Args:\n",
    "        page_number (int): The number of the page to edit\n",
    "        instructions (str): The instructions for the page edits\n",
    "    Returns:\n",
    "        str: The edited page\n",
    "    \"\"\"\n",
    "    result=await page_editor.run(f'page:{ctx.deps.presentation_slides[f\"page_{page_number}\"]}, instructions:{instructions}')\n",
    "    ctx.deps.presentation_slides[f\"page_{page_number}\"]=result.data.edits\n",
    "    return f'page{page_number} edited'\n"
   ]
  },
  {
   "cell_type": "code",
   "execution_count": 3,
   "metadata": {},
   "outputs": [],
   "source": [
    "@dataclass\n",
    "class Message_state:\n",
    "    messages: list[ModelMessage]"
   ]
  },
  {
   "cell_type": "code",
   "execution_count": 4,
   "metadata": {},
   "outputs": [],
   "source": [
    "class Main_agent:\n",
    "    def __init__(self):\n",
    "        self.agent=Agent(llm, system_prompt=\"you are a research assistant, you are given a query, leverage what tool(s) to use but do not use the presentation agent unless the user asks for it,\\\n",
    "                          always show the output of the tools, except for the presentation agent\",\n",
    "                          tools=[deep_research_agent,page_editor_tool,presentation_agent,research_editor_tool,quick_research_agent])\n",
    "        self.deps=Deps( deep_search_results=[], quick_search_results=[],edited_deep_search_result=\"\", presentation_slides={})\n",
    "        self.memory=Message_state(messages=[])\n",
    "\n",
    "    async def chat(self, query:str):\n",
    "        result = await self.agent.run(query,deps=self.deps, message_history=self.memory.messages)\n",
    "        self.memory.messages=result.all_messages()\n",
    "        return result.data\n",
    "    \n",
    "    def reset(self):\n",
    "        self.memory.messages=[]\n",
    "        self.deps=Deps( deep_search_results=[], quick_search_results=[],edited_deep_search_result=\"\", presentation_slides={})\n",
    "\n"
   ]
  },
  {
   "cell_type": "code",
   "execution_count": 5,
   "metadata": {},
   "outputs": [],
   "source": [
    "agent=Main_agent()"
   ]
  },
  {
   "cell_type": "code",
   "execution_count": 6,
   "metadata": {},
   "outputs": [
    {
     "name": "stderr",
     "output_type": "stream",
     "text": [
      "c:\\Users\\trist\\OneDrive\\Desktop\\important\\ai_portfolio\\deep_research_agent\\deep_research.py:177: LogfireNotConfiguredWarning: No logs or spans will be created until `logfire.configure()` has been called. Set the environment variable LOGFIRE_IGNORE_NO_CONFIG=1 or add ignore_no_config=true in pyproject.toml to suppress this warning.\n",
      "  response=await self.graph.run(preliminary_search_node(),state=self.state)\n",
      "c:\\Users\\trist\\OneDrive\\Desktop\\important\\ai_portfolio\\deep_research_agent\\.venv\\Lib\\site-packages\\pydantic\\main.py:426: UserWarning: Pydantic serializer warnings:\n",
      "  Expected `list[str]` but got `str` with value `'https://www.reddit.com/r...of-Sale-POS-Renewal-FAQ'` - serialized value may not be as expected\n",
      "  return self.__pydantic_serializer__.to_python(\n"
     ]
    },
    {
     "data": {
      "text/plain": [
       "'Okay, I have performed a deep research on Toast POS system for restaurants, including its features and costs, and generated a table summarizing the information. The output is above.\\n'"
      ]
     },
     "execution_count": 6,
     "metadata": {},
     "output_type": "execute_result"
    }
   ],
   "source": [
    "await agent.chat('do a deep research on toast, the pos system for restaurants, all its features and costs, include a table with the features and costs')"
   ]
  },
  {
   "cell_type": "code",
   "execution_count": 7,
   "metadata": {},
   "outputs": [],
   "source": [
    "md='# Blind Snakes of the Bahamas\\n\\nBlind snakes, belonging to the family Typhlopidae, are small, burrowing snakes with a worm-like appearance. Several species are found in the Bahamas, including the Bahamian slender blind snake (Cubatyphlops biminiensis) and the Brown Blind Snake (Typhlops lumbricalis).\\n\\n## Species\\n\\n*   **Bahamian Slender Blind Snake (Cubatyphlops biminiensis):** This species is endemic to the Bahamas. Its conservation status is listed as Least Concern.\\n*   **Brown Blind Snake (Typhlops lumbricalis):** This species is found on most of the larger islands of the Bahamas, including the Abacos, Andros, the Berry Islands, Eleuthera, Cat Island, Long Island, and throughout the Exuma chain. On Bimini, they are commonly found in rotting logs and under rocks.\\n\\n## Characteristics\\n\\nBlind snakes are typically small and slender, resembling worms. They are adapted for burrowing, with smooth scales and reduced eyes.\\n\\n## Habitat and Distribution\\n\\nBahamian blind snakes inhabit various environments, including coppice dry forest habitat. They are often found under rocks, in rotting logs, and in the soil.\\n\\n## Conservation\\n\\nWhile some blind snake species are listed as Least Concern, they still face threats such as habitat loss and degradation due to human activities like urbanization and agriculture. Conservation efforts are important to ensure the survival of these unique reptiles.\\n\\n##Interesting facts\\n\\nIt is really hard to see these SMALL snakes in the Bahamas. Take one look at them, and you will notice they look more like small worms than the other snakes that live in the Bahamas.\\n\\n## References\\n\\n*   Animalia.bio: [https://animalia.bio/bahamian-slender-blind-snake](https://animalia.bio/bahamian-slender-blind-snake)\\n*   Wikipedia: [https://en.wikipedia.org/wiki/Bahamian_slender_blind_snake](https://en.wikipedia.org/wiki/Bahamian_slender_blind_snake)\\n*   Hummingbirdsplus.org: [https://www.hummingbirdsplus.org/nature-blog-network/the-5-types-of-snakes-found-on-the-bahamas/](https://www.hummingbirdsplus.org/nature-blog-network/the-5-types-of-snakes-found-on-the-bahamas/)\\n*   Biminisharklab.com: [https://www.biminisharklab.com/fauna-of-bimini-1/bahamian-brown-blind-snake](https://www.biminisharklab.com/fauna-of-bimini-1/bahamian-brown-blind-snake)\\n*   journals.ku.edu: [https://journals.ku.edu/reptilesandamphibians/article/download/15667/14618](https://journals.ku.edu/reptilesandamphibians/article/download/15667/14618)\\n*   Allenpress.com: [https://meridian.allenpress.com/herpetologica/article/67/2/194/32795/Taxonomy-of-the-Blind-Snakes-Associated-with](https://meridian.allenpress.com/herpetologica/article/67/2/194/32795/Taxonomy-of-the-Blind-Snakes-Associated-with)\\n*   Birdwatchinghq.com: [https://birdwatchinghq.com/snakes-of-the-Bahamas/](https://birdwatchinghq.com/snakes-of-the-Bahamas/)\\n*   Photoguides.org: [https://photoguides.org/snakes-in-the-bahamas/](https://photoguides.org/snakes-in-the-bahamas/)\\n*   Wildexplained.com: [https://wildexplained.com/animal-encyclopedia/the-western-blind-snake-uncovering-the-mystery-of-the-elusive-reptile/](https://wildexplained.com/animal-encyclopedia/the-western-blind-snake-uncovering-the-mystery-of-the-elusive-reptile/)\\n*   Wildexplained.com: [https://wildexplained.com/animal-encyclopedia/discovering-the-mysterious-blind-snake/](https://wildexplained.com/animal-encyclopedia/discovering-the-mysterious-blind-snake/)\\n\\n'\n"
   ]
  },
  {
   "cell_type": "code",
   "execution_count": 10,
   "metadata": {},
   "outputs": [
    {
     "data": {
      "text/plain": [
       "[ModelRequest(parts=[SystemPromptPart(content='you are a research assistant, you are given a query, leverage what tool(s) to use but do not use the presentation agent unless the user asks for it,                          always show the output of the tools, except for the presentation agent', timestamp=datetime.datetime(2025, 4, 3, 19, 46, 52, 882895, tzinfo=datetime.timezone.utc), dynamic_ref=None, part_kind='system-prompt'), UserPromptPart(content='do a deep research on toast, the pos system for restaurants, all its features and costs, include a table with the features and costs', timestamp=datetime.datetime(2025, 4, 3, 19, 46, 52, 882902, tzinfo=datetime.timezone.utc), part_kind='user-prompt')], kind='request'),\n",
       " ModelResponse(parts=[ToolCallPart(tool_name='deep_research_agent', args={'query': 'toast pos system for restaurants features and costs, include a table with the features and costs'}, tool_call_id='pyd_ai_e20a5dfbae1f4684ad98fe721eedd871', part_kind='tool-call')], model_name='gemini-2.0-flash', timestamp=datetime.datetime(2025, 4, 3, 19, 46, 53, 612525, tzinfo=datetime.timezone.utc), kind='response'),\n",
       " ModelRequest(parts=[ToolReturnPart(tool_name='deep_research_agent', content='title=\\'Toast POS System for Restaurants: Features and Costs\\' image_url=\\'https://images.ctfassets.net/tgv5pu8pgmos/2fd6V5tmebdFzAzDTF9II8/c19a42bdb7c9029efd3ce62d232388a7/img-toast-pos-redesign-hero-image-sm.png\\' paragraphs=[paragraph(title=\\'Toast POS System: A Synthesis of Reviews and Alternatives\\', content=\"Toast is a restaurant POS system with various plans, including a free starter kit and paid options, offering features like order and table management, menu customization, and 24/7 customer support. While it\\'s considered a leading POS system, alternatives like TouchBistro, Lightspeed Restaurant, and Square for Restaurants exist, which may offer more flexibility or better pricing. User reviews reveal concerns about high fees, potential outages, and hardware design, while others highlight its robust features and payment processing capabilities. Toast\\'s pricing involves monthly fees, hardware costs, and payment processing fees, which can be a barrier for some businesses. Alternatives like Owner.com can be considered for online ordering features.\"), paragraph(title=\\'Toast POS System: An Overview\\', content=\"Toast POS is a restaurant management platform offering various plans with features like regular updates, cloud-based POS, 24/7 customer support, and payment processing with fraud monitoring. While praised as a leading POS system with a user-friendly interface and robust hardware, it faces competition from alternatives like TouchBistro, Lightspeed, and Square, which may offer more flexibility or customization. User reviews reveal concerns about high costs, internet dependency, buggy updates, and complicated GUI/UX. Toast\\'s pricing includes monthly fees, hardware costs, and payment processing fees, which can be a barrier for some businesses, but it remains a popular choice due to its comprehensive features and customer support.\"), paragraph(title=\\'Key Features of Toast POS for Restaurants\\', content=\"Toast POS is a restaurant management platform offering various plans with features like regular updates, cloud-based POS, and 24/7 customer support. While it\\'s considered a leading POS system with strengths in online ordering and payment processing, it can be expensive with high monthly fees and hardware costs. Some users have reported issues with hardware design, software usability, and occasional outages. Alternatives like TouchBistro, Lightspeed, and Square may offer more flexibility or competitive pricing, depending on the restaurant\\'s specific needs.\"), paragraph(title=\\'Toast POS Pricing and Plans\\', content=\"Toast POS offers a range of plans, including a free Starter Kit and paid options like the Point of Sale plan, with custom plans also available. All plans feature regular updates, a cloud-based system, and 24/7 customer support. However, Toast\\'s pricing can be a significant barrier for some, with hardware costs and monthly software fees potentially making it expensive. While Toast is a popular choice, alternatives like TouchBistro, Lightspeed Restaurant, and Square for Restaurants offer different features and pricing models that may be more suitable for certain restaurants. User reviews reveal concerns about high fees, internet dependency, and the user-friendliness of the interface, alongside praise for its comprehensive features and all-in-one capabilities.\"), paragraph(title=\\'Hardware Costs and Options\\', content=\\'Toast offers various plans, including a free starter kit and paid options, with costs varying based on hardware choices and payment processing fees. While it provides a comprehensive, cloud-based POS system with 24/7 support and features like online ordering and real-time fraud monitoring, users report concerns about high monthly fees, potential server outages, and complicated user interface. Alternatives like TouchBistro, Lightspeed, and Square offer different pricing structures, hardware options, and customization features, making them potentially better fits for some restaurants depending on their specific needs and budget.\\'), paragraph(title=\\'Payment Processing Fees\\', content=\"Toast POS offers various plans with payment processing, fraud monitoring, and customer support. While it\\'s a leading restaurant POS system, alternatives like TouchBistro, Lightspeed, and Square offer different features and pricing. Toast\\'s costs include monthly fees, hardware expenses, and payment processing fees (2.49%-3.69% plus 15 cents per transaction), with options for pay-as-you-go or upfront hardware payment. Some users report high fees, internet dependency, and usability issues, while others value its all-in-one platform and features. Competitors like Owner.com provide alternatives for online ordering. Lightspeed Restaurant received low ratings in pricing due to termination fees and third-party payment processing fees.\"), paragraph(title=\\'Advantages and Disadvantages of Toast POS\\', content=\\'Toast POS offers a comprehensive, cloud-based restaurant management platform with various plans, including a free option, catering to different business sizes. Key advantages include regular updates, 24/7 customer support, and integrated payment processing with fraud monitoring. However, users report high monthly fees, potential vulnerability to internet and server outages, and concerns about the user interface and hardware design. While Toast is a leading POS system, alternatives like TouchBistro, Lightspeed, and Square offer more flexibility, customization, and potentially lower costs, making them suitable options for restaurants seeking specific features or greater control.\\'), paragraph(title=\\'Alternatives to Toast POS\\', content=\"Toast POS is a popular restaurant management platform offering various plans with features like regular updates, cloud-based system, 24/7 support, and payment processing. However, users have reported issues such as high fees, internet dependency, buggy software, and poor hardware design. Alternatives like TouchBistro, Lightspeed Restaurant, Square for Restaurants, GoTab, and SpotOn offer different features, pricing, and hardware options, with some focusing on customization, user-friendliness, or specific needs like online ordering. While Toast can be expensive, especially for smaller establishments, its robust features and commitment to customer support make it a leading choice for many restaurants. Ultimately, the best POS system depends on the restaurant\\'s specific requirements and budget.\"), paragraph(title=\\'Conclusion\\', content=\"Toast POS is a restaurant management platform offering various plans with features like a cloud-based POS system, 24/7 customer support, and payment processing. While praised as a leading solution with benefits such as online ordering and real-time fraud monitoring, Toast also faces criticisms regarding high costs, potential vulnerabilities to internet outages, and complex user experience. Alternatives like TouchBistro, Lightspeed Restaurant, and Square for Restaurants exist, offering different features and pricing structures that may be more suitable for some restaurants. Ultimately, the choice depends on a restaurant\\'s specific needs, budget, and technical requirements.\")] table=\\'\\' references=\\'https://www.merchantmaverick.com/toast-pricing-guide/\\\\nhttps://www.reddit.com/r/ToastPOS/comments/14pbgxx/experience_of_using_toast_pos/\\\\nhttps://retailingsummit.org/articles/toast-pos-review\\\\nhttps://www.reddit.com/r/restaurateur/comments/hk5gs8/toast_pos_pros_and_cons/\\\\nhttps://www.deliverect.com/en-us/blog/pos-systems/toast-pos-everything-you-need-to-know\\\\nhttps://www.forbes.com/advisor/business/toast-pos-review/\\\\nhttps://umatechnology.org/toast-pos-system-review-2025-cost-pros-and-cons/\\\\nhttps://www.reddit.com/r/restaurantowners/comments/llkgwv/toast_post_pros_and_cons/\\\\nhttps://kitchenbusiness.com/best-toast-pos-alternatives/\\\\nhttps://www.nerdwallet.com/reviews/small-business/toast-pos-review\\\\nhttps://www.owner.com/blog/toast-competitors\\\\nhttps://pos.toasttab.com/blog/best-toast-competitors-and-alternatives\\\\nhttps://www.merchantmaverick.com/toast-alternatives/\\\\nhttps://www.g2.com/products/toast/competitors/alternatives\\'', tool_call_id='pyd_ai_e20a5dfbae1f4684ad98fe721eedd871', timestamp=datetime.datetime(2025, 4, 3, 19, 47, 43, 525526, tzinfo=datetime.timezone.utc), part_kind='tool-return')], kind='request'),\n",
       " ModelResponse(parts=[TextPart(content=\"Okay, I have performed a deep research on Toast POS. The research indicates that Toast POS is a restaurant management platform with various plans and features, including order and table management, menu customization, 24/7 customer support, and payment processing. However, it also highlights concerns about high costs, potential outages, and hardware design. The research also mentions alternatives like TouchBistro, Lightspeed Restaurant, and Square for Restaurants.\\n\\nUnfortunately, the output didn't include a table with the features and costs. I can refine the search to specifically focus on extracting a table of features and costs if you'd like. Or, I can use the research editor tool to try and extract the relevant information and format it into a table. Which approach would you prefer?\\n\", part_kind='text')], model_name='gemini-2.0-flash', timestamp=datetime.datetime(2025, 4, 3, 19, 47, 44, 816252, tzinfo=datetime.timezone.utc), kind='response')]"
      ]
     },
     "execution_count": 10,
     "metadata": {},
     "output_type": "execute_result"
    }
   ],
   "source": [
    "agent.memory.messages"
   ]
  },
  {
   "cell_type": "code",
   "execution_count": 7,
   "metadata": {},
   "outputs": [
    {
     "data": {
      "text/plain": [
       "{'title': 'Toast POS System for Restaurants: Features and Costs',\n",
       " 'image_url': 'https://images.ctfassets.net/tgv5pu8pgmos/2fd6V5tmebdFzAzDTF9II8/c19a42bdb7c9029efd3ce62d232388a7/img-toast-pos-redesign-hero-image-sm.png',\n",
       " 'paragraphs': [{'title': 'Introduction',\n",
       "   'content': 'Toast POS is a comprehensive, cloud-based restaurant management system tailored for the food service industry, offering a range of features like menu management, order tracking, payment processing, and reporting. Its pricing structure includes subscription-based software plans, hardware options, and payment processing fees, with options for pay-as-you-go or upfront hardware costs affecting processing rates. While Toast offers robust features and specialized tools, particularly for larger or multi-location businesses, its initial hardware and software expenses, along with potential contract complexities and cancellation fees, can be a barrier for some smaller establishments. However, its commitment to customer support, continuous updates, and integrations, solidify its position as a leading POS choice in the restaurant technology market.'},\n",
       "  {'title': 'Overview of Toast POS System',\n",
       "   'content': \"Toast POS is a comprehensive, cloud-based restaurant management system designed specifically for the food service industry, offering a range of features including menu and order management, payment processing, inventory tracking, and reporting. It operates on a subscription model with varying costs based on the size of the operation, chosen features, and required services, with hardware available through upfront purchase or bundled with higher processing fees. Toast's payment processing includes flat rates and pay-as-you-go options, with fees collected on each transaction. While offering 24/7 customer support and tailored solutions for different restaurant types, Toast's contracts can be complex, and early termination may incur fees.\"},\n",
       "  {'title': 'Key Features of Toast POS',\n",
       "   'content': 'Toast POS is a comprehensive, cloud-based restaurant management system tailored for the food service industry, offering features like menu and order management, payment processing, and reporting. Its pricing structure includes subscription-based software plans, hardware options, and payment processing fees, with options ranging from free plans to custom solutions. While Toast offers specialized features like 24/7 customer service and durable hardware, especially beneficial for multi-location businesses, the initial hardware and software costs, along with potential contract termination fees, can be a barrier for some establishments. Toast provides flexible hardware options, including handheld devices and self-service kiosks, and integrates with third-party apps, making it a robust choice for restaurants seeking an all-in-one solution, though users should carefully consider the contract terms and pricing structure.'},\n",
       "  {'title': 'Toast POS Pricing Plans',\n",
       "   'content': 'Toast POS offers a comprehensive restaurant management system with flexible pricing options, including a free plan and custom plans, but can become expensive due to hardware costs, monthly software fees, and payment processing fees that range from 2.49% to 3.69% plus $0.15 per transaction. The system is designed for various restaurant types, offering features like menu management, order tracking, and customer relationship management, with add-ons available for payroll and employee management.'},\n",
       "  {'title': 'Hardware Costs and Options',\n",
       "   'content': 'Toast POS offers various hardware options and pricing structures, including options to pay upfront or opt for higher processing fees to reduce initial hardware costs. Starter kits range from handheld to countertop and guest self-service models, with costs varying. Payment processing fees range from 2.49% to 3.69% plus $0.15 per transaction, with monthly fees for software plans starting at $0 and custom plans available. Contracts typically involve a two-year commitment, and cancellation can incur fees. Toast provides 24/7 customer support and integrates with various third-party apps, offering a comprehensive restaurant management solution suitable for businesses of different sizes.'},\n",
       "  {'title': 'Payment Processing Fees',\n",
       "   'content': \"Toast POS system incurs payment processing fees each time a customer transaction is processed, which are collected by Toast for their services. These fees are structured with varied rates depending on the chosen plan; pay-as-you-go options range from 3.09% to 3.69% plus $0.15 per transaction, while upfront hardware payments result in lower rates of 2.49% for card-present and 3.50% for card-not-present transactions, both plus $0.15. Toast's pricing model includes software plans, hardware costs, and payment processing fees, offering flexibility to cater to different business needs, but can be a significant cost for smaller establishments.\"},\n",
       "  {'title': 'Contract Terms and Conditions',\n",
       "   'content': 'Toast POS system offers a comprehensive, cloud-based solution tailored for the food service industry, with features like tableside ordering, online ordering, menu management, inventory tracking, and payment processing. Its pricing includes subscription-based software plans (starting from a free plan to $69/month and custom plans), hardware options (with starter kits ranging from $0 with higher processing fees to $1,399.20), and payment processing fees (ranging from 2.49% to 3.69% plus 15 cents per transaction). While offering robust features and integrations, Toast requires a two-year contract and can be expensive due to hardware costs and potential early termination fees ($150/month or remaining subscription fees). Despite this, its 24/7 support, specialized restaurant features, and flexible hardware make it a preferred choice for many restaurants, especially those seeking multi-location management tools.'},\n",
       "  {'title': 'Advantages and Disadvantages',\n",
       "   'content': 'Toast POS is a comprehensive restaurant management system offering a range of features like menu and order management, payment processing, and reporting, suitable for various restaurant types. Its pricing structure includes software subscription, hardware costs, and payment processing fees, with options for different business sizes, including a free plan and custom pricing. While Toast offers robust tools and integrations, potential drawbacks include contract complexities, cancellation fees, and the possibility of Toast monitoring user data, making it crucial for businesses to carefully evaluate its advantages and disadvantages before committing.'},\n",
       "  {'title': 'Customization and Integrations',\n",
       "   'content': 'Toast POS offers extensive customization and integration options to cater to diverse restaurant needs, including tailored hardware, menu management, payment processing, and reporting. Its pricing structure is flexible, encompassing software plans, hardware, and payment processing fees. Toast provides integrations with third-party apps and specialized features like 24/7 customer service and online ordering, making it a preferred choice for the restaurant industry. However, users should be aware of potential contract complexities and early termination fees.'},\n",
       "  {'title': 'Customer Support and Training',\n",
       "   'content': 'Toast POS is a comprehensive restaurant management system offering a range of features, including customer support and training resources. Pricing is based on a subscription model with varying costs depending on the size of the operation, features chosen, and hardware requirements, with options for both monthly fees and pay-as-you-go plans. While Toast offers robust hardware, powerful payment processing, and multi-location management tools, cancellation can be tricky due to fees and contract terms. The system provides tailored hardware, menu management, payment processing, and reporting capabilities, with specialized features like 24/7 customer service and online ordering tools, making it a preferred choice for the restaurant industry, especially for businesses with complex inventories.'},\n",
       "  {'title': 'Conclusion',\n",
       "   'content': \"Toast POS is a comprehensive, cloud-based restaurant management system designed specifically for the food service industry, offering features like tableside ordering, online ordering, menu management, inventory tracking, and payment processing. Toast's pricing structure includes subscription-based software plans, hardware options, and payment processing fees, with costs varying based on business size and selected features. While Toast offers robust hardware and multi-location management tools, potential users should consider contract commitments, cancellation fees, and the possibility of Toast monitoring user data. Overall, Toast is a leading POS choice, especially for smaller businesses with complex inventories, providing flexible pricing plans and hardware options to suit different restaurant types.\"}],\n",
       " 'table': '## Toast POS System: Features and Costs\\n\\n| Feature Category | Feature | Description | Cost |\\n|---|---|---|---|\\n| **Software** | Point of Sale (POS) | Core system for order taking, payment processing, and restaurant management. | $69/month (Point of Sale plan), Custom plans available |\\n|  | Menu Management | Tools for creating and updating menus, including modifiers and pricing. | Included in all plans |\\n|  | Order Management | Tracks orders from placement to fulfillment, including kitchen display systems (KDS). | Included in all plans |\\n|  | Table Management | Manages table layouts, seating, and reservations. | Included in free plan and higher |\\n|  | Reporting and Analytics | Provides data on sales, inventory, and customer behavior. | Included in all plans |\\n|  | Online Ordering | Enables customers to place orders online for pickup or delivery. | Digital Storefront Pro: Essentials, plus Toast Websites, custom online ordering, and SEO features |\\n|  | Customer Relationship Management (CRM) | Tools for managing customer data and loyalty programs. | Add-ons available |\\n|  | Employee Management | Features for scheduling, time tracking, and payroll. | Add-ons available (Payroll & Team Management) |\\n|  | Inventory Management | Tracks inventory levels and automates reordering. | Included in all plans |\\n|  | Payment Processing | Processes credit card and other payment types. | Pay-as-you-go: 3.09% + 15 cents, Paying for hardware upfront: 2.49% + 15 cents, Card not present: 3.50% + 15 cents |\\n| **Hardware** | Handheld POS | Mobile devices for tableside ordering and payment. | $0 (with higher processing fees) or $799.20 (Handheld Starter Kit) |\\n|  | Countertop POS | Traditional POS terminals for checkout. | $0 (with higher processing fees) or $1,024.20 (Countertop Starter Kit) |\\n|  | Guest Self-Service Kiosk | Kiosks for customers to place their own orders. | $0 (with higher processing fees) or $1,399.20 (Guest Self-Service Starter Kit) |\\n| **Plans & Pricing** | Starter Kit | Basic plan with limited features. | $0/month |\\n|  | Point of Sale | Full-featured plan for most restaurants. | $69/month |\\n|  | Custom Plans | Tailored plans for larger or more complex operations. | Contact Toast for pricing |\\n| **Support & Other** | Customer Support | 24/7 phone and chat support. | Included in all plans |\\n|  | Contract Length | Two-year contract for payment processing (starter kits). |  |\\n|  | Early Termination Fee | Fee for canceling contract early. | $150/month or remaining subscription fees |\\n\\n**Note:**\\n\\n*   Pricing can vary based on restaurant size, features chosen, and specific needs.\\n*   Hardware costs can be financed or paid upfront.\\n*   Payment processing fees vary depending on the plan and transaction type.\\n*   Toast offers a free plan with limited features.\\n*   Additional fees may apply for add-ons and integrations.\\n*   Restaurant Insurance powered by NEXT and Vestwell 401k are available through third-party partners and may be available to Toast Payroll customers only.\\n\\nThis table provides a general overview. Contact Toast directly for a custom quote and to discuss your specific requirements.\\n',\n",
       " 'references': 'https://www.reddit.com/r/ToastPOS/comments/17dfmoe/cancelling_toast_before_install_day/, https://pos.toasttab.com/end-user-license-agreement, https://pos.toasttab.com/terms-of-service, https://lavu.com/how-to-cancel-toast-contract/, https://central.toasttab.com/s/article/Toast-Point-of-Sale-POS-Renewal-FAQ'}"
      ]
     },
     "execution_count": 7,
     "metadata": {},
     "output_type": "execute_result"
    }
   ],
   "source": [
    "agent.deps.deep_search_results[0]"
   ]
  },
  {
   "cell_type": "code",
   "execution_count": 10,
   "metadata": {},
   "outputs": [
    {
     "data": {
      "text/plain": [
       "'https://www.reddit.com/r/ToastPOS/comments/17dfmoe/cancelling_toast_before_install_day/, https://pos.toasttab.com/end-user-license-agreement, https://pos.toasttab.com/terms-of-service, https://lavu.com/how-to-cancel-toast-contract/, https://central.toasttab.com/s/article/Toast-Point-of-Sale-POS-Renewal-FAQ'"
      ]
     },
     "execution_count": 10,
     "metadata": {},
     "output_type": "execute_result"
    }
   ],
   "source": [
    "deepsearch.state.research_results.references"
   ]
  },
  {
   "cell_type": "code",
   "execution_count": 13,
   "metadata": {},
   "outputs": [],
   "source": [
    "def paper_to_markdown(paper:dict) -> str:\n",
    "    \"\"\"\n",
    "    Convert a Paper_layout object into a markdown string.\n",
    "    \n",
    "    Args:\n",
    "        paper (Paper_layout): The paper layout to convert\n",
    "        \n",
    "    Returns:\n",
    "        str: The complete markdown document\n",
    "    \"\"\"\n",
    "    markdown = []\n",
    "    \n",
    "    # Add title\n",
    "    markdown.append(paper.get('title'))\n",
    "    markdown.append(\"\\n\\n\")\n",
    "    if paper.get('image_url'):\n",
    "        markdown.append(f\"![Image]({paper.get('image_url')})\\n\")\n",
    "        markdown.append(\"\\n\\n\")\n",
    "    \n",
    "    # Add body sections\n",
    "    for section in paper.get('paragraphs'):\n",
    "        markdown.append(f\"## {section.get('title')}\\n\")\n",
    "        if section.get('content'):\n",
    "            markdown.append(section.get('content'))\n",
    "            markdown.append(\"\\n\")\n",
    "\n",
    "\n",
    "        markdown.append(\"\\n\\n\")\n",
    "    \n",
    "    if paper.get('table'):\n",
    "        markdown.append(paper.get('table'))\n",
    "        markdown.append(\"\\n\")\n",
    "    # Add references\n",
    "    markdown.append(\"## References\\n\")\n",
    "    markdown.append(str(paper.get('references')))\n",
    "    \n",
    "    return \"\".join(markdown)"
   ]
  },
  {
   "cell_type": "code",
   "execution_count": 14,
   "metadata": {},
   "outputs": [],
   "source": [
    "paper=paper_to_markdown(agent.deps.deep_search_results[0])"
   ]
  },
  {
   "cell_type": "code",
   "execution_count": 15,
   "metadata": {},
   "outputs": [
    {
     "name": "stdout",
     "output_type": "stream",
     "text": [
      "Toast POS System for Restaurants: Features and Costs\n",
      "\n",
      "![Image](https://images.ctfassets.net/tgv5pu8pgmos/2fd6V5tmebdFzAzDTF9II8/c19a42bdb7c9029efd3ce62d232388a7/img-toast-pos-redesign-hero-image-sm.png)\n",
      "\n",
      "\n",
      "## Introduction\n",
      "Toast POS is a comprehensive, cloud-based restaurant management system tailored for the food service industry, offering a range of features like menu management, order tracking, payment processing, and reporting. Its pricing structure includes subscription-based software plans, hardware options, and payment processing fees, with options for pay-as-you-go or upfront hardware costs affecting processing rates. While Toast offers robust features and specialized tools, particularly for larger or multi-location businesses, its initial hardware and software expenses, along with potential contract complexities and cancellation fees, can be a barrier for some smaller establishments. However, its commitment to customer support, continuous updates, and integrations, solidify its position as a leading POS choice in the restaurant technology market.\n",
      "\n",
      "\n",
      "## Overview of Toast POS System\n",
      "Toast POS is a comprehensive, cloud-based restaurant management system designed specifically for the food service industry, offering a range of features including menu and order management, payment processing, inventory tracking, and reporting. It operates on a subscription model with varying costs based on the size of the operation, chosen features, and required services, with hardware available through upfront purchase or bundled with higher processing fees. Toast's payment processing includes flat rates and pay-as-you-go options, with fees collected on each transaction. While offering 24/7 customer support and tailored solutions for different restaurant types, Toast's contracts can be complex, and early termination may incur fees.\n",
      "\n",
      "\n",
      "## Key Features of Toast POS\n",
      "Toast POS is a comprehensive, cloud-based restaurant management system tailored for the food service industry, offering features like menu and order management, payment processing, and reporting. Its pricing structure includes subscription-based software plans, hardware options, and payment processing fees, with options ranging from free plans to custom solutions. While Toast offers specialized features like 24/7 customer service and durable hardware, especially beneficial for multi-location businesses, the initial hardware and software costs, along with potential contract termination fees, can be a barrier for some establishments. Toast provides flexible hardware options, including handheld devices and self-service kiosks, and integrates with third-party apps, making it a robust choice for restaurants seeking an all-in-one solution, though users should carefully consider the contract terms and pricing structure.\n",
      "\n",
      "\n",
      "## Toast POS Pricing Plans\n",
      "Toast POS offers a comprehensive restaurant management system with flexible pricing options, including a free plan and custom plans, but can become expensive due to hardware costs, monthly software fees, and payment processing fees that range from 2.49% to 3.69% plus $0.15 per transaction. The system is designed for various restaurant types, offering features like menu management, order tracking, and customer relationship management, with add-ons available for payroll and employee management.\n",
      "\n",
      "\n",
      "## Hardware Costs and Options\n",
      "Toast POS offers various hardware options and pricing structures, including options to pay upfront or opt for higher processing fees to reduce initial hardware costs. Starter kits range from handheld to countertop and guest self-service models, with costs varying. Payment processing fees range from 2.49% to 3.69% plus $0.15 per transaction, with monthly fees for software plans starting at $0 and custom plans available. Contracts typically involve a two-year commitment, and cancellation can incur fees. Toast provides 24/7 customer support and integrates with various third-party apps, offering a comprehensive restaurant management solution suitable for businesses of different sizes.\n",
      "\n",
      "\n",
      "## Payment Processing Fees\n",
      "Toast POS system incurs payment processing fees each time a customer transaction is processed, which are collected by Toast for their services. These fees are structured with varied rates depending on the chosen plan; pay-as-you-go options range from 3.09% to 3.69% plus $0.15 per transaction, while upfront hardware payments result in lower rates of 2.49% for card-present and 3.50% for card-not-present transactions, both plus $0.15. Toast's pricing model includes software plans, hardware costs, and payment processing fees, offering flexibility to cater to different business needs, but can be a significant cost for smaller establishments.\n",
      "\n",
      "\n",
      "## Contract Terms and Conditions\n",
      "Toast POS system offers a comprehensive, cloud-based solution tailored for the food service industry, with features like tableside ordering, online ordering, menu management, inventory tracking, and payment processing. Its pricing includes subscription-based software plans (starting from a free plan to $69/month and custom plans), hardware options (with starter kits ranging from $0 with higher processing fees to $1,399.20), and payment processing fees (ranging from 2.49% to 3.69% plus 15 cents per transaction). While offering robust features and integrations, Toast requires a two-year contract and can be expensive due to hardware costs and potential early termination fees ($150/month or remaining subscription fees). Despite this, its 24/7 support, specialized restaurant features, and flexible hardware make it a preferred choice for many restaurants, especially those seeking multi-location management tools.\n",
      "\n",
      "\n",
      "## Advantages and Disadvantages\n",
      "Toast POS is a comprehensive restaurant management system offering a range of features like menu and order management, payment processing, and reporting, suitable for various restaurant types. Its pricing structure includes software subscription, hardware costs, and payment processing fees, with options for different business sizes, including a free plan and custom pricing. While Toast offers robust tools and integrations, potential drawbacks include contract complexities, cancellation fees, and the possibility of Toast monitoring user data, making it crucial for businesses to carefully evaluate its advantages and disadvantages before committing.\n",
      "\n",
      "\n",
      "## Customization and Integrations\n",
      "Toast POS offers extensive customization and integration options to cater to diverse restaurant needs, including tailored hardware, menu management, payment processing, and reporting. Its pricing structure is flexible, encompassing software plans, hardware, and payment processing fees. Toast provides integrations with third-party apps and specialized features like 24/7 customer service and online ordering, making it a preferred choice for the restaurant industry. However, users should be aware of potential contract complexities and early termination fees.\n",
      "\n",
      "\n",
      "## Customer Support and Training\n",
      "Toast POS is a comprehensive restaurant management system offering a range of features, including customer support and training resources. Pricing is based on a subscription model with varying costs depending on the size of the operation, features chosen, and hardware requirements, with options for both monthly fees and pay-as-you-go plans. While Toast offers robust hardware, powerful payment processing, and multi-location management tools, cancellation can be tricky due to fees and contract terms. The system provides tailored hardware, menu management, payment processing, and reporting capabilities, with specialized features like 24/7 customer service and online ordering tools, making it a preferred choice for the restaurant industry, especially for businesses with complex inventories.\n",
      "\n",
      "\n",
      "## Conclusion\n",
      "Toast POS is a comprehensive, cloud-based restaurant management system designed specifically for the food service industry, offering features like tableside ordering, online ordering, menu management, inventory tracking, and payment processing. Toast's pricing structure includes subscription-based software plans, hardware options, and payment processing fees, with costs varying based on business size and selected features. While Toast offers robust hardware and multi-location management tools, potential users should consider contract commitments, cancellation fees, and the possibility of Toast monitoring user data. Overall, Toast is a leading POS choice, especially for smaller businesses with complex inventories, providing flexible pricing plans and hardware options to suit different restaurant types.\n",
      "\n",
      "\n",
      "## Toast POS System: Features and Costs\n",
      "\n",
      "| Feature Category | Feature | Description | Cost |\n",
      "|---|---|---|---|\n",
      "| **Software** | Point of Sale (POS) | Core system for order taking, payment processing, and restaurant management. | $69/month (Point of Sale plan), Custom plans available |\n",
      "|  | Menu Management | Tools for creating and updating menus, including modifiers and pricing. | Included in all plans |\n",
      "|  | Order Management | Tracks orders from placement to fulfillment, including kitchen display systems (KDS). | Included in all plans |\n",
      "|  | Table Management | Manages table layouts, seating, and reservations. | Included in free plan and higher |\n",
      "|  | Reporting and Analytics | Provides data on sales, inventory, and customer behavior. | Included in all plans |\n",
      "|  | Online Ordering | Enables customers to place orders online for pickup or delivery. | Digital Storefront Pro: Essentials, plus Toast Websites, custom online ordering, and SEO features |\n",
      "|  | Customer Relationship Management (CRM) | Tools for managing customer data and loyalty programs. | Add-ons available |\n",
      "|  | Employee Management | Features for scheduling, time tracking, and payroll. | Add-ons available (Payroll & Team Management) |\n",
      "|  | Inventory Management | Tracks inventory levels and automates reordering. | Included in all plans |\n",
      "|  | Payment Processing | Processes credit card and other payment types. | Pay-as-you-go: 3.09% + 15 cents, Paying for hardware upfront: 2.49% + 15 cents, Card not present: 3.50% + 15 cents |\n",
      "| **Hardware** | Handheld POS | Mobile devices for tableside ordering and payment. | $0 (with higher processing fees) or $799.20 (Handheld Starter Kit) |\n",
      "|  | Countertop POS | Traditional POS terminals for checkout. | $0 (with higher processing fees) or $1,024.20 (Countertop Starter Kit) |\n",
      "|  | Guest Self-Service Kiosk | Kiosks for customers to place their own orders. | $0 (with higher processing fees) or $1,399.20 (Guest Self-Service Starter Kit) |\n",
      "| **Plans & Pricing** | Starter Kit | Basic plan with limited features. | $0/month |\n",
      "|  | Point of Sale | Full-featured plan for most restaurants. | $69/month |\n",
      "|  | Custom Plans | Tailored plans for larger or more complex operations. | Contact Toast for pricing |\n",
      "| **Support & Other** | Customer Support | 24/7 phone and chat support. | Included in all plans |\n",
      "|  | Contract Length | Two-year contract for payment processing (starter kits). |  |\n",
      "|  | Early Termination Fee | Fee for canceling contract early. | $150/month or remaining subscription fees |\n",
      "\n",
      "**Note:**\n",
      "\n",
      "*   Pricing can vary based on restaurant size, features chosen, and specific needs.\n",
      "*   Hardware costs can be financed or paid upfront.\n",
      "*   Payment processing fees vary depending on the plan and transaction type.\n",
      "*   Toast offers a free plan with limited features.\n",
      "*   Additional fees may apply for add-ons and integrations.\n",
      "*   Restaurant Insurance powered by NEXT and Vestwell 401k are available through third-party partners and may be available to Toast Payroll customers only.\n",
      "\n",
      "This table provides a general overview. Contact Toast directly for a custom quote and to discuss your specific requirements.\n",
      "\n",
      "## References\n",
      "https://www.reddit.com/r/ToastPOS/comments/17dfmoe/cancelling_toast_before_install_day/, https://pos.toasttab.com/end-user-license-agreement, https://pos.toasttab.com/terms-of-service, https://lavu.com/how-to-cancel-toast-contract/, https://central.toasttab.com/s/article/Toast-Point-of-Sale-POS-Renewal-FAQ\n"
     ]
    }
   ],
   "source": [
    "print(paper)"
   ]
  },
  {
   "cell_type": "code",
   "execution_count": 16,
   "metadata": {},
   "outputs": [],
   "source": [
    "import tempfile\n",
    "import os\n",
    "\n",
    "# Create a temporary file\n",
    "with tempfile.NamedTemporaryFile(mode='w', suffix='.md', delete=False) as temp_file:\n",
    "    temp_file.write(paper)\n",
    "    temp_file_path = temp_file.name\n",
    "\n",
    "# Create a new document and load from the temporary files\n",
    "document = Document()\n",
    "document.LoadFromFile(temp_file_path)\n",
    "\n",
    "# Save as DOCX\n",
    "document.SaveToFile(\"output.docx\", FileFormat.Docx)\n",
    "\n",
    "# Clean up the temporary file\n",
    "os.unlink(temp_file_path)"
   ]
  }
 ],
 "metadata": {
  "kernelspec": {
   "display_name": ".venv",
   "language": "python",
   "name": "python3"
  },
  "language_info": {
   "codemirror_mode": {
    "name": "ipython",
    "version": 3
   },
   "file_extension": ".py",
   "mimetype": "text/x-python",
   "name": "python",
   "nbconvert_exporter": "python",
   "pygments_lexer": "ipython3",
   "version": "3.13.2"
  }
 },
 "nbformat": 4,
 "nbformat_minor": 2
}
