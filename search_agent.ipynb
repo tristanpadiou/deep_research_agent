{
 "cells": [
  {
   "cell_type": "code",
   "execution_count": 1,
   "metadata": {},
   "outputs": [],
   "source": [
    "from pydantic_ai import Agent, RunContext\n",
    "from pydantic_ai.common_tools.tavily import tavily_search_tool\n",
    "from dotenv import load_dotenv\n",
    "import os\n",
    "from deep_research import Deep_research_engine\n",
    "from pydantic_ai.models.gemini import GeminiModel\n",
    "from pydantic_ai.providers.google_gla import GoogleGLAProvider\n",
    "from dataclasses import dataclass\n",
    "from presentation_generator import Presentation_gen\n"
   ]
  },
  {
   "cell_type": "code",
   "execution_count": 2,
   "metadata": {},
   "outputs": [],
   "source": [
    "load_dotenv()\n",
    "tavily_key=os.getenv('tavily_key')\n",
    "google_api_key=os.getenv('google_api_key')\n",
    "\n",
    "llm=GeminiModel('gemini-2.0-flash', provider=GoogleGLAProvider(api_key=google_api_key))\n",
    "\n",
    "deepsearch=Deep_research_engine()\n",
    "presentation=Presentation_gen()\n",
    "\n",
    "@dataclass\n",
    "class Deps:\n",
    "\n",
    "    deep_search_results:list[str]\n",
    "    quick_search_results:list[str]\n",
    "    edited_deep_search_result:str\n",
    "    presentation_slides:dict\n",
    "\n",
    "agent=Agent(llm, system_prompt=\"you are a research assistant, you are given a query, what tools to use, always show the output of the tools, except for the presentation agent\")\n",
    "\n",
    "@agent.tool\n",
    "async def deep_research_agent(ctx:RunContext[Deps], query:str):\n",
    "    \"\"\"\n",
    "    This function is used to do a deep research on the web for information on a complex query, generates a report or a paper.\n",
    "    Args:\n",
    "        query (str): The query to search for\n",
    "    Returns:\n",
    "        str: The result of the search\n",
    "    \"\"\"\n",
    "    res=await deepsearch.chat(query)\n",
    "    ctx.deps.deep_search_results.append(res)\n",
    "    return res\n",
    "\n",
    "quick_search_agent=Agent(llm,tools=[tavily_search_tool(tavily_key)])\n",
    "@agent.tool\n",
    "async def quick_research_agent(ctx: RunContext[Deps], query:str):\n",
    "    \"\"\"\n",
    "    This function is used to do a quick search on the web for information on a given query.\n",
    "    Args:\n",
    "        query (str): The query to search for\n",
    "    Returns:\n",
    "        str: The result of the search\n",
    "    \"\"\"\n",
    "    res=await quick_search_agent.run(query)\n",
    "    ctx.deps.quick_search_results.append(res.data)\n",
    "    return res.data\n",
    "    \n",
    "editor_agent=Agent(llm, system_prompt=\"you are an editor, you are given a query, a deep search result, and maybe a quick search result (optional), you need to edit the deep search result to make it more accurate following the query's instructions\")\n",
    "\n",
    "@agent.tool\n",
    "async def research_editor_agent(ctx: RunContext[Deps], query:str):\n",
    "    \"\"\"\n",
    "    This function is used to edit the deep search result to make it more accurate following the query's instructions.\n",
    "    Args:\n",
    "        query (str): The query containing instructions for editing the deep search result\n",
    "    Returns:\n",
    "        str: The edited and improved deep search result\n",
    "    \"\"\"\n",
    "    res=await editor_agent.run(f'query:{query}, deep_search_result:{ctx.deps.deep_search_results}, quick_search_result:{ctx.deps.quick_search_results}')\n",
    "    ctx.deps.edited_deep_search_result=res\n",
    "    return res\n",
    "\n",
    "@agent.tool\n",
    "async def presentation_agent(ctx: RunContext[Deps]):\n",
    "    \"\"\"\n",
    "    This function is used to generate a presentation based on the deep search result.\n",
    "    Args:\n",
    "        None\n",
    "    Returns:\n",
    "        dict: The presentation slides\n",
    "    \"\"\"\n",
    "    if not ctx.deps.edited_deep_search_result:\n",
    "        res=await presentation.chat(ctx.deps.deep_search_results[0])\n",
    "    else:   \n",
    "        res=await presentation.chat(ctx.deps.edited_deep_search_result)\n",
    "    ctx.deps.presentation_slides=res\n",
    "    return res\n"
   ]
  },
  {
   "cell_type": "code",
   "execution_count": 3,
   "metadata": {},
   "outputs": [],
   "source": [
    "deps=Deps( deep_search_results=[], quick_search_results=[],edited_deep_search_result=\"\")"
   ]
  },
  {
   "cell_type": "code",
   "execution_count": 4,
   "metadata": {},
   "outputs": [],
   "source": [
    "await agent.run('do a deep research on the topic of the first moon landing',deps=deps)"
   ]
  },
  {
   "cell_type": "code",
   "execution_count": 9,
   "metadata": {},
   "outputs": [
    {
     "data": {
      "text/plain": [
       "{'page_1': \"## Introduction\\n\\nThe Apollo 11 mission, culminating in the first human landing on the Moon, stands as a monumental achievement in human history. Launched on July 16, 1969, it achieved President Kennedy's goal of landing a man on the moon before the end of the decade.\\n\\nThe primary objective of Apollo 11 was to safely land humans on the Moon and return them to Earth (Havefunwithhistory.com). This encompassed several detailed objectives, including performing a manned lunar landing (NASA.gov).\\n\\n![Apollo 11 Launch](https://www.nasa.gov/wp-content/uploads/2023/03/apollo_11_launch_-_gpn-2000-000630_1.jpg)\\n\\n_Apollo 11 Launch_\",\n",
       " 'page_2': '## Mission Objectives\\n\\nAccording to NASA.gov, the Apollo 11 mission objectives included:\\n\\n*   Performing a manned lunar landing\\n*   Conducting limited selenological inspection\\n*   Capturing photographic documentation of the lunar surface\\n*   Performing a survey of the landing site\\n\\n---\\n\\n![Lunar Module on the surface](https://moon.nasa.gov/rails/active_storage/blobs/redirect/eyJfcmFpbHMiOnsibWVzc2FnZSI6IkJBaHBBbE1CIiwiZXhwIjpudWxsLCJwdXIiOiJibG9iX2lkIn19--63c2ba3b37fb74985d2aeac73175b6462a116cea/detail_as11-40-5927_orig.jpg?disposition=inline)\\n\\n**Lunar Module on the surface**',\n",
       " 'page_3': '## The Crew\\n\\n![Apollo 11 Crew](https://www.nasa.gov/wp-content/uploads/2023/03/s69-31739orig.jpg?w=1041)\\nApollo 11 crew consisted of three astronauts, each with a critical role (Wikipedia):\\n\\n*   **Neil Armstrong (Commander):** The first human to walk on the Moon.\\n*   **Buzz Aldrin (Lunar Module Pilot):** The second human to walk on the Moon.\\n*   **Michael Collins (Command Module Pilot):** Remained in lunar orbit aboard the Command Module *Columbia*.\\n\\n---\\n\\nMichael Collins orbited the moon at 97-121 km while Armstrong and Aldrin were on the surface (Britannica.com). He later described feeling \"absolutely isolated\" during this time (Space.com).',\n",
       " 'page_4': '## Mission Execution\\n\\n---\\n\\nHere\\'s the extracted information, focusing on the launch, lunar landing, and activities on the Moon\\'s surface, drawing primarily from NASA.gov, Wikipedia, and Britannica.com:\\n\\n---\\n\\n**Launch:**\\n\\nThe Apollo 11 mission commenced on July 16, 1969, with the launch of the Saturn V rocket from Launch Complex 39A at the Kennedy Space Center (NASA.gov).\\n\\n---\\n\\n**Lunar Landing:**\\n\\nOn July 20, 1969, at 20:17 UTC, Armstrong and Aldrin successfully landed the Lunar Module *Eagle* on the lunar surface (Wikipedia).\\n\\n---\\n\\n**Activities on the Lunar Surface:**\\n\\nSix hours and 39 minutes after landing, at 02:56 UTC on July 21, Armstrong took his \"one small step\" onto the Moon (NASA.gov). During their two and a half hours on the lunar surface, Armstrong and Aldrin collected samples and took photographs (NASA.gov).\\n\\n---\\n\\n![Lunar Module Eagle Landing](https://upload.wikimedia.org/wikipedia/commons/0/04/Apollo_11_Lunar_Lander_-_5927_NASA.jpg)\\n\\nLunar Module Eagle Landing',\n",
       " 'page_5': \"## Return to Earth\\n\\nThe Apollo 11 crew faced the crucial phase of returning to Earth (Apollo11space.com).\\n\\nThe Command Module re-entered Earth's atmosphere at speeds exceeding 25,000 miles per hour, relying on heat shields for protection (Apollo11space.com).\\n\\nOn July 24, 1969, the Apollo 11 Command Module splashed down safely in the Pacific Ocean, concluding a mission that lasted 8 days, 3 hours, 18 minutes, and 35 seconds (Apollo11space.com).\\n\\n![Apollo 11 Splashdown](https://www.scmuseum.org/sites/default/files/styles/wysiwyg/public/wp_uploads/Apollo-11-Milt-Putnam.jpg?itok=rOwx-J3w)\\n\\n### Apollo 11 Splashdown\",\n",
       " 'page_6': '## Global Reaction and Impact\\n\\n---\\n\\nThe Apollo 11 mission was a global event, watched by over half a billion people on television (NASA.gov). The event was described as a moment of national unity because of television (nbcnews.com). The landing was met with excitement and awe around the world, including reactions from people on the streets of Dublin (youtube.com).\\n\\n---\\n\\nThe success of Apollo 11 had a profound impact on science, technology, and society. It demonstrated the capabilities of human ingenuity and spurred further advancements in space exploration.\\n\\n---\\n\\n![Global Television Coverage](https://www.gravitymedia.com/wp-content/uploads/2025/01/CAuldPhoto-TDU-Wmn-Stage3-0742-1-1024x683.jpg)\\n\\n---\\n\\n### Global Television Coverage',\n",
       " 'page_7': '# Conclusion\\n\\n**Title:** Footprint on the Moon\\n\\n**Image:** https://nssdc.gsfc.nasa.gov/imgcat/midres/a11_h_40_5878.gif\\n\\n**Text:**\\nThe Apollo 11 mission, which landed the first humans on the Moon, is a monumental achievement in human history, demonstrating ambition, dedication, and technological prowess.  \\n\\nThe success of Apollo 11 had a profound impact on science, technology, and society, spurring further advancements in space exploration.  \\n\\nThe first moon landing serves as a reminder of the boundless potential of exploration and the enduring human spirit of discovery.\\n'}"
      ]
     },
     "execution_count": 9,
     "metadata": {},
     "output_type": "execute_result"
    }
   ],
   "source": [
    "res"
   ]
  }
 ],
 "metadata": {
  "kernelspec": {
   "display_name": ".venv",
   "language": "python",
   "name": "python3"
  },
  "language_info": {
   "codemirror_mode": {
    "name": "ipython",
    "version": 3
   },
   "file_extension": ".py",
   "mimetype": "text/x-python",
   "name": "python",
   "nbconvert_exporter": "python",
   "pygments_lexer": "ipython3",
   "version": "3.13.2"
  }
 },
 "nbformat": 4,
 "nbformat_minor": 2
}
