{
 "cells": [
  {
   "cell_type": "code",
   "execution_count": 1,
   "metadata": {},
   "outputs": [],
   "source": [
    "from pydantic_ai import Agent, RunContext\n",
    "from pydantic_ai.common_tools.tavily import tavily_search_tool\n",
    "from pydantic_ai.messages import ModelMessage\n",
    "from dotenv import load_dotenv\n",
    "import os\n",
    "from deep_research import Deep_research_engine\n",
    "from pydantic_ai.models.gemini import GeminiModel\n",
    "from pydantic_ai.providers.google_gla import GoogleGLAProvider\n",
    "from dataclasses import dataclass\n",
    "from presentation_generator import Presentation_gen\n",
    "from typing import Optional\n",
    "\n"
   ]
  },
  {
   "cell_type": "code",
   "execution_count": 2,
   "metadata": {},
   "outputs": [],
   "source": [
    "load_dotenv()\n",
    "tavily_key=os.getenv('tavily_key')\n",
    "google_api_key=os.getenv('google_api_key')\n",
    "\n",
    "llm=GeminiModel('gemini-2.0-flash', provider=GoogleGLAProvider(api_key=google_api_key))\n",
    "\n",
    "deepsearch=Deep_research_engine()\n",
    "presentation=Presentation_gen()\n",
    "\n",
    "@dataclass\n",
    "class Deps:\n",
    "    deep_search_results:list[str]\n",
    "    quick_search_results:list[str]\n",
    "    edited_deep_search_result:str\n",
    "    presentation_slides:dict\n",
    "\n",
    "agent=Agent(llm, system_prompt=\"you are a research assistant, you are given a query, leverage what tool(s) to use, always show the output of the tools, except for the presentation agent\")\n",
    "\n",
    "@agent.tool\n",
    "async def deep_research_agent(ctx:RunContext[Deps], query:str):\n",
    "    \"\"\"\n",
    "    This function is used to do a deep research on the web for information on a complex query, generates a report or a paper.\n",
    "    Args:\n",
    "        query (str): The query to search for\n",
    "    Returns:\n",
    "        str: The result of the search\n",
    "    \"\"\"\n",
    "    res=await deepsearch.chat(query)\n",
    "    ctx.deps.deep_search_results.append(res)\n",
    "    return res\n",
    "\n",
    "quick_search_agent=Agent(llm,tools=[tavily_search_tool(tavily_key)])\n",
    "@agent.tool\n",
    "async def quick_research_agent(ctx: RunContext[Deps], query:str):\n",
    "    \"\"\"\n",
    "    This function is used to do a quick search on the web for information on a given query.\n",
    "    Args:\n",
    "        query (str): The query to search for\n",
    "    Returns:\n",
    "        str: The result of the search\n",
    "    \"\"\"\n",
    "    res=await quick_search_agent.run(query)\n",
    "    ctx.deps.quick_search_results.append(res.data)\n",
    "    return res.data\n",
    "    \n",
    "editor_agent=Agent(llm, system_prompt=\"you are an editor, you are given a query, a deep search result, and maybe a quick search result (optional), you need to edit the deep search result to make it more accurate following the query's instructions\")\n",
    "\n",
    "@agent.tool\n",
    "async def research_editor_agent(ctx: RunContext[Deps], query:str):\n",
    "    \"\"\"\n",
    "    This function is used to edit the deep search result to make it more accurate following the query's instructions.\n",
    "    Args:\n",
    "        query (str): The query containing instructions for editing the deep search result\n",
    "    Returns:\n",
    "        str: The edited and improved deep search result\n",
    "    \"\"\"\n",
    "    res=await editor_agent.run(f'query:{query}, deep_search_result:{ctx.deps.deep_search_results}, quick_search_result:{ctx.deps.quick_search_results}')\n",
    "    ctx.deps.edited_deep_search_result=res\n",
    "    return res\n",
    "\n",
    "@agent.tool\n",
    "async def presentation_agent(\n",
    "    ctx: RunContext[Deps],\n",
    "    style: Optional[str] = \"professional\",\n",
    "    instruction: Optional[str] = 'None'\n",
    ") -> dict:\n",
    "    \"\"\"\n",
    "    Generate a presentation based on the deep search result.\n",
    "\n",
    "    Args:\n",
    "        style: Presentation style (default: \"professional\")\n",
    "        instruction: Additional instructions for presentation generation (default: None)\n",
    "\n",
    "    Returns:\n",
    "        dict: The presentation slides\n",
    "    \"\"\"\n",
    "    search_content = (ctx.deps.edited_deep_search_result \n",
    "                     if ctx.deps.edited_deep_search_result \n",
    "                     else ctx.deps.deep_search_results[0])\n",
    "    \n",
    "    res = await presentation.chat(search_content, style=style, instruction=instruction)\n",
    "    ctx.deps.presentation_slides = res\n",
    "    return res\n",
    "\n",
    "\n"
   ]
  },
  {
   "cell_type": "code",
   "execution_count": 3,
   "metadata": {},
   "outputs": [],
   "source": [
    "deps=Deps( deep_search_results=[], quick_search_results=[],edited_deep_search_result=\"\", presentation_slides={})"
   ]
  },
  {
   "cell_type": "code",
   "execution_count": 4,
   "metadata": {},
   "outputs": [],
   "source": [
    "@dataclass\n",
    "class message_state:\n",
    "    messages: list[ModelMessage]"
   ]
  },
  {
   "cell_type": "code",
   "execution_count": 15,
   "metadata": {},
   "outputs": [],
   "source": [
    "memory=message_state(messages=[])"
   ]
  },
  {
   "cell_type": "code",
   "execution_count": 16,
   "metadata": {},
   "outputs": [],
   "source": [
    "async def chat(query:str):\n",
    "    result = await agent.run(query,deps=deps, message_history=memory.messages)\n",
    "    memory.messages=result.all_messages()\n",
    "    return result.data"
   ]
  },
  {
   "cell_type": "code",
   "execution_count": null,
   "metadata": {},
   "outputs": [
    {
     "data": {
      "text/plain": [
       "'The previous answer stated that the Bahamian Boa Constrictor is also known as the fowl snake in the Bahamas.\\n'"
      ]
     },
     "execution_count": 20,
     "metadata": {},
     "output_type": "execute_result"
    }
   ],
   "source": [
    "await chat('do a deep research about the popular pos systems in')"
   ]
  },
  {
   "cell_type": "code",
   "execution_count": 21,
   "metadata": {},
   "outputs": [
    {
     "data": {
      "text/plain": [
       "[ModelRequest(parts=[SystemPromptPart(content='you are a research assistant, you are given a query, leverage what tool(s) to use, always show the output of the tools, except for the presentation agent', timestamp=datetime.datetime(2025, 3, 30, 22, 46, 14, 504459, tzinfo=datetime.timezone.utc), dynamic_ref=None, part_kind='system-prompt'), UserPromptPart(content='do a quick search of what snakes are in the bahamas', timestamp=datetime.datetime(2025, 3, 30, 22, 46, 14, 504467, tzinfo=datetime.timezone.utc), part_kind='user-prompt')], kind='request'),\n",
       " ModelResponse(parts=[ToolCallPart(tool_name='quick_research_agent', args={'query': 'what snakes are in the bahamas'}, tool_call_id='pyd_ai_2c95ddf40b304462b58c7b0627fd49b3', part_kind='tool-call')], model_name='gemini-2.0-flash', timestamp=datetime.datetime(2025, 3, 30, 22, 46, 15, 291808, tzinfo=datetime.timezone.utc), kind='response'),\n",
       " ModelRequest(parts=[ToolReturnPart(tool_name='quick_research_agent', content='The Bahamas is home to several snake species, including the Bahamian Racer (the most common), the Bahamian Boa Constrictor (also known as \"Fowl snake\"), and Corn Snakes.\\n', tool_call_id='pyd_ai_2c95ddf40b304462b58c7b0627fd49b3', timestamp=datetime.datetime(2025, 3, 30, 22, 46, 19, 901036, tzinfo=datetime.timezone.utc), part_kind='tool-return')], kind='request'),\n",
       " ModelResponse(parts=[TextPart(content='The Bahamas is home to several snake species, including the Bahamian Racer (the most common), the Bahamian Boa Constrictor (also known as \"Fowl snake\"), and Corn Snakes.\\n', part_kind='text')], model_name='gemini-2.0-flash', timestamp=datetime.datetime(2025, 3, 30, 22, 46, 20, 497547, tzinfo=datetime.timezone.utc), kind='response'),\n",
       " ModelRequest(parts=[UserPromptPart(content='which one is known as the fowl snake', timestamp=datetime.datetime(2025, 3, 30, 22, 46, 40, 961850, tzinfo=datetime.timezone.utc), part_kind='user-prompt')], kind='request'),\n",
       " ModelResponse(parts=[ToolCallPart(tool_name='quick_research_agent', args={'query': 'which snake is known as the fowl snake in the bahamas'}, tool_call_id='pyd_ai_15d0b2c87bc543a8a2ff57f4bffd7863', part_kind='tool-call')], model_name='gemini-2.0-flash', timestamp=datetime.datetime(2025, 3, 30, 22, 46, 41, 805152, tzinfo=datetime.timezone.utc), kind='response'),\n",
       " ModelRequest(parts=[ToolReturnPart(tool_name='quick_research_agent', content='The snake known as the fowl snake in the Bahamas is the Bahamian Boa Constrictor, also known as Chilabothrus chrysogaster.\\n', tool_call_id='pyd_ai_15d0b2c87bc543a8a2ff57f4bffd7863', timestamp=datetime.datetime(2025, 3, 30, 22, 46, 46, 409693, tzinfo=datetime.timezone.utc), part_kind='tool-return')], kind='request'),\n",
       " ModelResponse(parts=[TextPart(content='The Bahamian Boa Constrictor is also known as the fowl snake in the Bahamas.\\n', part_kind='text')], model_name='gemini-2.0-flash', timestamp=datetime.datetime(2025, 3, 30, 22, 46, 46, 925533, tzinfo=datetime.timezone.utc), kind='response'),\n",
       " ModelRequest(parts=[UserPromptPart(content='what was the previous answere', timestamp=datetime.datetime(2025, 3, 30, 22, 47, 35, 888575, tzinfo=datetime.timezone.utc), part_kind='user-prompt')], kind='request'),\n",
       " ModelResponse(parts=[TextPart(content='The previous answer stated that the Bahamian Boa Constrictor is also known as the fowl snake in the Bahamas.\\n', part_kind='text')], model_name='gemini-2.0-flash', timestamp=datetime.datetime(2025, 3, 30, 22, 47, 36, 518616, tzinfo=datetime.timezone.utc), kind='response')]"
      ]
     },
     "execution_count": 21,
     "metadata": {},
     "output_type": "execute_result"
    }
   ],
   "source": [
    "memory.messages"
   ]
  },
  {
   "cell_type": "code",
   "execution_count": 10,
   "metadata": {},
   "outputs": [
    {
     "data": {
      "text/plain": [
       "['The Bahamas is home to 5 different types of snakes, including the Bahamian Racer, Bahamian Boa Constrictor, and Corn Snakes.\\n']"
      ]
     },
     "execution_count": 10,
     "metadata": {},
     "output_type": "execute_result"
    }
   ],
   "source": [
    "deps.quick_search_results"
   ]
  }
 ],
 "metadata": {
  "kernelspec": {
   "display_name": ".venv",
   "language": "python",
   "name": "python3"
  },
  "language_info": {
   "codemirror_mode": {
    "name": "ipython",
    "version": 3
   },
   "file_extension": ".py",
   "mimetype": "text/x-python",
   "name": "python",
   "nbconvert_exporter": "python",
   "pygments_lexer": "ipython3",
   "version": "3.13.2"
  }
 },
 "nbformat": 4,
 "nbformat_minor": 2
}
