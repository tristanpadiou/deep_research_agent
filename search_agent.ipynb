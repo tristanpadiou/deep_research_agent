{
 "cells": [
  {
   "cell_type": "code",
   "execution_count": 1,
   "metadata": {},
   "outputs": [],
   "source": [
    "from pydantic_ai import Agent, RunContext\n",
    "from pydantic_ai.common_tools.tavily import tavily_search_tool\n",
    "from dotenv import load_dotenv\n",
    "import os\n",
    "from deep_research import Deep_research_engine\n",
    "from pydantic_ai.models.gemini import GeminiModel\n",
    "from pydantic_ai.providers.google_gla import GoogleGLAProvider\n",
    "from dataclasses import dataclass\n",
    "from presentation_generator import Presentation_gen\n",
    "from typing import Optional\n"
   ]
  },
  {
   "cell_type": "code",
   "execution_count": null,
   "metadata": {},
   "outputs": [],
   "source": [
    "load_dotenv()\n",
    "tavily_key=os.getenv('tavily_key')\n",
    "google_api_key=os.getenv('google_api_key')\n",
    "\n",
    "llm=GeminiModel('gemini-2.0-flash', provider=GoogleGLAProvider(api_key=google_api_key))\n",
    "\n",
    "deepsearch=Deep_research_engine()\n",
    "presentation=Presentation_gen()\n",
    "\n",
    "@dataclass\n",
    "class Deps:\n",
    "    \n",
    "    deep_search_results:list[str]\n",
    "    quick_search_results:list[str]\n",
    "    edited_deep_search_result:str\n",
    "    presentation_slides:dict\n",
    "\n",
    "agent=Agent(llm, system_prompt=\"you are a research assistant, you are given a query, what tools to use, always show the output of the tools, except for the presentation agent\")\n",
    "\n",
    "@agent.tool\n",
    "async def deep_research_agent(ctx:RunContext[Deps], query:str):\n",
    "    \"\"\"\n",
    "    This function is used to do a deep research on the web for information on a complex query, generates a report or a paper.\n",
    "    Args:\n",
    "        query (str): The query to search for\n",
    "    Returns:\n",
    "        str: The result of the search\n",
    "    \"\"\"\n",
    "    res=await deepsearch.chat(query)\n",
    "    ctx.deps.deep_search_results.append(res)\n",
    "    return res\n",
    "\n",
    "quick_search_agent=Agent(llm,tools=[tavily_search_tool(tavily_key)])\n",
    "@agent.tool\n",
    "async def quick_research_agent(ctx: RunContext[Deps], query:str):\n",
    "    \"\"\"\n",
    "    This function is used to do a quick search on the web for information on a given query.\n",
    "    Args:\n",
    "        query (str): The query to search for\n",
    "    Returns:\n",
    "        str: The result of the search\n",
    "    \"\"\"\n",
    "    res=await quick_search_agent.run(query)\n",
    "    ctx.deps.quick_search_results.append(res.data)\n",
    "    return res.data\n",
    "    \n",
    "editor_agent=Agent(llm, system_prompt=\"you are an editor, you are given a query, a deep search result, and maybe a quick search result (optional), you need to edit the deep search result to make it more accurate following the query's instructions\")\n",
    "\n",
    "@agent.tool\n",
    "async def research_editor_agent(ctx: RunContext[Deps], query:str):\n",
    "    \"\"\"\n",
    "    This function is used to edit the deep search result to make it more accurate following the query's instructions.\n",
    "    Args:\n",
    "        query (str): The query containing instructions for editing the deep search result\n",
    "    Returns:\n",
    "        str: The edited and improved deep search result\n",
    "    \"\"\"\n",
    "    res=await editor_agent.run(f'query:{query}, deep_search_result:{ctx.deps.deep_search_results}, quick_search_result:{ctx.deps.quick_search_results}')\n",
    "    ctx.deps.edited_deep_search_result=res\n",
    "    return res\n",
    "\n",
    "@agent.tool\n",
    "async def presentation_agent(\n",
    "    ctx: RunContext[Deps],\n",
    "    style: Optional[str] = \"professional\",\n",
    "    instruction: Optional[str] = 'None'\n",
    ") -> dict:\n",
    "    \"\"\"\n",
    "    Generate a presentation based on the deep search result.\n",
    "\n",
    "    Args:\n",
    "        ctx: Run context containing dependencies\n",
    "        style: Presentation style (default: \"professional\")\n",
    "        instruction: Additional instructions for presentation generation (default: None)\n",
    "\n",
    "    Returns:\n",
    "        dict: The presentation slides\n",
    "    \"\"\"\n",
    "    search_content = (ctx.deps.edited_deep_search_result \n",
    "                     if ctx.deps.edited_deep_search_result \n",
    "                     else ctx.deps.deep_search_results[0])\n",
    "    \n",
    "    res = await presentation.chat(search_content, style=style, instruction=instruction)\n",
    "    ctx.deps.presentation_slides = res\n",
    "    return res\n"
   ]
  },
  {
   "cell_type": "code",
   "execution_count": 3,
   "metadata": {},
   "outputs": [],
   "source": [
    "deps=Deps( deep_search_results=[], quick_search_results=[],edited_deep_search_result=\"\", presentation_slides={})"
   ]
  },
  {
   "cell_type": "code",
   "execution_count": null,
   "metadata": {},
   "outputs": [
    {
     "data": {
      "text/plain": [
       "AgentRunResult(data='Please specify your research query.')"
      ]
     },
     "execution_count": 5,
     "metadata": {},
     "output_type": "execute_result"
    }
   ],
   "source": [
    "result = await agent.run('show me the reseach',deps=deps, message_history=)"
   ]
  },
  {
   "cell_type": "code",
   "execution_count": 8,
   "metadata": {},
   "outputs": [
    {
     "data": {
      "text/plain": [
       "[\"The search results discuss recent news related to space exploration and upcoming moon missions, such as Artemis II. There's also a mention of a NASA experiment picking up radio signals from the moon.\\n\"]"
      ]
     },
     "execution_count": 8,
     "metadata": {},
     "output_type": "execute_result"
    }
   ],
   "source": [
    "deps.quick_search_results"
   ]
  }
 ],
 "metadata": {
  "kernelspec": {
   "display_name": ".venv",
   "language": "python",
   "name": "python3"
  },
  "language_info": {
   "codemirror_mode": {
    "name": "ipython",
    "version": 3
   },
   "file_extension": ".py",
   "mimetype": "text/x-python",
   "name": "python",
   "nbconvert_exporter": "python",
   "pygments_lexer": "ipython3",
   "version": "3.13.2"
  }
 },
 "nbformat": 4,
 "nbformat_minor": 2
}
