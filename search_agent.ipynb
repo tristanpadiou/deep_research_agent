{
 "cells": [
  {
   "cell_type": "code",
   "execution_count": 1,
   "metadata": {},
   "outputs": [],
   "source": [
    "from pydantic_ai import Agent, RunContext\n",
    "from pydantic_ai.common_tools.tavily import tavily_search_tool\n",
    "from dotenv import load_dotenv\n",
    "import os\n",
    "from deep_research import Deep_research_engine\n",
    "from pydantic_ai.models.gemini import GeminiModel\n",
    "from pydantic_ai.providers.google_gla import GoogleGLAProvider\n",
    "from dataclasses import dataclass\n"
   ]
  },
  {
   "cell_type": "code",
   "execution_count": 2,
   "metadata": {},
   "outputs": [],
   "source": [
    "load_dotenv()\n",
    "tavily_key=os.getenv('tavily_key')\n",
    "google_api_key=os.getenv('google_api_key')\n",
    "\n",
    "llm=GeminiModel('gemini-2.0-flash', provider=GoogleGLAProvider(api_key=google_api_key))\n",
    "\n",
    "deepsearch=Deep_research_engine()\n",
    "\n",
    "@dataclass\n",
    "class Deps:\n",
    "\n",
    "    deep_search_result:str\n",
    "    quick_search_result:str\n",
    "    edited_deep_search_result:str\n",
    "\n",
    "agent=Agent(llm, system_prompt=\"you are a research assistant, you are given a query, decide if you need to do a deep research or a quick search, if you need to do a deep research, use the deep_research_agent tool, if you need to do a quick search, use the search_agent tool, if you need to edit the deep search result, use the editor_agent tool\")\n",
    "\n",
    "@agent.tool\n",
    "async def deep_research_agent(ctx:RunContext[Deps], query:str):\n",
    "    \"\"\"\n",
    "    This function is used to do a deep research on the web for information on a complex query.\n",
    "    Args:\n",
    "        query (str): The query to search for\n",
    "    Returns:\n",
    "        str: The result of the search\n",
    "    \"\"\"\n",
    "    res=await deepsearch.chat(query)\n",
    "    ctx.deps.deep_search_result=res\n",
    "    return res\n",
    "\n",
    "quick_search_agent=Agent(llm,tools=[tavily_search_tool(tavily_key)])\n",
    "@agent.tool\n",
    "async def search_agent(ctx: RunContext[Deps], query:str):\n",
    "    \"\"\"\n",
    "    This function is used to do a quick search on the web for information on a given query.\n",
    "    Args:\n",
    "        query (str): The query to search for\n",
    "    Returns:\n",
    "        str: The result of the search\n",
    "    \"\"\"\n",
    "    res=await quick_search_agent.run(query)\n",
    "    ctx.deps.quick_search_result=res.data\n",
    "    return res.data\n",
    "    \n",
    "editor_agent=Agent(llm, system_prompt=\"you are an editor, you are given a query, a deep search result, and maybe a quick search result (optional), you need to edit the deep search result to make it more accurate following the query's instructions\")\n",
    "\n",
    "@agent.tool\n",
    "async def editor_agent(ctx: RunContext[Deps], query:str):\n",
    "    \"\"\"\n",
    "    This function is used to edit the deep search result to make it more accurate following the query's instructions.\n",
    "    Args:\n",
    "        query (str): The query containing instructions for editing the deep search result\n",
    "    Returns:\n",
    "        str: The edited and improved deep search result\n",
    "    \"\"\"\n",
    "    res=await editor_agent.run(f'query:{query}, deep_search_result:{ctx.deps.deep_search_result}, quick_search_result:{ctx.deps.quick_search_result}')\n",
    "    ctx.deps.edited_deep_search_result=res\n",
    "    return res\n",
    "\n"
   ]
  },
  {
   "cell_type": "code",
   "execution_count": 3,
   "metadata": {},
   "outputs": [],
   "source": [
    "deps=Deps( deep_search_result=\"\", quick_search_result=\"\",edited_deep_search_result=\"\")"
   ]
  },
  {
   "cell_type": "code",
   "execution_count": 4,
   "metadata": {},
   "outputs": [
    {
     "data": {
      "text/plain": [
       "AgentRunResult(data='The first human-made object to touch the Moon was Luna 2 in 1959. In 1969 Apollo 11 was the first crewed mission to land on the Moon. There were six crewed landings between 1969 and 1972, and numerous uncrewed landings.\\n')"
      ]
     },
     "execution_count": 4,
     "metadata": {},
     "output_type": "execute_result"
    }
   ],
   "source": [
    "await agent.run('do a quick research on the topic of the moon landing',deps=deps)"
   ]
  }
 ],
 "metadata": {
  "kernelspec": {
   "display_name": ".venv",
   "language": "python",
   "name": "python3"
  },
  "language_info": {
   "codemirror_mode": {
    "name": "ipython",
    "version": 3
   },
   "file_extension": ".py",
   "mimetype": "text/x-python",
   "name": "python",
   "nbconvert_exporter": "python",
   "pygments_lexer": "ipython3",
   "version": "3.13.2"
  }
 },
 "nbformat": 4,
 "nbformat_minor": 2
}
