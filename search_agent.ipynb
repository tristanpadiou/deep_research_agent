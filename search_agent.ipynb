{
 "cells": [
  {
   "cell_type": "code",
   "execution_count": 1,
   "metadata": {},
   "outputs": [],
   "source": [
    "from pydantic_ai import Agent, RunContext\n",
    "from pydantic_ai.common_tools.tavily import tavily_search_tool\n",
    "from pydantic_ai.messages import ModelMessage\n",
    "from dotenv import load_dotenv\n",
    "import os\n",
    "from pydantic import Field\n",
    "from deep_research import Deep_research_engine\n",
    "from pydantic_ai.models.gemini import GeminiModel\n",
    "from pydantic_ai.providers.google_gla import GoogleGLAProvider\n",
    "from dataclasses import dataclass\n",
    "from presentation_generator import Presentation_gen\n",
    "from typing import Optional"
   ]
  },
  {
   "cell_type": "code",
   "execution_count": 2,
   "metadata": {},
   "outputs": [],
   "source": [
    "load_dotenv()\n",
    "tavily_key=os.getenv('tavily_key')\n",
    "google_api_key=os.getenv('google_api_key')\n",
    "\n",
    "llm=GeminiModel('gemini-2.0-flash', provider=GoogleGLAProvider(api_key=google_api_key))\n",
    "\n",
    "deepsearch=Deep_research_engine()\n",
    "presentation=Presentation_gen()\n",
    "\n",
    "@dataclass\n",
    "class Deps:\n",
    "    deep_search_results:list[str]\n",
    "    quick_search_results:list[str]\n",
    "    edited_deep_search_result:str\n",
    "    presentation_slides:dict\n",
    "\n",
    "\n",
    "\n",
    "async def deep_research_agent(ctx:RunContext[Deps], query:str):\n",
    "    \"\"\"\n",
    "    This function is used to do a deep research on the web for information on a complex query, generates a report or a paper.\n",
    "    Args:\n",
    "        query (str): The query to search for\n",
    "    Returns:\n",
    "        str: The result of the search\n",
    "    \"\"\"\n",
    "    res=await deepsearch.chat(query)\n",
    "    ctx.deps.deep_search_results.append(res)\n",
    "    return str(res)\n",
    "\n",
    "quick_search_agent=Agent(llm,tools=[tavily_search_tool(tavily_key)])\n",
    "async def quick_research_agent(ctx: RunContext[Deps], query:str):\n",
    "    \"\"\"\n",
    "    This function is used to do a quick search on the web for information on a given query.\n",
    "    Args:\n",
    "        query (str): The query to search for\n",
    "    Returns:\n",
    "        str: The result of the search\n",
    "    \"\"\"\n",
    "    res=await quick_search_agent.run(query)\n",
    "    ctx.deps.quick_search_results.append(res.data)\n",
    "    return str(res.data)\n",
    "\n",
    "@dataclass\n",
    "class Research_edits:\n",
    "    edits:str = Field(description='the edited reasearch')\n",
    "editor_agent=Agent(llm,result_type=Research_edits, system_prompt=\"you are an editor, you are given a query, a deep search result, and maybe a quick search result (optional), you need to edit the deep search result to make it more accurate following the query's instructions\")\n",
    "async def research_editor_tool(ctx: RunContext[Deps], query:str):\n",
    "    \"\"\"\n",
    "    This function is used to edit the deep search result to make it more accurate following the query's instructions.\n",
    "    Args:\n",
    "        query (str): The query containing instructions for editing the deep search result\n",
    "    Returns:\n",
    "        str: The edited and improved deep search result\n",
    "    \"\"\"\n",
    "    res=await editor_agent.run(f'query:{query}, deep_search_result:{ctx.deps.deep_search_results[0]}, quick_search_result:{ctx.deps.quick_search_results[0]}')\n",
    "    ctx.deps.edited_deep_search_result=res.data.edits\n",
    "    return str(res.data.edits)\n",
    "\n",
    "\n",
    "async def presentation_agent(\n",
    "    ctx: RunContext[Deps],\n",
    "    style: Optional[str] = \"professional\",\n",
    "    instruction: Optional[str] = 'None'\n",
    ") -> dict:\n",
    "    \"\"\"\n",
    "    Generate a presentation based on the deep search result.\n",
    "\n",
    "    Args:\n",
    "        style: Presentation style (default: \"professional\")\n",
    "        instruction: Additional instructions for presentation generation (default: None)\n",
    "\n",
    "    Returns:\n",
    "        dict: The presentation slides\n",
    "    \"\"\"\n",
    "    search_content = (ctx.deps.edited_deep_search_result \n",
    "                     if ctx.deps.edited_deep_search_result \n",
    "                     else ctx.deps.deep_search_results[0])\n",
    "    \n",
    "    res = await presentation.chat(search_content, presentation_style=style, instruction=instruction)\n",
    "    ctx.deps.presentation_slides = res\n",
    "    return 'presentation generated'\n",
    "\n",
    "@dataclass\n",
    "class page_edit:\n",
    "    edits: str = Field(description='the edited page in html format')\n",
    "\n",
    "page_editor=Agent(llm, result_type=page_edit, system_prompt='you are a page editor, edit the mentionned page(s) based on the instructions.')\n",
    "async def page_editor_tool(ctx: RunContext[Deps], page_number: int, instructions: str):\n",
    "    \"\"\"\n",
    "    This function is used to edit the mentionned page(s) based on the instructions.\n",
    "    Args:\n",
    "        page_number (int): The number of the page to edit\n",
    "        instructions (str): The instructions for the page edits\n",
    "    Returns:\n",
    "        str: The edited page\n",
    "    \"\"\"\n",
    "    result=await page_editor.run(f'page:{ctx.deps.presentation_slides[f\"page_{page_number}\"]}, instructions:{instructions}')\n",
    "    ctx.deps.presentation_slides[f\"page_{page_number}\"]=result.data.edits\n",
    "    return f'page{page_number} edited'\n"
   ]
  },
  {
   "cell_type": "code",
   "execution_count": 3,
   "metadata": {},
   "outputs": [],
   "source": [
    "@dataclass\n",
    "class Message_state:\n",
    "    messages: list[ModelMessage]"
   ]
  },
  {
   "cell_type": "code",
   "execution_count": 4,
   "metadata": {},
   "outputs": [],
   "source": [
    "class Main_agent:\n",
    "    def __init__(self):\n",
    "        self.agent=Agent(llm, system_prompt=\"you are a research assistant, you are given a query, leverage what tool(s) to use,\\\n",
    "                          always show the output of the tools, except for the presentation agent\",\n",
    "                          tools=[deep_research_agent,page_editor_tool,presentation_agent,research_editor_tool,quick_research_agent])\n",
    "        self.deps=Deps( deep_search_results=[], quick_search_results=[],edited_deep_search_result=\"\", presentation_slides={})\n",
    "        self.memory=Message_state(messages=[])\n",
    "\n",
    "    async def chat(self, query:str):\n",
    "        result = await self.agent.run(query,deps=self.deps, message_history=self.memory.messages)\n",
    "        self.memory.messages=result.all_messages()\n",
    "        return result.data"
   ]
  },
  {
   "cell_type": "code",
   "execution_count": 5,
   "metadata": {},
   "outputs": [],
   "source": [
    "agent=Main_agent()"
   ]
  },
  {
   "cell_type": "code",
   "execution_count": 6,
   "metadata": {},
   "outputs": [
    {
     "name": "stderr",
     "output_type": "stream",
     "text": [
      "c:\\Users\\trist\\OneDrive\\Desktop\\important\\ai_portfolio\\deep_research_agent\\deep_research.py:98: LogfireNotConfiguredWarning: No logs or spans will be created until `logfire.configure()` has been called. Set the environment variable LOGFIRE_IGNORE_NO_CONFIG=1 or add ignore_no_config=true in pyproject.toml to suppress this warning.\n",
      "  response=await self.graph.run(preliminary_search_node(),state=self.state)\n"
     ]
    },
    {
     "data": {
      "text/plain": [
       "'I have generated a presentation about the blind snake in the Bahamas.\\n'"
      ]
     },
     "execution_count": 6,
     "metadata": {},
     "output_type": "execute_result"
    }
   ],
   "source": [
    "await agent.chat('do a deep research on the blind snake in the bahamas and generate a presentation about it')"
   ]
  },
  {
   "cell_type": "code",
   "execution_count": 19,
   "metadata": {},
   "outputs": [
    {
     "data": {
      "text/plain": [
       "'# Blind Snakes of the Bahamas\\n\\nBlind snakes, belonging to the family Typhlopidae, are small, burrowing snakes with a worm-like appearance. Several species are found in the Bahamas, including the Bahamian slender blind snake (Cubatyphlops biminiensis) and the Brown Blind Snake (Typhlops lumbricalis).\\n\\n## Species\\n\\n*   **Bahamian Slender Blind Snake (Cubatyphlops biminiensis):** This species is endemic to the Bahamas. Its conservation status is listed as Least Concern.\\n*   **Brown Blind Snake (Typhlops lumbricalis):** This species is found on most of the larger islands of the Bahamas, including the Abacos, Andros, the Berry Islands, Eleuthera, Cat Island, Long Island, and throughout the Exuma chain. On Bimini, they are commonly found in rotting logs and under rocks.\\n\\n## Characteristics\\n\\nBlind snakes are typically small and slender, resembling worms. They are adapted for burrowing, with smooth scales and reduced eyes.\\n\\n## Habitat and Distribution\\n\\nBahamian blind snakes inhabit various environments, including coppice dry forest habitat. They are often found under rocks, in rotting logs, and in the soil.\\n\\n## Conservation\\n\\nWhile some blind snake species are listed as Least Concern, they still face threats such as habitat loss and degradation due to human activities like urbanization and agriculture. Conservation efforts are important to ensure the survival of these unique reptiles.\\n\\n##Interesting facts\\n\\nIt is really hard to see these SMALL snakes in the Bahamas. Take one look at them, and you will notice they look more like small worms than the other snakes that live in the Bahamas.\\n\\n## References\\n\\n*   Animalia.bio: [https://animalia.bio/bahamian-slender-blind-snake](https://animalia.bio/bahamian-slender-blind-snake)\\n*   Wikipedia: [https://en.wikipedia.org/wiki/Bahamian_slender_blind_snake](https://en.wikipedia.org/wiki/Bahamian_slender_blind_snake)\\n*   Hummingbirdsplus.org: [https://www.hummingbirdsplus.org/nature-blog-network/the-5-types-of-snakes-found-on-the-bahamas/](https://www.hummingbirdsplus.org/nature-blog-network/the-5-types-of-snakes-found-on-the-bahamas/)\\n*   Biminisharklab.com: [https://www.biminisharklab.com/fauna-of-bimini-1/bahamian-brown-blind-snake](https://www.biminisharklab.com/fauna-of-bimini-1/bahamian-brown-blind-snake)\\n*   journals.ku.edu: [https://journals.ku.edu/reptilesandamphibians/article/download/15667/14618](https://journals.ku.edu/reptilesandamphibians/article/download/15667/14618)\\n*   Allenpress.com: [https://meridian.allenpress.com/herpetologica/article/67/2/194/32795/Taxonomy-of-the-Blind-Snakes-Associated-with](https://meridian.allenpress.com/herpetologica/article/67/2/194/32795/Taxonomy-of-the-Blind-Snakes-Associated-with)\\n*   Birdwatchinghq.com: [https://birdwatchinghq.com/snakes-of-the-Bahamas/](https://birdwatchinghq.com/snakes-of-the-Bahamas/)\\n*   Photoguides.org: [https://photoguides.org/snakes-in-the-bahamas/](https://photoguides.org/snakes-in-the-bahamas/)\\n*   Wildexplained.com: [https://wildexplained.com/animal-encyclopedia/the-western-blind-snake-uncovering-the-mystery-of-the-elusive-reptile/](https://wildexplained.com/animal-encyclopedia/the-western-blind-snake-uncovering-the-mystery-of-the-elusive-reptile/)\\n*   Wildexplained.com: [https://wildexplained.com/animal-encyclopedia/discovering-the-mysterious-blind-snake/](https://wildexplained.com/animal-encyclopedia/discovering-the-mysterious-blind-snake/)\\n\\n'"
      ]
     },
     "execution_count": 19,
     "metadata": {},
     "output_type": "execute_result"
    }
   ],
   "source": [
    "agent.deps.deep_search_results[0]"
   ]
  },
  {
   "cell_type": "code",
   "execution_count": 40,
   "metadata": {},
   "outputs": [
    {
     "name": "stdout",
     "output_type": "stream",
     "text": [
      "# Blind Snakes of the Bahamas\n",
      "\n",
      "## Overview\n",
      "\n",
      "This presentation summarizes information about blind snakes found in the Bahamas.\n",
      "\n",
      "---\n",
      "\n",
      "## Species Overview\n",
      "\n",
      "At least two native species of blind snakes are found in the Bahamas:\n",
      "\n",
      "*   Bahamian Slender Blind Snake (*Cubatyphlops biminiensis*): Endemic to the Bahamas.\n",
      "*   Brown Blind Snake (*Typhlops lumbricalis*): Found on most of the larger islands of the Bahamas.\n",
      "\n",
      "---\n",
      "\n",
      "## Bahamian Slender Blind Snake\n",
      "\n",
      "*Cubatyphlops biminiensis*\n",
      "\n",
      "*   Member of the Typhlopidae family.\n",
      "*   Also referred to as the Bahamian Worm Snake.\n",
      "\n",
      "---\n",
      "\n",
      "## Brown Blind Snake\n",
      "\n",
      "*Typhlops lumbricalis*\n",
      "\n",
      "*   Small, thin snake.\n",
      "*   Commonly found in rotting logs and under rocks on Bimini.\n",
      "\n",
      "---\n",
      "\n",
      "## Additional Considerations\n",
      "\n",
      "*   The Brahminy Blind Snake (*Indotyphlops braminus*) has been introduced to Abaco Island in the Bahamas.\n",
      "\n",
      "---\n",
      "\n",
      "## References\n",
      "\n",
      "*   [animalia.bio/bahamian-slender-blind-snake](https://animalia.bio/bahamian-slender-blind-snake)\n",
      "*   [en.wikipedia.org/wiki/Bahamian_slender_blind_snake](https://en.wikipedia.org/wiki/Bahamian_slender_blind_snake)\n",
      "*   [hummingbirdsplus.org/nature-blog-network/the-5-types-of-snakes-found-on-the-bahamas/](https://www.hummingbirdsplus.org/nature-blog-network/the-5-types-of-snakes-found-on-the-bahamas/)\n",
      "*   [biminisharklab.com/fauna-of-bimini-1/bahamian-brown-blind-snake](https://www.biminisharklab.com/fauna-of-bimini-1/bahamian-brown-blind-snake)\n",
      "*   [journals.ku.edu/reptilesandamphibians/article/download/15667/14618](https://journals.ku.edu/reptilesandamphibians/article/download/15667/14618)\n",
      "*   [researchgate.net/publication/356594219_Establishment_of_the_introduced_Brahminy_Blindsnake_Indotyphlops_braminus_on_Abaco_Island_The_Bahamas_with_notes_on_potential_niche_overlap_with_the_native_Cuban_Brown_Blindsnake_Typhlops_lumbricalis](https://www.researchgate.net/publication/356594219_Establishment_of_the_introduced_Brahminy_Blindsnake_Indotyphlops_braminus_on_Abaco_Island_The_Bahamas_with_notes_on_potential_niche_overlap_with_the_native_Cuban_Brown_Blindsnake_Typhlops_lumbricalis)\n",
      "*   [birdwatchinghq.com/snakes-of-the-Bahamas/](https://birdwatchinghq.com/snakes-of-the-Bahamas/)\n",
      "\n",
      "---\n",
      "\n",
      "![Title Slide - Blind Snakes of the Bahamas](https://images.squarespace-cdn.com/content/v1/65eb123232042502720368fd/1738634319580-CJUM9VLI0R6QF2DAUYLU/cover.jpg)\n",
      "\n"
     ]
    }
   ],
   "source": [
    "print(agent.deps.presentation_slides['page_1'])"
   ]
  },
  {
   "cell_type": "code",
   "execution_count": 18,
   "metadata": {},
   "outputs": [
    {
     "data": {
      "text/plain": [
       "[ModelRequest(parts=[SystemPromptPart(content='you are a research assistant, you are given a query, leverage what tool(s) to use,                          always show the output of the tools, except for the presentation agent', timestamp=datetime.datetime(2025, 4, 1, 15, 55, 52, 601180, tzinfo=datetime.timezone.utc), dynamic_ref=None, part_kind='system-prompt'), UserPromptPart(content='do a deep research on the blind snake in the bahamas and generate a presentation about it', timestamp=datetime.datetime(2025, 4, 1, 15, 55, 52, 601187, tzinfo=datetime.timezone.utc), part_kind='user-prompt')], kind='request'),\n",
       " ModelResponse(parts=[ToolCallPart(tool_name='deep_research_agent', args={'query': 'blind snake in the bahamas'}, tool_call_id='pyd_ai_1f16b0ddb435464dbb24d08c59c665ba', part_kind='tool-call')], model_name='gemini-2.0-flash', timestamp=datetime.datetime(2025, 4, 1, 15, 55, 53, 741664, tzinfo=datetime.timezone.utc), kind='response'),\n",
       " ModelRequest(parts=[ToolReturnPart(tool_name='deep_research_agent', content='## Blind Snakes of the Bahamas\\n\\nThis report summarizes information about blind snakes found in the Bahamas.\\n\\n### Species Overview\\n\\nAt least two species of blind snakes are found in the Bahamas:\\n\\n*   **Bahamian Slender Blind Snake** (*Cubatyphlops biminiensis*): This species is endemic to the Bahamas. \\n*   **Brown Blind Snake** (*Typhlops lumbricalis*): This species is found on most of the larger islands of the Bahamas, including the Abacos, Andros, the Berry Islands, Eleuthera, Cat Island, Long Island, and throughout the Exuma chain.\\n\\n### Bahamian Slender Blind Snake\\n\\nThe Bahamian slender blind snake (*Cubatyphlops biminiensis*) is a member of the Typhlopidae family.  It is also referred to as the Bahamian Worm Snake.\\n\\n### Brown Blind Snake\\n\\nThe Brown Blind Snake (*Typhlops lumbricalis*) is a small, thin snake. On Bimini, they are commonly found in rotting logs and under rocks.\\n\\n### Additional Considerations\\n\\n*   The Brahminy Blind Snake (*Indotyphlops braminus*) has been introduced to Abaco Island in the Bahamas.\\n\\n### References\\n\\n*   [https://animalia.bio/bahamian-slender-blind-snake](https://animalia.bio/bahamian-slender-blind-snake)\\n*   [https://en.wikipedia.org/wiki/Bahamian_slender_blind_snake](https://en.wikipedia.org/wiki/Bahamian_slender_blind_snake)\\n*   [https://www.hummingbirdsplus.org/nature-blog-network/the-5-types-of-snakes-found-on-the-bahamas/](https://www.hummingbirdsplus.org/nature-blog-network/the-5-types-of-snakes-found-on-the-bahamas/)\\n*   [https://www.biminisharklab.com/fauna-of-bimini-1/bahamian-brown-blind-snake](https://www.biminisharklab.com/fauna-of-bimini-1/bahamian-brown-blind-snake)\\n*   [https://journals.ku.edu/reptilesandamphibians/article/download/15667/14618](https://journals.ku.edu/reptilesandamphibians/article/download/15667/14618)\\n*   [https://www.researchgate.net/publication/356594219_Establishment_of_the_introduced_Brahminy_Blindsnake_Indotyphlops_braminus_on_Abaco_Island_The_Bahamas_with_notes_on_potential_niche_overlap_with_the_native_Cuban_Brown_Blindsnake_Typhlops_lumbricalis](https://www.researchgate.net/publication/356594219_Establishment_of_the_introduced_Brahminy_Blindsnake_Indotyphlops_braminus_on_Abaco_Island_The_Bahamas_with_notes_on_potential_niche_overlap_with_the_native_Cuban_Brown_Blindsnake_Typhlops_lumbricalis)\\n*   [https://birdwatchinghq.com/snakes-of-the-Bahamas/](https://birdwatchinghq.com/snakes-of-the-Bahamas/)', tool_call_id='pyd_ai_1f16b0ddb435464dbb24d08c59c665ba', timestamp=datetime.datetime(2025, 4, 1, 15, 56, 11, 131095, tzinfo=datetime.timezone.utc), part_kind='tool-return')], kind='request'),\n",
       " ModelResponse(parts=[ToolCallPart(tool_name='presentation_agent', args={'style': 'Nature', 'instruction': 'Generate a presentation about the blind snake in the bahamas based on the provided research result.'}, tool_call_id='pyd_ai_66af98b6c53e4743b93325c04ee13a49', part_kind='tool-call')], model_name='gemini-2.0-flash', timestamp=datetime.datetime(2025, 4, 1, 15, 56, 11, 984007, tzinfo=datetime.timezone.utc), kind='response'),\n",
       " ModelRequest(parts=[ToolReturnPart(tool_name='presentation_agent', content=\"{'page_1': '# Blind Snakes of the Bahamas\\\\n\\\\n## Overview\\\\n\\\\nThis presentation summarizes information about blind snakes found in the Bahamas.\\\\n\\\\n---\\\\n\\\\n## Species Overview\\\\n\\\\nAt least two native species of blind snakes are found in the Bahamas:\\\\n\\\\n*   Bahamian Slender Blind Snake (*Cubatyphlops biminiensis*): Endemic to the Bahamas.\\\\n*   Brown Blind Snake (*Typhlops lumbricalis*): Found on most of the larger islands of the Bahamas.\\\\n\\\\n---\\\\n\\\\n## Bahamian Slender Blind Snake\\\\n\\\\n*Cubatyphlops biminiensis*\\\\n\\\\n*   Member of the Typhlopidae family.\\\\n*   Also referred to as the Bahamian Worm Snake.\\\\n\\\\n---\\\\n\\\\n## Brown Blind Snake\\\\n\\\\n*Typhlops lumbricalis*\\\\n\\\\n*   Small, thin snake.\\\\n*   Commonly found in rotting logs and under rocks on Bimini.\\\\n\\\\n---\\\\n\\\\n## Additional Considerations\\\\n\\\\n*   The Brahminy Blind Snake (*Indotyphlops braminus*) has been introduced to Abaco Island in the Bahamas.\\\\n\\\\n---\\\\n\\\\n## References\\\\n\\\\n*   [animalia.bio/bahamian-slender-blind-snake](https://animalia.bio/bahamian-slender-blind-snake)\\\\n*   [en.wikipedia.org/wiki/Bahamian_slender_blind_snake](https://en.wikipedia.org/wiki/Bahamian_slender_blind_snake)\\\\n*   [hummingbirdsplus.org/nature-blog-network/the-5-types-of-snakes-found-on-the-bahamas/](https://www.hummingbirdsplus.org/nature-blog-network/the-5-types-of-snakes-found-on-the-bahamas/)\\\\n*   [biminisharklab.com/fauna-of-bimini-1/bahamian-brown-blind-snake](https://www.biminisharklab.com/fauna-of-bimini-1/bahamian-brown-blind-snake)\\\\n*   [journals.ku.edu/reptilesandamphibians/article/download/15667/14618](https://journals.ku.edu/reptilesandamphibians/article/download/15667/14618)\\\\n*   [researchgate.net/publication/356594219_Establishment_of_the_introduced_Brahminy_Blindsnake_Indotyphlops_braminus_on_Abaco_Island_The_Bahamas_with_notes_on_potential_niche_overlap_with_the_native_Cuban_Brown_Blindsnake_Typhlops_lumbricalis](https://www.researchgate.net/publication/356594219_Establishment_of_the_introduced_Brahminy_Blindsnake_Indotyphlops_braminus_on_Abaco_Island_The_Bahamas_with_notes_on_potential_niche_overlap_with_the_native_Cuban_Brown_Blindsnake_Typhlops_lumbricalis)\\\\n*   [birdwatchinghq.com/snakes-of-the-Bahamas/](https://birdwatchinghq.com/snakes-of-the-Bahamas/)\\\\n\\\\n---\\\\n\\\\n![Title Slide - Blind Snakes of the Bahamas](https://images.squarespace-cdn.com/content/v1/65eb123232042502720368fd/1738634319580-CJUM9VLI0R6QF2DAUYLU/cover.jpg)\\\\n', 'page_2': '# Species Overview\\\\n\\\\n## Blind Snakes of the Bahamas\\\\n\\\\nThis report summarizes information about blind snakes found in the Bahamas.\\\\n\\\\n### Species Overview\\\\n\\\\nAt least two species of blind snakes are found in the Bahamas:\\\\n\\\\n*   **Bahamian Slender Blind Snake** (*Cubatyphlops biminiensis*): This species is endemic to the Bahamas.\\\\n*   **Brown Blind Snake** (*Typhlops lumbricalis*): This species is found on most of the larger islands of the Bahamas, including the Abacos, Andros, the Berry Islands, Eleuthera, Cat Island, Long Island, and throughout the Exuma chain.\\\\n\\\\n### Bahamian Slender Blind Snake\\\\n\\\\nThe Bahamian slender blind snake (*Cubatyphlops biminiensis*) is a member of the Typhlopidae family. It is also referred to as the Bahamian Worm Snake.\\\\n\\\\n### Brown Blind Snake\\\\n\\\\nThe Brown Blind Snake (*Typhlops lumbricalis*) is a small, thin snake. On Bimini, they are commonly found in rotting logs and under rocks.\\\\n\\\\n### Additional Considerations\\\\n\\\\n*   The Brahminy Blind Snake (*Indotyphlops braminus*) has been introduced to Abaco Island in the Bahamas.\\\\n\\\\n![Species Overview Image](https://www.cottongen.org/sites/default/files/images/CottonGenTutorial_species_overview.jpg)\\\\n', 'page_3': '# Bahamian Slender Blind Snake\\\\n\\\\n## *Cubatyphlops biminiensis*\\\\n\\\\n### Bahamian Worm Snake\\\\n\\\\n\\\\n![Bahamian Slender Blind Snake Image](https://inaturalist-open-data.s3.amazonaws.com/photos/13937877/original.jpeg)\\\\n\\\\nThe Bahamian slender blind snake (*Cubatyphlops biminiensis*) is a member of the Typhlopidae family. It is also referred to as the Bahamian Worm Snake.\\\\n', 'page_4': '# Brown Blind Snake\\\\n\\\\n## Image\\\\n\\\\n![Brown Blind Snake Image](https://media.australian.museum/media/dd/images/Anilios_nigrescens_Newcastle_Stephen_Mahony.1.width-1600.86c5352.jpg)\\\\n\\\\n## Description\\\\n\\\\nThe Brown Blind Snake (*Typhlops lumbricalis*) is found on most of the larger islands of the Bahamas, including the Abacos, Andros, the Berry Islands, Eleuthera, Cat Island, Long Island, and throughout the Exuma chain.\\\\n\\\\nThe Brown Blind Snake (*Typhlops lumbricalis*) is a small, thin snake. On Bimini, they are commonly found in rotting logs and under rocks.\\\\n', 'page_5': '# Additional Considerations\\\\n\\\\n## Brahminy Blind Snake Image\\\\n\\\\n![Brahminy Blind Snake Image](https://upload.wikimedia.org/wikipedia/commons/6/6d/Davidraju_Worm_Snake.jpg)\\\\n\\\\n*   The Brahminy Blind Snake (*Indotyphlops braminus*) has been introduced to Abaco Island in the Bahamas.\\\\n', 'page_6': '## References\\\\n\\\\n![References](https://apastyle.apa.org/images/reference-list-example-page_tcm11-332355_w1024_n.png)\\\\n\\\\n*   [https://animalia.bio/bahamian-slender-blind-snake](https://animalia.bio/bahamian-slender-blind-snake)\\\\n*   [https://en.wikipedia.org/wiki/Bahamian_slender_blind_snake](https://en.wikipedia.org/wiki/Bahamian_slender_blind-snake)\\\\n*   [https://www.hummingbirdsplus.org/nature-blog-network/the-5-types-of-snakes-found-on-the-bahamas/](https://www.hummingbirdsplus.org/nature-blog-network/the-5-types-of-snakes-found-on-the-bahamas/)\\\\n*   [https://www.biminisharklab.com/fauna-of-bimini-1/bahamian-brown-blind-snake](https://www.biminisharklab.com/fauna-of-bimini-1/bahamian-brown-blind-snake)\\\\n*   [https://journals.ku.edu/reptilesandamphibians/article/download/15667/14618](https://journals.ku.edu/reptilesandamphibians/article/download/15667/14618)\\\\n*   [https://www.researchgate.net/publication/356594219_Establishment_of_the_introduced_Brahminy_Blindsnake_Indotyphlops_braminus_on_Abaco_Island_The_Bahamas_with_notes_on_potential_niche_overlap_with_the_native_Cuban_Brown_Blindsnake_Typhlops_lumbricalis](https://www.researchgate.net/publication/356594219_Establishment_of_the_introduced_Brahminy_Blindsnake_Indotyphlops_braminus_on_Abaco_Island_The_Bahamas_with_notes_on_potential_niche_overlap_with_the_native_Cuban_Brown_Blindsnake_Typhlops_lumbricalis)\\\\n*   [https://birdwatchinghq.com/snakes-of-the-Bahamas/](https://birdwatchinghq.com/snakes-of-the-Bahamas/)\\\\n\\\\n'}\", tool_call_id='pyd_ai_66af98b6c53e4743b93325c04ee13a49', timestamp=datetime.datetime(2025, 4, 1, 15, 57, 10, 688703, tzinfo=datetime.timezone.utc), part_kind='tool-return')], kind='request'),\n",
       " ModelResponse(parts=[TextPart(content='OK. I have generated a presentation about the blind snake in the Bahamas. Here are the slides:\\n\\nPage 1: # Blind Snakes of the Bahamas\\n\\n## Overview\\n\\nThis presentation summarizes information about blind snakes found in the Bahamas.\\n\\n---\\n\\n## Species Overview\\n\\nAt least two native species of blind snakes are found in the Bahamas:\\n\\n*   Bahamian Slender Blind Snake (*Cubatyphlops biminiensis*): Endemic to the Bahamas.\\n*   Brown Blind Snake (*Typhlops lumbricalis*): Found on most of the larger islands of the Bahamas.\\n\\n---\\n\\n## Bahamian Slender Blind Snake\\n\\n*Cubatyphlops biminiensis*\\n\\n*   Member of the Typhlopidae family.\\n*   Also referred to as the Bahamian Worm Snake.\\n\\n---\\n\\n## Brown Blind Snake\\n\\n*Typhlops lumbricalis*\\n\\n*   Small, thin snake.\\n*   Commonly found in rotting logs and under rocks on Bimini.\\n\\n---\\n\\n## Additional Considerations\\n\\n*   The Brahminy Blind Snake (*Indotyphlops braminus*) has been introduced to Abaco Island in the Bahamas.\\n\\n---\\n\\n## References\\n\\n*   [animalia.bio/bahamian-slender-blind-snake](https://animalia.bio/bahamian-slender-blind-snake)\\n*   [en.wikipedia.org/wiki/Bahamian_slender_blind_snake](https://en.wikipedia.org/wiki/Bahamian_slender_blind_snake)\\n*   [hummingbirdsplus.org/nature-blog-network/the-5-types-of-snakes-found-on-the-bahamas/](https://www.hummingbirdsplus.org/nature-blog-network/the-5-types-of-snakes-found-on-the-bahamas/)\\n*   [biminisharklab.com/fauna-of-bimini-1/bahamian-brown-blind-snake](https://www.biminisharklab.com/fauna-of-bimini-1/bahamian-brown-blind-snake)\\n*   [journals.ku.edu/reptilesandamphibians/article/download/15667/14618](https://journals.ku.edu/reptilesandamphibians/article/download/15667/14618)\\n*   [researchgate.net/publication/356594219_Establishment_of_the_introduced_Brahminy_Blindsnake_Indotyphlops_braminus_on_Abaco_Island_The_Bahamas_with_notes_on_potential_niche_overlap_with_the_native_Cuban_Brown_Blindsnake_Typhlops_lumbricalis](https://www.researchgate.net/publication/356594219_Establishment_of_the_introduced_Brahminy_Blindsnake_Indotyphlops_braminus_on_Abaco_Island_The_Bahamas_with_notes_on_potential_niche_overlap_with_the_native_Cuban_Brown_Blindsnake_Typhlops_lumbricalis)\\n*   [birdwatchinghq.com/snakes-of-the-Bahamas/](https://birdwatchinghq.com/snakes-of-the-Bahamas/)\\n\\n---\\n\\n![Title Slide - Blind Snakes of the Bahamas](https://images.squarespace-cdn.com/content/v1/65eb123232042502720368fd/1738634319580-CJUM9VLI0R6QF2DAUYLU/cover.jpg)\\n\\nPage 2: # Species Overview\\n\\n## Blind Snakes of the Bahamas\\n\\nThis report summarizes information about blind snakes found in the Bahamas.\\n\\n### Species Overview\\n\\nAt least two species of blind snakes are found in the Bahamas:\\n\\n*   **Bahamian Slender Blind Snake** (*Cubatyphlops biminiensis*): This species is endemic to the Bahamas.\\n*   **Brown Blind Snake** (*Typhlops lumbricalis*): This species is found on most of the larger islands of the Bahamas, including the Abacos, Andros, the Berry Islands, Eleuthera, Cat Island, Long Island, and throughout the Exuma chain.\\n\\n### Bahamian Slender Blind Snake\\n\\nThe Bahamian slender blind snake (*Cubatyphlops biminiensis*) is a member of the Typhlopidae family. It is also referred to as the Bahamian Worm Snake.\\n\\n### Brown Blind Snake\\n\\nThe Brown Blind Snake (*Typhlops lumbricalis*) is a small, thin snake. On Bimini, they are commonly found in rotting logs and under rocks.\\n\\n### Additional Considerations\\n\\n*   The Brahminy Blind Snake (*Indotyphlops braminus*) has been introduced to Abaco Island in the Bahamas.\\n\\n![Species Overview Image](https://www.cottongen.org/sites/default/files/images/CottonGenTutorial_species_overview.jpg)\\n\\nPage 3: # Bahamian Slender Blind Snake\\n\\n## *Cubatyphlops biminiensis*\\n\\n### Bahamian Worm Snake\\n\\n![Bahamian Slender Blind Snake Image](https://inaturalist-open-data.s3.amazonaws.com/photos/13937877/original.jpeg)\\n\\nThe Bahamian slender blind snake (*Cubatyphlops biminiensis*) is a member of the Typhlopidae family. It is also referred to as the Bahamian Worm Snake.\\n\\nPage 4: # Brown Blind Snake\\n\\n## Image\\n\\n![Brown Blind Snake Image](https://media.australian.museum/media/dd/images/Anilios_nigrescens_Newcastle_Stephen_Mahony.1.width-1600.86c5352.jpg)\\n\\n## Description\\n\\nThe Brown Blind Snake (*Typhlops lumbricalis*) is found on most of the larger islands of the Bahamas, including the Abacos, Andros, the Berry Islands, Eleuthera, Cat Island, Long Island, and throughout the Exuma chain.\\n\\nThe Brown Blind Snake (*Typhlops lumbricalis*) is a small, thin snake. On Bimini, they are commonly found in rotting logs and under rocks.\\n\\nPage 5: # Additional Considerations\\n\\n## Brahminy Blind Snake Image\\n\\n![Brahminy Blind Snake Image](https://upload.wikimedia.org/wikipedia/commons/6/6d/Davidraju_Worm_Snake.jpg)\\n\\n*   The Brahminy Blind Snake (*Indotyphlops braminus*) has been introduced to Abaco Island in the Bahamas.\\n\\nPage 6: ## References\\n\\n![References](https://apastyle.apa.org/images/reference-list-example-page_tcm11-332355_w1024_n.png)\\n\\n*   [https://animalia.bio/bahamian-slender-blind-snake](https://animalia.bio/bahamian-slender-blind-snake)\\n*   [https://en.wikipedia.org/wiki/Bahamian_slender_blind_snake](https://en.wikipedia.org/wiki/Bahamian_slender_blind-snake)\\n*   [https://www.hummingbirdsplus.org/nature-blog-network/the-5-types-of-snakes-found-on-the-bahamas/](https://www.hummingbirdsplus.org/nature-blog-network/the-5-types-of-snakes-found-on-the-bahamas/)\\n*   [https://www.biminisharklab.com/fauna-of-bimini-1/bahamian-brown-blind-snake](https://www.biminisharklab.com/fauna-of-bimini-1/bahamian-brown-blind-snake)\\n*   [https://journals.ku.edu/reptilesandamphibians/article/download/15667/14618](https://journals.ku.edu/reptilesandamphibians/article/download/15667/14618)\\n*   [https://www.researchgate.net/publication/356594219_Establishment_of_the_introduced_Brahminy_Blindsnake_Indotyphlops_braminus_on_Abaco_Island_The_Bahamas_with_notes_on_potential_niche_overlap_with_the_native_Cuban_Brown_Blindsnake_Typhlops_lumbricalis](https://www.researchgate.net/publication/356594219_Establishment_of_the_introduced_Brahminy_Blindsnake_Indotyphlops_braminus_on_Abaco_Island_The_Bahamas_with_notes_on_potential_niche_overlap_with_the_native_Cuban_Brown_Blindsnake_Typhlops_lumbricalis)\\n*   [https://birdwatchinghq.com/snakes-of-the-Bahamas/](https://birdwatchinghq.com/snakes-of-the-Bahamas/)\\n', part_kind='text')], model_name='gemini-2.0-flash', timestamp=datetime.datetime(2025, 4, 1, 15, 57, 20, 435236, tzinfo=datetime.timezone.utc), kind='response')]"
      ]
     },
     "execution_count": 18,
     "metadata": {},
     "output_type": "execute_result"
    }
   ],
   "source": [
    "agent.memory.messages"
   ]
  }
 ],
 "metadata": {
  "kernelspec": {
   "display_name": ".venv",
   "language": "python",
   "name": "python3"
  },
  "language_info": {
   "codemirror_mode": {
    "name": "ipython",
    "version": 3
   },
   "file_extension": ".py",
   "mimetype": "text/x-python",
   "name": "python",
   "nbconvert_exporter": "python",
   "pygments_lexer": "ipython3",
   "version": "3.13.2"
  }
 },
 "nbformat": 4,
 "nbformat_minor": 2
}
