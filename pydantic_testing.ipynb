{
 "cells": [
  {
   "cell_type": "code",
   "execution_count": 93,
   "metadata": {},
   "outputs": [
    {
     "data": {
      "text/plain": [
       "True"
      ]
     },
     "execution_count": 93,
     "metadata": {},
     "output_type": "execute_result"
    }
   ],
   "source": [
    "from pydantic_graph import BaseNode, End, GraphRunContext, Graph\n",
    "from pydantic_ai import Agent\n",
    "from pydantic_ai.common_tools.tavily import tavily_search_tool\n",
    "from dataclasses import dataclass\n",
    "from pydantic import Field, BaseModel\n",
    "from typing import Dict, List\n",
    "from pydantic_ai.models.gemini import GeminiModel\n",
    "from pydantic_ai.providers.google_gla import GoogleGLAProvider\n",
    "from dotenv import load_dotenv\n",
    "import os\n",
    "from tavily import TavilyClient\n",
    "from IPython.display import Image, display\n",
    "\n",
    "\n",
    "load_dotenv()"
   ]
  },
  {
   "cell_type": "code",
   "execution_count": 94,
   "metadata": {},
   "outputs": [],
   "source": [
    "google_api_key=os.getenv('google_api_key')\n",
    "tavily_key=os.getenv('tavily_key')"
   ]
  },
  {
   "cell_type": "code",
   "execution_count": 95,
   "metadata": {},
   "outputs": [],
   "source": [
    "tavily_client = TavilyClient(api_key=tavily_key)"
   ]
  },
  {
   "cell_type": "code",
   "execution_count": 96,
   "metadata": {},
   "outputs": [],
   "source": [
    "llm=GeminiModel('gemini-2.0-flash', provider=GoogleGLAProvider(api_key=google_api_key))"
   ]
  },
  {
   "cell_type": "code",
   "execution_count": 97,
   "metadata": {},
   "outputs": [],
   "source": [
    "@dataclass\n",
    "class State:\n",
    "    query:str\n",
    "    preliminary_research: str\n",
    "    research_plan: List\n",
    "    research_results: List\n",
    "    validation : str\n",
    "    final: str\n",
    "\n"
   ]
  },
  {
   "cell_type": "code",
   "execution_count": 98,
   "metadata": {},
   "outputs": [],
   "source": [
    "search_agent=Agent(llm, tools=[tavily_search_tool(tavily_key)], system_prompt=\"do a websearch based on the query\")"
   ]
  },
  {
   "cell_type": "code",
   "execution_count": 99,
   "metadata": {},
   "outputs": [],
   "source": [
    "paper_gen_agent=Agent(llm, system_prompt=\"syntheze the information based on the query, preliminary_search, and search_results and provide an analysis of the information, include url sources\")"
   ]
  },
  {
   "cell_type": "code",
   "execution_count": 100,
   "metadata": {},
   "outputs": [],
   "source": [
    "@dataclass\n",
    "class PaperGen_node(BaseNode[State]):\n",
    "    async def run(self, ctx: GraphRunContext[State])->End:\n",
    "        prompt=(f'Based on this query:{ctx.state.query}, and this preliminary_search:{ctx.state.preliminary_research}, and the search_results:{ctx.state.research_results}, synthesize the information.')\n",
    "        result=await paper_gen_agent.run(prompt)\n",
    "        ctx.state.final=result.data\n",
    "        return End(result.data)\n"
   ]
  },
  {
   "cell_type": "code",
   "execution_count": 101,
   "metadata": {},
   "outputs": [],
   "source": [
    "@dataclass\n",
    "class Research_node(BaseNode[State]):\n",
    "    async def run(self, ctx: GraphRunContext[State])->PaperGen_node:\n",
    "        data=[]\n",
    "        for i in ctx.state.research_plan:\n",
    "            response = tavily_client.search(i.search_query)\n",
    "            search_results=[]\n",
    "            for i in response.get('results'):\n",
    "                if i.get('score')>0.50:\n",
    "                    search_data={'content':i.get('content'),'url':i.get('url')}\n",
    "                    search_results.append(search_data)\n",
    "            data.append(search_results)\n",
    "        ctx.state.research_results.append(data)\n",
    "        return PaperGen_node()"
   ]
  },
  {
   "cell_type": "code",
   "execution_count": 102,
   "metadata": {},
   "outputs": [],
   "source": [
    "@dataclass\n",
    "class Tasks:\n",
    "    task: str = Field(description='the task to complete')\n",
    "    search_query: str = Field(description='the detailed web search query based on the task')"
   ]
  },
  {
   "cell_type": "code",
   "execution_count": 103,
   "metadata": {},
   "outputs": [],
   "source": [
    "@dataclass\n",
    "class Research_plan:\n",
    "    Plan: List[Tasks]"
   ]
  },
  {
   "cell_type": "code",
   "execution_count": 104,
   "metadata": {},
   "outputs": [],
   "source": [
    "research_plan_agent=Agent(llm, result_type=Research_plan, system_prompt='generate a research plan based on the query and the preliminary search')"
   ]
  },
  {
   "cell_type": "code",
   "execution_count": 105,
   "metadata": {},
   "outputs": [],
   "source": [
    "@dataclass\n",
    "class Research_plan_node(BaseNode[State]):\n",
    "    async def run(self, ctx: GraphRunContext[State])->Research_node:\n",
    "        \n",
    "        prompt=(f'generate a detailed research plan breaking down the research into smaller parts based on this query:{ctx.state.query} and this preliminary_search:{ctx.state.preliminary_research}')\n",
    "        result=await research_plan_agent.run(prompt)\n",
    "        ctx.state.research_plan=result.data.Plan\n",
    "        return Research_node()\n"
   ]
  },
  {
   "cell_type": "code",
   "execution_count": 106,
   "metadata": {},
   "outputs": [],
   "source": [
    "@dataclass\n",
    "class preliminary_search_node(BaseNode[State]):\n",
    "    async def run(self, ctx: GraphRunContext[State]) -> Research_plan_node:\n",
    "        prompt = (' Do a preliminary search to get a global idea of the subject that the user wants to do reseach on as well as the necessary informations to do a search on.\\n'\n",
    "                  f'The subject is based on the query: {ctx.state.query}, return the results of the search.')\n",
    "        result=await search_agent.run(prompt)\n",
    "        ctx.state.preliminary_research=result.data\n",
    "        return Research_plan_node()\n",
    "\n"
   ]
  },
  {
   "cell_type": "code",
   "execution_count": 107,
   "metadata": {},
   "outputs": [],
   "source": [
    "graph=Graph(nodes=[preliminary_search_node, Research_plan_node, Research_node, PaperGen_node])"
   ]
  },
  {
   "cell_type": "code",
   "execution_count": 108,
   "metadata": {},
   "outputs": [],
   "source": [
    "state=State(query='what are the most popular pos companies (eg. toast) for restaurants in nyc and make a breakdown of their services and featuresa and prices', preliminary_research='', research_plan=[], research_results=[], validation='', final='')"
   ]
  },
  {
   "cell_type": "code",
   "execution_count": 109,
   "metadata": {},
   "outputs": [],
   "source": [
    "async def main():\n",
    "    res=await graph.run(preliminary_search_node(),state=state)\n",
    "    return res"
   ]
  },
  {
   "cell_type": "code",
   "execution_count": 110,
   "metadata": {},
   "outputs": [],
   "source": [
    "async def main_iter():\n",
    "    async with graph.iter(preliminary_search_node(),state=state) as run:\n",
    "        async for node in run:\n",
    "            print(node)\n",
    "\n"
   ]
  },
  {
   "cell_type": "code",
   "execution_count": 111,
   "metadata": {},
   "outputs": [
    {
     "name": "stdout",
     "output_type": "stream",
     "text": [
      "Research_plan_node()\n",
      "Research_node()\n",
      "PaperGen_node()\n",
      "End(data=\"Okay, based on the search results, here's a breakdown of popular POS systems for restaurants in NYC, including their services, features, and pricing:\\n\\n**1. Toast POS**\\n\\n*   **Popularity:**  Toast appears to be a very popular choice for restaurants, and is specifically designed for the restaurant industry.\\n*   **Key Features:**\\n    *   Online ordering.\\n    *   Digital and physical loyalty and gift card programs.\\n    *   Workforce management tools (including scheduling, payroll, and team management).\\n    *   Tableside ordering and payments.\\n    *   Digital receipts.\\n    *   Reporting and analytics.\\n    *   Menu management.\\n    *   Inventory management.\\n    *   Real-time fraud monitoring.\\n    *   Multi-location management.\\n    *   Automatic software updates.\\n    *   Offline mode.\\n    *   Employee management (tip pool calculations, onboarding).\\n    *   Website management.\\n    *   Email marketing.\\n\\n*   **Pricing:**\\n    *   Subscription-based model.\\n    *   Pricing varies based on the size of the operation, features chosen, and additional services.\\n    *   Starts at $69/month, but they also offer a free plan with limited features.\\n    *   Hardware costs are separate and Toast offers various hardware bundles.\\n    *   Complicated pricing structure, so it's important to get a customized quote.\\n\\n*   **Pros:**\\n    *   Restaurant-specific features tailored to the food service industry.\\n    *   Customizable.\\n\\n*   **Cons:**\\n    *   Potentially complicated pricing structure.\\n    *   Some sources mention potential issues with customer support.\\n\\n**2. Revel Systems**\\n\\n*   **Popularity:**  Suitable for larger restaurant businesses, franchises, and drive-thrus.\\n*   **Key Features:**\\n    *   Customizable business management platform.\\n    *   Enterprise-level reporting.\\n    *   KDS (Kitchen Display System) software.\\n    *   Inventory management.\\n    *   Online ordering.\\n    *   Customer relationship management (CRM).\\n    *   Offline mode.\\n    *   Third-party integrations.\\n\\n*   **Pricing:**\\n    *   Subscription-based.\\n    *   $99 per terminal.\\n    *   Installation fee.\\n    *   No free trial, but a free demo is available.\\n    *   Higher starting price compared to some competitors, especially for advanced plans.\\n\\n*   **Strengths: Offline mode and vast array of third-party integrations.\\n*   **Cons:**\\n    *   Higher monthly subscription fees compared to competitors.\\n\\n**3. TouchBistro**\\n\\n*   **Popularity:**  Designed specifically for restaurants and suitable for various types, including full-service, fine dining, family-style, and quick-service restaurants.\\n*   **Key Features:**\\n    *   Tableside ordering.\\n    *   Bill splitting.\\n    *   Inventory tracking.\\n    *   Menu management.\\n    *   Online ordering.\\n    *   Customer loyalty programs.\\n    *   Reservations.\\n    *   Reporting.\\n\\n*   **Pricing:**\\n    *   Monthly subscription.\\n    *   Starts at $69/month per terminal for the basic package.\\n    *   Pricing varies based on the specific requirements and features needed.\\n\\n*   **Pros:**\\n    *   User-friendly interface.\\n    *   Restaurant-specific features.\\n    *   Streamlined list of functions, making it easier to learn and navigate.\\n\\n**Key Considerations for Restaurants in NYC:**\\n\\n*   **Online Ordering:**  Essential for catering to the takeout and delivery demands of NYC diners.\\n*   **Integration:**  Consider systems that integrate with popular delivery platforms and other restaurant management tools.\\n*   **Scalability:** Choose a system that can grow with your business, especially if you have plans for expansion.\\n*   **Ease of Use:**  NYC restaurants often have high employee turnover, so a user-friendly system is crucial for quick training.\\n*   **Offline Functionality:** Given the potential for internet outages, a robust offline mode is highly valuable.\\n\\n**In summary:** Toast and TouchBistro are strong contenders for NYC restaurants due to their restaurant-specific features and relatively lower starting prices. Toast offers a comprehensive suite of features, while TouchBistro is known for its user-friendliness. Revel Systems is better suited for larger establishments with more complex needs.\\n\")\n"
     ]
    }
   ],
   "source": [
    "res=await main_iter()"
   ]
  },
  {
   "cell_type": "code",
   "execution_count": 71,
   "metadata": {},
   "outputs": [],
   "source": [
    "image=graph.mermaid_image()"
   ]
  },
  {
   "cell_type": "code",
   "execution_count": 112,
   "metadata": {},
   "outputs": [
    {
     "name": "stdout",
     "output_type": "stream",
     "text": [
      "Okay, based on the search results, here's a breakdown of popular POS systems for restaurants in NYC, including their services, features, and pricing:\n",
      "\n",
      "**1. Toast POS**\n",
      "\n",
      "*   **Popularity:**  Toast appears to be a very popular choice for restaurants, and is specifically designed for the restaurant industry.\n",
      "*   **Key Features:**\n",
      "    *   Online ordering.\n",
      "    *   Digital and physical loyalty and gift card programs.\n",
      "    *   Workforce management tools (including scheduling, payroll, and team management).\n",
      "    *   Tableside ordering and payments.\n",
      "    *   Digital receipts.\n",
      "    *   Reporting and analytics.\n",
      "    *   Menu management.\n",
      "    *   Inventory management.\n",
      "    *   Real-time fraud monitoring.\n",
      "    *   Multi-location management.\n",
      "    *   Automatic software updates.\n",
      "    *   Offline mode.\n",
      "    *   Employee management (tip pool calculations, onboarding).\n",
      "    *   Website management.\n",
      "    *   Email marketing.\n",
      "\n",
      "*   **Pricing:**\n",
      "    *   Subscription-based model.\n",
      "    *   Pricing varies based on the size of the operation, features chosen, and additional services.\n",
      "    *   Starts at $69/month, but they also offer a free plan with limited features.\n",
      "    *   Hardware costs are separate and Toast offers various hardware bundles.\n",
      "    *   Complicated pricing structure, so it's important to get a customized quote.\n",
      "\n",
      "*   **Pros:**\n",
      "    *   Restaurant-specific features tailored to the food service industry.\n",
      "    *   Customizable.\n",
      "\n",
      "*   **Cons:**\n",
      "    *   Potentially complicated pricing structure.\n",
      "    *   Some sources mention potential issues with customer support.\n",
      "\n",
      "**2. Revel Systems**\n",
      "\n",
      "*   **Popularity:**  Suitable for larger restaurant businesses, franchises, and drive-thrus.\n",
      "*   **Key Features:**\n",
      "    *   Customizable business management platform.\n",
      "    *   Enterprise-level reporting.\n",
      "    *   KDS (Kitchen Display System) software.\n",
      "    *   Inventory management.\n",
      "    *   Online ordering.\n",
      "    *   Customer relationship management (CRM).\n",
      "    *   Offline mode.\n",
      "    *   Third-party integrations.\n",
      "\n",
      "*   **Pricing:**\n",
      "    *   Subscription-based.\n",
      "    *   $99 per terminal.\n",
      "    *   Installation fee.\n",
      "    *   No free trial, but a free demo is available.\n",
      "    *   Higher starting price compared to some competitors, especially for advanced plans.\n",
      "\n",
      "*   **Strengths: Offline mode and vast array of third-party integrations.\n",
      "*   **Cons:**\n",
      "    *   Higher monthly subscription fees compared to competitors.\n",
      "\n",
      "**3. TouchBistro**\n",
      "\n",
      "*   **Popularity:**  Designed specifically for restaurants and suitable for various types, including full-service, fine dining, family-style, and quick-service restaurants.\n",
      "*   **Key Features:**\n",
      "    *   Tableside ordering.\n",
      "    *   Bill splitting.\n",
      "    *   Inventory tracking.\n",
      "    *   Menu management.\n",
      "    *   Online ordering.\n",
      "    *   Customer loyalty programs.\n",
      "    *   Reservations.\n",
      "    *   Reporting.\n",
      "\n",
      "*   **Pricing:**\n",
      "    *   Monthly subscription.\n",
      "    *   Starts at $69/month per terminal for the basic package.\n",
      "    *   Pricing varies based on the specific requirements and features needed.\n",
      "\n",
      "*   **Pros:**\n",
      "    *   User-friendly interface.\n",
      "    *   Restaurant-specific features.\n",
      "    *   Streamlined list of functions, making it easier to learn and navigate.\n",
      "\n",
      "**Key Considerations for Restaurants in NYC:**\n",
      "\n",
      "*   **Online Ordering:**  Essential for catering to the takeout and delivery demands of NYC diners.\n",
      "*   **Integration:**  Consider systems that integrate with popular delivery platforms and other restaurant management tools.\n",
      "*   **Scalability:** Choose a system that can grow with your business, especially if you have plans for expansion.\n",
      "*   **Ease of Use:**  NYC restaurants often have high employee turnover, so a user-friendly system is crucial for quick training.\n",
      "*   **Offline Functionality:** Given the potential for internet outages, a robust offline mode is highly valuable.\n",
      "\n",
      "**In summary:** Toast and TouchBistro are strong contenders for NYC restaurants due to their restaurant-specific features and relatively lower starting prices. Toast offers a comprehensive suite of features, while TouchBistro is known for its user-friendliness. Revel Systems is better suited for larger establishments with more complex needs.\n",
      "\n"
     ]
    }
   ],
   "source": [
    "print(state.final)"
   ]
  },
  {
   "cell_type": "code",
   "execution_count": 26,
   "metadata": {},
   "outputs": [
    {
     "data": {
      "image/jpeg": "[encoded data removed]",
      "text/plain": [
       "<IPython.core.display.Image object>"
      ]
     },
     "metadata": {},
     "output_type": "display_data"
    }
   ],
   "source": [
    "display(Image(image))"
   ]
  },
  {
   "cell_type": "code",
   "execution_count": 19,
   "metadata": {},
   "outputs": [
    {
     "name": "stderr",
     "output_type": "stream",
     "text": [
      "C:\\Users\\trist\\AppData\\Local\\Temp\\ipykernel_7556\\806949340.py:2: LogfireNotConfiguredWarning: No logs or spans will be created until `logfire.configure()` has been called. Set the environment variable LOGFIRE_IGNORE_NO_CONFIG=1 or add ignore_no_config=true in pyproject.toml to suppress this warning.\n",
      "  res=await graph.run(preliminary_search_node(),state=state)\n"
     ]
    },
    {
     "ename": "GraphRuntimeError",
     "evalue": "Invalid node return type: `ABCMeta`. Expected `BaseNode` or `End`.",
     "output_type": "error",
     "traceback": [
      "\u001b[31m---------------------------------------------------------------------------\u001b[39m",
      "\u001b[31mGraphRuntimeError\u001b[39m                         Traceback (most recent call last)",
      "\u001b[36mCell\u001b[39m\u001b[36m \u001b[39m\u001b[32mIn[19]\u001b[39m\u001b[32m, line 1\u001b[39m\n\u001b[32m----> \u001b[39m\u001b[32m1\u001b[39m res= \u001b[38;5;28;01mawait\u001b[39;00m main()\n\u001b[32m      2\u001b[39m res\n",
      "\u001b[36mCell\u001b[39m\u001b[36m \u001b[39m\u001b[32mIn[18]\u001b[39m\u001b[32m, line 2\u001b[39m, in \u001b[36mmain\u001b[39m\u001b[34m()\u001b[39m\n\u001b[32m      1\u001b[39m \u001b[38;5;28;01masync\u001b[39;00m \u001b[38;5;28;01mdef\u001b[39;00m\u001b[38;5;250m \u001b[39m\u001b[34mmain\u001b[39m():\n\u001b[32m----> \u001b[39m\u001b[32m2\u001b[39m     res=\u001b[38;5;28;01mawait\u001b[39;00m graph.run(preliminary_search_node(),state=state)\n\u001b[32m      3\u001b[39m     \u001b[38;5;28;01mreturn\u001b[39;00m res\n",
      "\u001b[36mFile \u001b[39m\u001b[32mc:\\Users\\trist\\OneDrive\\Desktop\\important\\ai_portfolio\\deep_research_agent\\.venv\\Lib\\site-packages\\pydantic_graph\\graph.py:169\u001b[39m, in \u001b[36mGraph.run\u001b[39m\u001b[34m(self, start_node, state, deps, persistence, infer_name, span)\u001b[39m\n\u001b[32m    164\u001b[39m     \u001b[38;5;28mself\u001b[39m._infer_name(inspect.currentframe())\n\u001b[32m    166\u001b[39m \u001b[38;5;28;01masync\u001b[39;00m \u001b[38;5;28;01mwith\u001b[39;00m \u001b[38;5;28mself\u001b[39m.iter(\n\u001b[32m    167\u001b[39m     start_node, state=state, deps=deps, persistence=persistence, span=span, infer_name=\u001b[38;5;28;01mFalse\u001b[39;00m\n\u001b[32m    168\u001b[39m ) \u001b[38;5;28;01mas\u001b[39;00m graph_run:\n\u001b[32m--> \u001b[39m\u001b[32m169\u001b[39m     \u001b[38;5;28;01masync\u001b[39;00m \u001b[38;5;28;01mfor\u001b[39;00m _node \u001b[38;5;129;01min\u001b[39;00m graph_run:\n\u001b[32m    170\u001b[39m         \u001b[38;5;28;01mpass\u001b[39;00m\n\u001b[32m    172\u001b[39m final_result = graph_run.result\n",
      "\u001b[36mFile \u001b[39m\u001b[32mc:\\Users\\trist\\OneDrive\\Desktop\\important\\ai_portfolio\\deep_research_agent\\.venv\\Lib\\site-packages\\pydantic_graph\\graph.py:782\u001b[39m, in \u001b[36mGraphRun.__anext__\u001b[39m\u001b[34m(self)\u001b[39m\n\u001b[32m    780\u001b[39m \u001b[38;5;28;01mif\u001b[39;00m \u001b[38;5;28misinstance\u001b[39m(\u001b[38;5;28mself\u001b[39m._next_node, End):\n\u001b[32m    781\u001b[39m     \u001b[38;5;28;01mraise\u001b[39;00m \u001b[38;5;167;01mStopAsyncIteration\u001b[39;00m\n\u001b[32m--> \u001b[39m\u001b[32m782\u001b[39m \u001b[38;5;28;01mreturn\u001b[39;00m \u001b[38;5;28;01mawait\u001b[39;00m \u001b[38;5;28mself\u001b[39m.next(\u001b[38;5;28mself\u001b[39m._next_node)\n",
      "\u001b[36mFile \u001b[39m\u001b[32mc:\\Users\\trist\\OneDrive\\Desktop\\important\\ai_portfolio\\deep_research_agent\\.venv\\Lib\\site-packages\\pydantic_graph\\graph.py:769\u001b[39m, in \u001b[36mGraphRun.next\u001b[39m\u001b[34m(self, node)\u001b[39m\n\u001b[32m    767\u001b[39m     \u001b[38;5;28;01mawait\u001b[39;00m \u001b[38;5;28mself\u001b[39m.persistence.snapshot_node(\u001b[38;5;28mself\u001b[39m.state, \u001b[38;5;28mself\u001b[39m._next_node)\n\u001b[32m    768\u001b[39m \u001b[38;5;28;01melse\u001b[39;00m:\n\u001b[32m--> \u001b[39m\u001b[32m769\u001b[39m     \u001b[38;5;28;01mraise\u001b[39;00m exceptions.GraphRuntimeError(\n\u001b[32m    770\u001b[39m         \u001b[33mf\u001b[39m\u001b[33m'\u001b[39m\u001b[33mInvalid node return type: `\u001b[39m\u001b[38;5;132;01m{\u001b[39;00m\u001b[38;5;28mtype\u001b[39m(\u001b[38;5;28mself\u001b[39m._next_node).\u001b[34m__name__\u001b[39m\u001b[38;5;132;01m}\u001b[39;00m\u001b[33m`. Expected `BaseNode` or `End`.\u001b[39m\u001b[33m'\u001b[39m\n\u001b[32m    771\u001b[39m     )\n\u001b[32m    773\u001b[39m \u001b[38;5;28;01mreturn\u001b[39;00m \u001b[38;5;28mself\u001b[39m._next_node\n",
      "\u001b[31mGraphRuntimeError\u001b[39m: Invalid node return type: `ABCMeta`. Expected `BaseNode` or `End`."
     ]
    }
   ],
   "source": [
    "res= await main()\n",
    "res\n"
   ]
  },
  {
   "cell_type": "code",
   "execution_count": 1,
   "metadata": {},
   "outputs": [],
   "source": [
    "from deep_research import Deep_research_engine\n"
   ]
  },
  {
   "cell_type": "code",
   "execution_count": 2,
   "metadata": {},
   "outputs": [],
   "source": [
    "research_engine=Deep_research_engine()"
   ]
  },
  {
   "cell_type": "code",
   "execution_count": 3,
   "metadata": {},
   "outputs": [
    {
     "name": "stderr",
     "output_type": "stream",
     "text": [
      "c:\\Users\\trist\\OneDrive\\Desktop\\important\\ai_portfolio\\deep_research_agent\\deep_research.py:95: LogfireNotConfiguredWarning: No logs or spans will be created until `logfire.configure()` has been called. Set the environment variable LOGFIRE_IGNORE_NO_CONFIG=1 or add ignore_no_config=true in pyproject.toml to suppress this warning.\n",
      "  response=await self.graph.run(preliminary_search_node(),state=State(query={query}, preliminary_research='', research_plan=[], research_results=[], validation='', final=''))\n"
     ]
    }
   ],
   "source": [
    "res=await research_engine.chat('what are some snake species in the bahamas near george town and which are venomous')"
   ]
  },
  {
   "cell_type": "code",
   "execution_count": 7,
   "metadata": {},
   "outputs": [
    {
     "name": "stdout",
     "output_type": "stream",
     "text": [
      "Okay, here's a synthesis of information about snakes in the Bahamas, focusing on species and venomous status, while acknowledging the lack of specific focus on George Town in the search results.\n",
      "\n",
      "**Snake Species in the Bahamas:**\n",
      "\n",
      "Based on the search results, the following snake species are found in the Bahamas:\n",
      "\n",
      "*   Blind Snake (various types, including the Bahamian Slender Blind Snake)\n",
      "*   Thread Snake\n",
      "*   Pygmy Boa ( *Tropidophis canus* is one endemic species)\n",
      "*   Brown Racer (also referred to as garden snake)\n",
      "*   Bahamian Boa Constrictor\n",
      "*   Corn Snake (invasive species)\n",
      "\n",
      "**Venomous Status:**\n",
      "\n",
      "There is conflicting information regarding venomous snakes in the Bahamas.\n",
      "\n",
      "*   Some sources claim the Brown Racer is the *only* venomous snake in the Bahamas. ([https://www.travelsafe-abroad.com/snakes-in-the-bahamas/](https://www.travelsafe-abroad.com/snakes-in-the-bahamas/))\n",
      "*   Some state there are *no* venomous snakes in the Bahamas that are harmful to humans ([https://www.travelsafe-abroad.com/snakes-in-the-bahamas/](https://www.travelsafe-abroad.com/snakes-in-the-bahamas/)).\n",
      "*   One source lists the Bahamian Boa Constrictor, Bahamian Racer, and Bahamian Blind Snake as venomous. ([https://photoguides.org/snakes-in-the-bahamas/](https://photoguides.org/snakes-in-the-bahamas/))\n",
      "*   Another source mentions the tropical rattlesnake, but that information seems questionable and requires further verification. ([https://www.berrypatchfarms.net/dangerous-animals-in-bahamas/](https://www.berrypatchfarms.net/dangerous-animals-in-bahamas/))\n",
      "\n",
      "**Important Considerations:**\n",
      "\n",
      "*   **Location Specificity:** The search results don't provide a specific list of snakes near George Town. The snake population may vary slightly from island to island within the Bahamas.\n",
      "*   **Conflicting Information:**  The venomous status of snakes in the Bahamas is unclear due to conflicting information across sources. The Brown Racer is most consistently identified as the *only* venomous snake, and some sources claim it is not harmful to humans.\n",
      "*   **Conservation:** It is illegal to harm or kill any snakes in the Bahamas.\n",
      "\n",
      "**Recommendations:**\n",
      "\n",
      "*   **Further Research:**  For a definitive list of snake species near George Town and accurate information about their venomous status, consult with local wildlife experts or herpetologists in the Bahamas.\n",
      "*   **Exercise Caution:** When in the Bahamas, it is always best to exercise caution and avoid handling snakes.\n",
      "\n"
     ]
    }
   ],
   "source": [
    "print(res.output)"
   ]
  }
 ],
 "metadata": {
  "kernelspec": {
   "display_name": ".venv",
   "language": "python",
   "name": "python3"
  },
  "language_info": {
   "codemirror_mode": {
    "name": "ipython",
    "version": 3
   },
   "file_extension": ".py",
   "mimetype": "text/x-python",
   "name": "python",
   "nbconvert_exporter": "python",
   "pygments_lexer": "ipython3",
   "version": "3.13.2"
  }
 },
 "nbformat": 4,
 "nbformat_minor": 2
}
