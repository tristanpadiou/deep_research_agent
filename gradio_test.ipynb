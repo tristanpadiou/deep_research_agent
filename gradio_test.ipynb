{
 "cells": [
  {
   "cell_type": "code",
   "execution_count": 1,
   "metadata": {},
   "outputs": [],
   "source": [
    "from main_agent import Main_agent\n",
    "import requests\n",
    "from PIL import Image\n",
    "from io import BytesIO\n",
    "import tempfile\n",
    "import os\n",
    "from spire.doc import Document,FileFormat\n",
    "from spire.doc.common import *\n",
    "import gradio as gr"
   ]
  },
  {
   "cell_type": "code",
   "execution_count": 2,
   "metadata": {},
   "outputs": [],
   "source": [
    "agent=Main_agent()"
   ]
  },
  {
   "cell_type": "code",
   "execution_count": 3,
   "metadata": {},
   "outputs": [],
   "source": [
    "def temp_image(url:str):\n",
    "    image=requests.get(url)\n",
    "    image=Image.open(BytesIO(image.content))\n",
    "    with tempfile.NamedTemporaryFile(mode='w', suffix='.png', delete=False) as temp_file:\n",
    "        image.save(temp_file.name)\n",
    "        image_file_path = temp_file.name\n",
    "    return image_file_path"
   ]
  },
  {
   "cell_type": "code",
   "execution_count": 4,
   "metadata": {},
   "outputs": [],
   "source": [
    "def paper_to_markdown(paper:dict) -> str:\n",
    "    \"\"\"\n",
    "    Convert a Paper_layout object into a markdown string.\n",
    "    \n",
    "    Args:\n",
    "        paper (Paper_layout): The paper layout to convert\n",
    "        \n",
    "    Returns:\n",
    "        str: The complete markdown document\n",
    "    \"\"\"\n",
    "    \n",
    "    markdown = []\n",
    "    \n",
    "    # Add title\n",
    "    markdown.append(\"#\" + paper.get('title'))\n",
    "    markdown.append(\"\\n\\n\")\n",
    "    if paper.get('image_url'):\n",
    "        markdown.append(f\"![Image]({paper.get('image_url')})\\n\")\n",
    "        markdown.append(\"\\n\\n\")\n",
    "    \n",
    "    # Add body sections\n",
    "    for section in paper.get('paragraphs'):\n",
    "        markdown.append(f\"## {section.get('title')}\\n\")\n",
    "        if section.get('content'):\n",
    "            markdown.append(section.get('content'))\n",
    "            markdown.append(\"\\n\")\n",
    "\n",
    "\n",
    "        markdown.append(\"\\n\\n\")\n",
    "    \n",
    "    if paper.get('table'):\n",
    "        markdown.append(paper.get('table'))\n",
    "        markdown.append(\"\\n\")\n",
    "    # Add references\n",
    "    markdown.append(\"## References\\n\")\n",
    "    markdown.append(str(paper.get('references')))\n",
    "    \n",
    "    return \"\".join(markdown)"
   ]
  },
  {
   "cell_type": "code",
   "execution_count": 5,
   "metadata": {},
   "outputs": [],
   "source": [
    "def save_markdown_as_docx(markdown:str):\n",
    "# Create a temporary file\n",
    "    with tempfile.NamedTemporaryFile(mode='w', suffix='.md', delete=False) as temp_file:\n",
    "        temp_file.write(markdown)\n",
    "        temp_file_path = temp_file.name\n",
    "\n",
    "    # Create a new document and load from the temporary files\n",
    "    document = Document()\n",
    "    document.LoadFromFile(temp_file_path)\n",
    "\n",
    "    # Save as DOCX\n",
    "    document.SaveToFile(\"output.docx\", FileFormat.Docx)\n",
    "\n",
    "    # Clean up the temporary file\n",
    "    os.unlink(temp_file_path)"
   ]
  },
  {
   "cell_type": "code",
   "execution_count": 6,
   "metadata": {},
   "outputs": [],
   "source": [
    "\n",
    "\n",
    "def reset():\n",
    "    agent.reset()\n",
    "\n",
    "research_paper=agent.deps.deep_search_results\n",
    "\n",
    "def update_markdown():\n",
    "    \"\"\"Get the current research paper markdown\"\"\"\n",
    "    if agent.deps.deep_search_results:\n",
    "        research_paper = agent.deps.deep_search_results[-1]\n",
    "        if research_paper:\n",
    "            return paper_to_markdown(research_paper)\n",
    "    return \"No research paper available yet.\"\n",
    "\n",
    "\n",
    "\n",
    "\n"
   ]
  },
  {
   "cell_type": "code",
   "execution_count": null,
   "metadata": {},
   "outputs": [
    {
     "name": "stdout",
     "output_type": "stream",
     "text": [
      "* Running on local URL:  http://127.0.0.1:7860\n",
      "\n",
      "To create a public link, set `share=True` in `launch()`.\n"
     ]
    },
    {
     "data": {
      "text/html": [
       "<div><iframe src=\"http://127.0.0.1:7860/\" width=\"100%\" height=\"500\" allow=\"autoplay; camera; microphone; clipboard-read; clipboard-write;\" frameborder=\"0\" allowfullscreen></iframe></div>"
      ],
      "text/plain": [
       "<IPython.core.display.HTML object>"
      ]
     },
     "metadata": {},
     "output_type": "display_data"
    }
   ],
   "source": [
    "with gr.Blocks() as demo:\n",
    "    gr.Markdown(\"# Research Assistant Chatbot\")\n",
    "    \n",
    "    with gr.Row():\n",
    "        with gr.Column():\n",
    "            chatbot = gr.Chatbot(type='messages')\n",
    "            msg = gr.Textbox(label=\"Your Query\")\n",
    "            with gr.Row():\n",
    "                submit_btn = gr.Button(\"Submit\")\n",
    "                reset_btn = gr.Button(\"Reset\")\n",
    "        \n",
    "        with gr.Column():\n",
    "            markdown_display = gr.Markdown(label=\"Research Paper\")\n",
    "            save_btn = gr.Button(\"Save as DOCX\")\n",
    "            save_status = gr.Textbox(label=\"Save Status\", interactive=False)\n",
    "    \n",
    "    # Function to handle chat\n",
    "    async def respond(input, history):\n",
    "        history=[]\n",
    "        response =await agent.chat(input)\n",
    "        history.append({\"role\": \"user\", \"content\": input})\n",
    "        history.append({\"role\": \"assistant\", \"content\": str(response)})\n",
    "        return\"\", history, update_markdown()\n",
    "    \n",
    "    # Function to reset the chat\n",
    "    def reset():\n",
    "        agent.reset()\n",
    "        return [], update_markdown()\n",
    "    \n",
    "    # Function to save the current markdown\n",
    "    def save():\n",
    "        current_markdown = update_markdown()\n",
    "        return save_markdown_as_docx(current_markdown)\n",
    "    \n",
    "    # Set up event handlers\n",
    "    msg.submit(respond, [msg, chatbot], [msg,chatbot,markdown_display])\n",
    "    submit_btn.click(respond, [msg, chatbot], [chatbot,markdown_display])\n",
    "    reset_btn.click(reset, [], [chatbot, markdown_display])\n",
    "    save_btn.click(save, [], [save_status])\n",
    "\n",
    "# Launch the app\n",
    "if __name__ == \"__main__\":\n",
    "    demo.launch(debug=True) "
   ]
  }
 ],
 "metadata": {
  "kernelspec": {
   "display_name": ".venv",
   "language": "python",
   "name": "python3"
  },
  "language_info": {
   "codemirror_mode": {
    "name": "ipython",
    "version": 3
   },
   "file_extension": ".py",
   "mimetype": "text/x-python",
   "name": "python",
   "nbconvert_exporter": "python",
   "pygments_lexer": "ipython3",
   "version": "3.13.2"
  }
 },
 "nbformat": 4,
 "nbformat_minor": 2
}
