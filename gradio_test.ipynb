{
 "cells": [
  {
   "cell_type": "code",
   "execution_count": 1,
   "metadata": {},
   "outputs": [],
   "source": [
    "from main_agent import Main_agent\n",
    "import requests\n",
    "from PIL import Image\n",
    "from io import BytesIO\n",
    "import tempfile\n",
    "import os\n",
    "from spire.doc import Document,FileFormat\n",
    "from spire.doc.common import *\n",
    "import gradio as gr\n",
    "import pandas as pd\n"
   ]
  },
  {
   "cell_type": "code",
   "execution_count": 2,
   "metadata": {},
   "outputs": [],
   "source": [
    "agent=Main_agent()"
   ]
  },
  {
   "cell_type": "code",
   "execution_count": 3,
   "metadata": {},
   "outputs": [],
   "source": [
    "def temp_image(url:str):\n",
    "    image=requests.get(url)\n",
    "    image=Image.open(BytesIO(image.content))\n",
    "    with tempfile.NamedTemporaryFile(mode='w', suffix='.png', delete=False) as temp_file:\n",
    "        image.save(temp_file.name)\n",
    "        image_file_path = temp_file.name\n",
    "    return image_file_path"
   ]
  },
  {
   "cell_type": "code",
   "execution_count": 4,
   "metadata": {},
   "outputs": [],
   "source": [
    "def paper_to_markdown(paper:dict) -> str:\n",
    "    \"\"\"\n",
    "    Convert a Paper_layout object into a markdown string.\n",
    "    \n",
    "    Args:\n",
    "        paper (Paper_layout): The paper layout to convert\n",
    "        \n",
    "    Returns:\n",
    "        str: The complete markdown document\n",
    "    \"\"\"\n",
    "    \n",
    "    markdown = []\n",
    "    \n",
    "    # Add title\n",
    "    markdown.append(paper.get('title'))\n",
    "    markdown.append(\"\\n\\n\")\n",
    "    if paper.get('image_url'):\n",
    "        markdown.append(f\"![Image]({paper.get('image_url')})\\n\")\n",
    "        markdown.append(\"\\n\\n\")\n",
    "    \n",
    "    # Add body sections\n",
    "    for section in paper.get('paragraphs'):\n",
    "        markdown.append(f\"## {section.get('title')}\\n\")\n",
    "        if section.get('content'):\n",
    "            markdown.append(section.get('content'))\n",
    "            markdown.append(\"\\n\")\n",
    "\n",
    "\n",
    "        markdown.append(\"\\n\\n\")\n",
    "    \n",
    "    if paper.get('table'):\n",
    "        markdown.append(pd.DataFrame(data=paper.get('table').get('data'), columns=paper.get('table').get('columns')).to_markdown())\n",
    "        markdown.append(\"\\n\\n\")\n",
    "    # Add references\n",
    "    markdown.append(\"## References\\n\")\n",
    "    markdown.append(str(paper.get('references')))\n",
    "    \n",
    "    return \"\".join(markdown)"
   ]
  },
  {
   "cell_type": "code",
   "execution_count": 5,
   "metadata": {},
   "outputs": [],
   "source": [
    "def save_markdown_as_docx(markdown:str):\n",
    "# Create a temporary file\n",
    "    with tempfile.NamedTemporaryFile(mode='w', suffix='.md', delete=False) as temp_file:\n",
    "        temp_file.write(markdown)\n",
    "        temp_file_path = temp_file.name\n",
    "\n",
    "    # Create a new document and load from the temporary files\n",
    "    document = Document()\n",
    "    document.LoadFromFile(temp_file_path)\n",
    "\n",
    "    # Save as DOCX\n",
    "    document.SaveToFile(\"output.docx\", FileFormat.Docx)\n",
    "\n",
    "    # Clean up the temporary file\n",
    "    os.unlink(temp_file_path)"
   ]
  },
  {
   "cell_type": "code",
   "execution_count": 6,
   "metadata": {},
   "outputs": [],
   "source": [
    "test_data={'title': 'Sunday App and Stripe: A Payment Strategy for Restaurants',\n",
    " 'image_url': 'https://www.menutiger.com/_next/image?url=http%3A%2F%2Fcms.menutiger.com%2Fwp-content%2Fuploads%2F2023%2F07%2Fseamless-stripe-payment-integration-for-restaurants-2.jpg&w=2048&q=75',\n",
    " 'paragraphs': [{'title': 'Introduction',\n",
    "   'content': 'Sunday is a payment solution designed to streamline the restaurant experience. Co-founded in April 2021 by Christine de Wendel, Victor Lugger, and Tigrane Seydoux, it aims to address inefficiencies in the restaurant industry by simplifying payments through QR code technology, allowing customers to quickly access their bill, split it, add a tip, and pay in seconds. Integrated with existing POS systems and partnering with payment providers like Stripe and Checkout.com, Sunday also offers features such as digital menus with customizable options, order and pay capabilities, and tools to enhance online reputation and customer engagement for restaurants.'},\n",
    "  {'title': \"Sunday's Payment Strategy\",\n",
    "   'content': \"Sunday's payment strategy focuses on streamlining the payment process in restaurants through its QR code-based system, enabling customers to pay quickly and efficiently. This approach not only simplifies payments but also reduces processing fees for restaurants through partnerships with companies like Stripe and Checkout.com. The company's payment solution is designed to integrate seamlessly with existing POS systems, offering additional features such as digital menus, order and pay capabilities, and tools to improve online reputation and customer engagement.\"},\n",
    "  {'title': 'Partnership with Stripe',\n",
    "   'content': 'On Wednesday, Sunday announced its new Order & Pay capabilities and its partnership with Stripe, which has allowed it to reduce processing fees for restaurants by an average of 0.5%. Through Stripe, Sunday processes payments via a QR code at the table, which allows customers to pay, split the bill, and add a tip quickly. Sunday is also negotiating with payment providers for better rates.'},\n",
    "  {'title': 'Stripe Integration and Fee Reduction',\n",
    "   'content': 'Sunday leverages Stripe to process payments, utilizing a QR code system for customer convenience. This partnership has enabled Sunday to reduce processing fees for restaurants by an average of 0.5%.'},\n",
    "  {'title': 'Benefits for Restaurants',\n",
    "   'content': 'Sunday offers numerous benefits for restaurants by leveraging its technology and partnerships, including Stripe. Restaurants using Sunday can experience increased efficiency through streamlined payment processes and order and pay capabilities. Sunday also helps restaurants collect valuable data and analytics, including customer insights and business analytics, which can be used to improve operations and enhance customer experience. Additionally, the integration with Stripe reduces processing fees, benefiting restaurant finances.'},\n",
    "  {'title': 'Conclusion',\n",
    "   'content': 'In conclusion, Sunday has significantly impacted restaurant payments by streamlining the payment process and reducing processing fees through its partnership with Stripe. This collaboration has enabled restaurants to enhance efficiency, improve customer experiences, and gain valuable data insights, positioning Sunday as a key player in revolutionizing the restaurant industry.'}],\n",
    " 'table': {'data': [['App Functionality',\n",
    "    'Access bill and pay in two clicks, browse the full menu.'],\n",
    "   ['Payment Processing', 'Payments processed by Stripe.'],\n",
    "   ['Stripe Agreement Benefit',\n",
    "    'Reduced processing fees for restaurants by an average of 0.5%.'],\n",
    "   ['Restaurant Benefits',\n",
    "    'More tips, more reviews, and more data for restaurants. Increased order and average basket size.'],\n",
    "   ['Point of Sale Integration',\n",
    "    'Works seamlessly with existing POS systems.'],\n",
    "   ['Payment Method', 'Guests scan a QR code to pay.'],\n",
    "   ['Additional Features',\n",
    "    'Digital menu with customizable features (scheduling, tags, extras). Options to split the bill and tip.']],\n",
    "  'columns': ['Aspect', 'Details']},\n",
    " 'references': 'https://sundayapp.com/2024-recap-how-sunday-revolutionized-restaurant-payments/, https://sundayapp.com/blog/, https://www.checkout.com/case-studies/sunday-brings-the-ease-of-online-payments-to-the-offline-dining-experience'}"
   ]
  },
  {
   "cell_type": "code",
   "execution_count": 7,
   "metadata": {},
   "outputs": [],
   "source": [
    "\n",
    "\n",
    "def reset():\n",
    "    agent.reset()\n",
    "\n",
    "def update_markdown():\n",
    "    \"\"\"Get the current research paper markdown\"\"\"\n",
    "    # if agent.deps.deep_search_results:\n",
    "    #     research_paper = agent.deps.deep_search_results[-1]\n",
    "    #     if research_paper:\n",
    "    #         return paper_to_markdown(research_paper)\n",
    "    return paper_to_markdown(test_data)\n",
    "    # return \"No research paper available yet.\"\n",
    "\n",
    "def update_dataframe():\n",
    "    # if agent.deps.table_data:\n",
    "    #     return pd.DataFrame(data=agent.deps.table_data.get('data'), columns=agent.deps.table_data.get('columns'))\n",
    "    # return \"No table data available yet.\"\n",
    "    return pd.DataFrame(data=test_data.get('table').get('data'), columns=test_data.get('table').get('columns'))\n",
    "\n"
   ]
  },
  {
   "cell_type": "code",
   "execution_count": 14,
   "metadata": {},
   "outputs": [
    {
     "name": "stdout",
     "output_type": "stream",
     "text": [
      "* Running on local URL:  http://127.0.0.1:7860\n",
      "\n",
      "To create a public link, set `share=True` in `launch()`.\n"
     ]
    },
    {
     "data": {
      "text/html": [
       "<div><iframe src=\"http://127.0.0.1:7860/\" width=\"100%\" height=\"500\" allow=\"autoplay; camera; microphone; clipboard-read; clipboard-write;\" frameborder=\"0\" allowfullscreen></iframe></div>"
      ],
      "text/plain": [
       "<IPython.core.display.HTML object>"
      ]
     },
     "metadata": {},
     "output_type": "display_data"
    },
    {
     "name": "stdout",
     "output_type": "stream",
     "text": [
      "Keyboard interruption in main thread... closing server.\n"
     ]
    }
   ],
   "source": [
    "with gr.Blocks() as demo:\n",
    "    gr.Markdown(\"# Research Assistant Chatbot\")\n",
    "    \n",
    "    with gr.Tab():\n",
    "        with gr.Column():\n",
    "            chatbot = gr.Chatbot(type='messages')\n",
    "            msg = gr.Textbox(label=\"Your Query\")\n",
    "            with gr.Row():\n",
    "                submit_btn = gr.Button(\"Submit\")\n",
    "                reset_btn = gr.Button(\"Reset\")\n",
    "\n",
    "    with gr.Tab(\"Research Paper\"):\n",
    "        \n",
    "        markdown_display = gr.Markdown(label=\"Research Paper\")\n",
    "        \n",
    "        save_btn = gr.Button(\"Save as DOCX\")\n",
    "        save_status = gr.Textbox(label=\"Save Status\", interactive=False)\n",
    "    with gr.Tab(\"Editable Table\"):\n",
    "        table_display = gr.Dataframe(label=\"Editable Table\")\n",
    "    \n",
    "    # Function to handle chat\n",
    "    async def respond(input, history):\n",
    "        history=[]\n",
    "        # response =await agent.chat(input)\n",
    "        history.append({\"role\": \"user\", \"content\": input})\n",
    "        # history.append({\"role\": \"assistant\", \"content\": str(response)})\n",
    "        history.append({\"role\": \"assistant\", \"content\": \"test\"})\n",
    "        return\"\", history, update_markdown(), update_dataframe()\n",
    "    \n",
    "    # Function to reset the chat\n",
    "    def reset():\n",
    "        agent.reset()\n",
    "        return [], update_markdown()\n",
    "    \n",
    "    # Function to save the current markdown\n",
    "    def save():\n",
    "        current_markdown = update_markdown()\n",
    "        return save_markdown_as_docx(current_markdown)\n",
    "    \n",
    "    # Set up event handlers\n",
    "    msg.submit(respond, [msg, chatbot], [msg,chatbot,markdown_display,table_display])\n",
    "    submit_btn.click(respond, [msg, chatbot], [chatbot,markdown_display,table_display])\n",
    "    reset_btn.click(reset, [], [chatbot, markdown_display,table_display])\n",
    "    save_btn.click(save, [], [save_status])\n",
    "\n",
    "# Launch the app\n",
    "if __name__ == \"__main__\":\n",
    "    demo.launch(debug=True) "
   ]
  }
 ],
 "metadata": {
  "kernelspec": {
   "display_name": ".venv",
   "language": "python",
   "name": "python3"
  },
  "language_info": {
   "codemirror_mode": {
    "name": "ipython",
    "version": 3
   },
   "file_extension": ".py",
   "mimetype": "text/x-python",
   "name": "python",
   "nbconvert_exporter": "python",
   "pygments_lexer": "ipython3",
   "version": "3.13.2"
  }
 },
 "nbformat": 4,
 "nbformat_minor": 2
}
